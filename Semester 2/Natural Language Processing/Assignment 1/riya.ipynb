{
 "cells": [
  {
   "cell_type": "code",
   "execution_count": 1,
   "id": "33186418",
   "metadata": {},
   "outputs": [],
   "source": [
    "#pip install pandas"
   ]
  },
  {
   "cell_type": "code",
   "execution_count": 2,
   "id": "e7c8cdae",
   "metadata": {},
   "outputs": [],
   "source": [
    "import pandas as pd\n",
    "import nltk\n",
    "from collections import Counter,defaultdict\n",
    "from nltk.tokenize import word_tokenize\n",
    "from nltk.corpus import stopwords\n",
    "from nltk.stem import WordNetLemmatizer\n",
    "import math\n",
    "import random\n",
    "import re\n",
    "from itertools import product\n",
    "import time"
   ]
  },
  {
   "cell_type": "code",
   "execution_count": 3,
   "id": "55a2ca8e",
   "metadata": {},
   "outputs": [
    {
     "name": "stderr",
     "output_type": "stream",
     "text": [
      "[nltk_data] Downloading package punkt_tab to\n",
      "[nltk_data]     /Users/krishna/nltk_data...\n",
      "[nltk_data]   Package punkt_tab is already up-to-date!\n",
      "[nltk_data] Downloading package stopwords to\n",
      "[nltk_data]     /Users/krishna/nltk_data...\n",
      "[nltk_data]   Package stopwords is already up-to-date!\n",
      "[nltk_data] Downloading package wordnet to /Users/krishna/nltk_data...\n",
      "[nltk_data]   Package wordnet is already up-to-date!\n"
     ]
    },
    {
     "data": {
      "text/plain": [
       "True"
      ]
     },
     "execution_count": 3,
     "metadata": {},
     "output_type": "execute_result"
    }
   ],
   "source": [
    "# Download necessary NLTK data\n",
    "nltk.download('punkt_tab')\n",
    "nltk.download('stopwords')\n",
    "nltk.download('wordnet')\n",
    "#print(\"NLTK setup completed!\")"
   ]
  },
  {
   "cell_type": "code",
   "execution_count": 4,
   "id": "4211ea3e",
   "metadata": {},
   "outputs": [],
   "source": [
    "train_path = 'data/train.csv'\n",
    "test_path = 'data/test.csv' "
   ]
  },
  {
   "cell_type": "code",
   "execution_count": 5,
   "id": "ad25e7c4",
   "metadata": {},
   "outputs": [],
   "source": [
    "# Loading training and testing dataset\n",
    "def load_dataset(train_path, test_path):\n",
    "    train_data = pd.read_csv(train_path)\n",
    "    test_data = pd.read_csv(test_path)\n",
    "    train_corpus = train_data['text'].tolist()\n",
    "    test_corpus = test_data['text'].tolist()\n",
    "    return train_data,test_data,train_corpus,test_corpus"
   ]
  },
  {
   "cell_type": "code",
   "execution_count": 6,
   "id": "071c8035",
   "metadata": {},
   "outputs": [
    {
     "name": "stdout",
     "output_type": "stream",
     "text": [
      "13879\n",
      "100\n"
     ]
    }
   ],
   "source": [
    "train_data,test_data,train_corpus,test_corpus=load_dataset(train_path, test_path)\n",
    "\n",
    "print(len(train_data))\n",
    "print(len(test_data))"
   ]
  },
  {
   "cell_type": "code",
   "execution_count": 40,
   "id": "7baaebc0",
   "metadata": {},
   "outputs": [],
   "source": [
    "def display_dataset_summaries(train_data,test_data):\n",
    "    print(\"train Data:\")\n",
    "    print(train_data.head())\n",
    "    print(f\"Shape: {train_data.shape}\")\n",
    "    print(\"\\ntest Data:\")\n",
    "    print(test_data.head())\n",
    "    print(f\"Shape:{test_data.shape}\")"
   ]
  },
  {
   "cell_type": "code",
   "execution_count": 41,
   "id": "90844e77",
   "metadata": {},
   "outputs": [],
   "source": [
    "#display_dataset_summaries(train_data, test_data)"
   ]
  },
  {
   "cell_type": "code",
   "execution_count": 42,
   "id": "8a5260e3",
   "metadata": {},
   "outputs": [],
   "source": [
    "#preprocessing\n",
    "def preprocess_text(text):\n",
    "    if isinstance(text, list):  \n",
    "        text = ' '.join(text)\n",
    "    text =re.sub(r'[^\\x00-\\x7F]+', ' ', text)       #remove non-ASCII\n",
    "    text =re.sub(r'[^\\w\\s]', ' ', text)             #remove punctuation\n",
    "    tokens = word_tokenize(text.lower())            #tokenize and lowercase\n",
    "    stop_words = set(stopwords.words('english'))    #stopwords removal\n",
    "    lemmatizer = WordNetLemmatizer()                #lemmatization\n",
    "    tokens = [lemmatizer.lemmatize(word) for word in tokens]\n",
    "    tokens = [word for word in tokens if word not in stop_words]\n",
    "    return tokens"
   ]
  },
  {
   "cell_type": "code",
   "execution_count": 43,
   "id": "5b4812fa",
   "metadata": {},
   "outputs": [],
   "source": [
    "#spliting validation set from training set\n",
    "def split_validation_set(train_corpus, validation_size=100):\n",
    "    random.shuffle(train_corpus)\n",
    "    validation_corpus =train_corpus[:validation_size]\n",
    "    train_corpus=train_corpus[validation_size:]\n",
    "    return train_corpus, validation_corpus"
   ]
  },
  {
   "cell_type": "code",
   "execution_count": 44,
   "id": "b0db6c0c",
   "metadata": {},
   "outputs": [
    {
     "name": "stdout",
     "output_type": "stream",
     "text": [
      "Validation Corpus Sample:\n",
      "['Montenegro (; , , , ; ) is a country in Southeastern Europe. It is located on the Adriatic Sea and is a part of the Balkans, sharing borders with Serbia to the northeast, Bosnia and Herzegovina to the north and west, Kosovo to the east, Albania to the southeast, the Adriatic Sea and Croatia to the southwest, and maritime boundary with Italy. Podgorica, the capital and largest city, covers 10.4% of Montenegro\\'s territory of , and is home to roughly 30% of its total population of 621,000.\\n\\nDuring the Early Medieval period, three principalities were located on the territory of modern-day Montenegro: Duklja, roughly corresponding to the southern half; Travunia, the west; and Rascia proper, the north. The Principality of Zeta emerged in the 14th and 15th centuries. From the late 14th century to the late 18th century, large parts of southern Montenegro were ruled by the Venetian Republic and incorporated into Venetian Albania. The name Montenegro was first used to refer to the country in the late 15th century. After falling under Ottoman rule, Montenegro regained its independence in 1696 under the rule of the House of Petrović-Njegoš, first as a theocracy and later as a secular principality. Montenegro\\'s independence was recognised by the Great Powers at the Congress of Berlin in 1878. In 1910, the country became a kingdom.\\n\\nAfter World War I, the kingdom became part of Yugoslavia. Following the breakup of Yugoslavia, the republics of Serbia and Montenegro together proclaimed a federation. Following an independence referendum held in May 2006, Montenegro declared its independence and the confederation peacefully dissolved.\\n\\nMontenegro has an upper middle-income economy and ranks 48th in the Human Development Index. It is a member of the United Nations, NATO, the World Trade Organization, the Organization for Security and Co-operation in Europe, the Council of Europe, and the Central European Free Trade Agreement. Montenegro is also a founding member of the Union for the Mediterranean, and is currently in the process of joining the European Union.\\n\\nEtymology \\n\\nThe country\\'s English name derives from Venetian and translates as \"Black Mountain\", deriving from the appearance of Mount Lovćen when covered in dense evergreen forests. The first written mention of Montenegro in Cyrillic was in the Charter of King Milutin of 1276. In Italian sources, the name of Montenegro was mentioned for the first in its original form Crna Gora in 1348, and in 1379 it is mentioned as Cernagora in the sources from Dubrovnik. In other Italian sources Montenegro is also mentioned as Montagna Negra, Montenegro or Monte Negro and therefrom this designation came into all Western European languages. In the monuments of Kotor, Montenegro was mentioned as Montenegro in 1397, as Monte Nigro in 1443 and as Crna Gora in 1435 and 1458, but there are much older papers of Latin sources where Montenegro is mentioned as Monte nigro. The first mention of Montenegro (Latin) dates to 9 November 1053 and the others date to 1061, 1097, 1121, 1125, 1144, 1154, 1179 and 1189.\\n\\nThe native name Crna Gora, also meaning \"black mountain\" or \"black hill\", was mentioned for the first time in a charter issued by Stefan Milutin. It came to denote the majority of contemporary Montenegro in the 15th century. Originally, it had referred to only a small strip of land under the rule of the Paštrovići tribe, but the name eventually came to be used for the wider mountainous region after the Crnojević noble family took power in Upper Zeta. The aforementioned region became known as Stara Crna Gora \\'Old Montenegro\\' by the 19th century to distinguish the independent region from the neighbouring Ottoman-occupied Montenegrin territory of Brda \\'(The) Highlands\\'. Montenegro further increased its size several times by the 20th century, as the result of wars against the Ottoman Empire, which saw the annexation of Old Herzegovina and parts of Metohija and southern Raška. Its borders have changed little since then, losing Metohija and gaining the Bay of Kotor.\\n\\nAfter the second session of the AVNOJ during World War II in Yugoslavia, the contemporary modern state of Montenegro was founded as the Federal State of Montenegro (Montenegrin: Савезна држава Црне Горе / Savezna država Crne Gore) on 15 November 1943 within the Yugoslav Federation by the ZAVNOCGB. After the war, Montenegro became a republic under its name, the People\\'s Republic of Montenegro (Montenegrin: Народна Република Црна Гора / Narodna Republika Crna Gora) on 29 November 1945. In 1963, it was renamed to the Socialist Republic of Montenegro  (Montenegrin: Социјалистичка Република Црна Гора / Socijalistička Republika Crna Gora). As the breakup of Yugoslavia occurred, the SRCG was renamed to the Republic of Montenegro (Montenegrin: Република Црна Гора / Republika Crna Gora) on 27 April 1992 within the Federal Republic of Yugoslavia by removing the adjective \"socialist\" from the republic\\'s title. Since 22 October 2007, a year after its independence, the name of the country became simply known as Montenegro.\\n\\nThe ISO Alpha-2 code for Montenegro is ME and the Alpha-3 Code is MNE.\\n\\nHistory\\n\\nArrival of the Slavs \\n\\nThree Slavic principalities were located on the territory: Duklja, roughly corresponding to the southern half, Travunia, the west, and Raška, the north. Duklja gained its independence from the Byzantine Roman Empire in 1042. Over the next few decades, it expanded its territory to neighbouring Rascia and Bosnia, and also became recognised as a kingdom. Its power started declining at the beginning of the 12th century. After King Bodin\\'s death (in 1101 or 1108), several civil wars ensued. Duklja reached its zenith under Vojislav\\'s son, Mihailo (1046–81), and his grandson Constantine Bodin (1081–1101).\\n\\nAs the nobility fought for the throne, the kingdom was weakened, and by 1186, the territory of modern-day Montenegro became part of the state ruled by Stefan Nemanja and was a part of various state formations ruled by the Nemanjić dynasty for the next two centuries. After the Serbian Empire collapsed in the second half of the 14th century, the most powerful Zetan family, the Balšićs, became sovereigns of Zeta.\\n\\nBy the 13th century, Zeta had replaced Duklja when referring to the realm. In the late 14th century, southern Montenegro (Zeta) came under the rule of the Balšić noble family, then the Crnojević noble family, and by the 15th century, Zeta was more often referred to as Crna Gora (Venetian: ).\\n\\nIn 1421, Zeta was annexed to the Serbian Despotate, but after 1455, another noble family from Zeta, the Crnojevićs, became sovereign rulers of the country, making it the last free monarchy of the Balkans before it fell to the Ottomans in 1496, and got annexed to the sanjak of Shkodër. During the reign of Crnojevićs, Zeta became known under its current name\\xa0– Montenegro. For a short time, Montenegro existed as a separate autonomous sanjak in 1514–1528 (Sanjak of Montenegro). Also, Old Herzegovina region was part of Sanjak of Herzegovina.\\n\\nEarly modern period \\n\\nFrom 1392, numerous parts of the territory that is now Montenegro were controlled by Republic of Venice, including the city of Budva, in that time known as \"Budua\". The Venetian territory was centred on the Bay of Kotor, and the Republic also introduced governors who meddled in Montenegrin politics. Venice would control territories in present-day Montenegro until its fall in 1797.\\n\\nLarge portions fell under the control of the Ottoman Empire from 1496 to 1878. In the 16th century, Montenegro developed a unique form of autonomy within the Ottoman Empire permitting Montenegrin clans freedom from certain restrictions. Nevertheless, the Montenegrins were disgruntled with Ottoman rule, and in the 17th century, raised numerous rebellions, which culminated in the defeat of the Ottomans in the Great Turkish War at the end of that century.\\n\\nMontenegro consisted of territories controlled by warlike clans. Most clans had a chieftain (knez), who was not permitted to assume the title unless he proved to be as worthy a leader as his predecessor. The great assembly of Montenegrin clans (Zbor) was held every year on 12 July in Cetinje, and any adult clansman could take part. In 1515, Montenegro became a theocracy led by the Metropolitanate of Montenegro and the Littoral, which flourished after the Petrović-Njegoš of Cetinje became the traditional prince-bishops (whose title was \"Vladika of Montenegro\").\\n\\nPeople from Montenegro in this historical period have been described as Orthodox Serbs.\\n\\nPrincipality and Kingdom of Montenegro \\n\\nIn 1858, one of the major Montenegrin victories over the Ottomans occurred at the Battle of Grahovac. Grand Duke Mirko Petrović, elder brother of Knjaz Danilo, led an army of 7,500 and defeated the numerically superior Ottomans with 15,000 troops at Grahovac on 1 May 1858. This forced the Great Powers to officially demarcate the borders between Montenegro and Ottoman Empire, de facto recognizing Montenegro\\'s independence.\\n\\nIn the Battle of Vučji Do Montenegrins inflicted major defeat to the Ottoman Army under Grand Vizier Ahmed Muhtar Pasha. In the aftermath of the Russian victory against the Ottoman Empire in the Russo-Turkish War of 1877–1878, the major powers restructured the map of the Balkan region. The Ottoman Empire recognised the independence of Montenegro in the Treaty of Berlin in 1878.\\n\\nThe first Montenegrin constitution (also known as the Danilo Code) was proclaimed in 1855.\\nUnder Nicholas I (ruled 1860–1918), the principality was enlarged several times in the Montenegro-Turkish Wars and was recognised as independent in 1878. Nicholas I established diplomatic relations with the Ottoman Empire. \\n\\nMinor border skirmishes excepted, diplomacy ushered in about 30 years of peace between the two states until the deposition of Abdul Hamid II in 1909.\\n\\nThe political skills of Abdul Hamid II and Nicholas I played a major role in the mutually amicable relations. Modernization of the state followed, culminating with the draft of a Constitution in 1905. However, political rifts emerged between the reigning People\\'s Party, who supported the process of democratisation and union with Serbia, and those of the True People\\'s Party, who were monarchist.\\n\\nIn 1910, Montenegro became a kingdom, and as a result of the Balkan wars in 1912 and 1913, a common border with Serbia was established, with Shkodër being awarded to Albania, though the current capital city of Montenegro, Podgorica, was on the old border of Albania and Yugoslavia. Montenegro became one of the Allied Powers during World War I (1914–18). In the Battle of Mojkovac fought in January 1916 between Austria-Hungary and the Kingdom of Montenegro, Montenegrins achieved decisive victory despite being outnumbered five to one. From 1916 to October 1918 Austria-Hungary occupied Montenegro. During the occupation, King Nicholas fled the country and a government-in-exile was set up in Bordeaux.\\n\\nKingdom of Yugoslavia \\n\\nIn 1922, Montenegro formally became the Oblast of Cetinje in the Kingdom of Serbs, Croats and Slovenes, with the addition of the coastal areas around Budva and Bay of Kotor. In a further restructuring in 1929, it became a part of a larger Zeta Banate of the Kingdom of Yugoslavia that reached the Neretva River.\\n\\nNicholas\\'s grandson, the Serb King Alexander I, dominated the Yugoslav government. Zeta Banovina was one of nine banovinas that formed the kingdom; it consisted of the present-day Montenegro and parts of Serbia, Croatia, and Bosnia.\\n\\nWorld War II and Socialist Yugoslavia \\n\\nIn April 1941, Nazi Germany, the Kingdom of Italy, and other Axis allies attacked and occupied the Kingdom of Yugoslavia. Italian forces occupied Montenegro and established it as a puppet Kingdom of Montenegro.\\n\\nIn May, the Montenegrin branch of the Communist Party of Yugoslavia started preparations for an uprising planned for mid-July. The Communist Party and its Youth League organised 6,000 of its members into detachments prepared for guerrilla warfare. According to some historians, the first armed uprising in Nazi-occupied Europe happened on 13 July 1941 in Montenegro.\\n\\nUnexpectedly, the uprising took hold, and by 20 July, 32,000 men and women had joined the fight. Except for the coast and major towns (Podgorica, Cetinje, Pljevlja, and Nikšić), which were besieged, Montenegro was mostly liberated. In a month of fighting, the Italian army suffered 5,000 dead, wounded, and captured. The uprising lasted until mid-August, when it was suppressed by a counter-offensive of 67,000 Italian troops brought in from Albania. Faced with new and overwhelming Italian forces, many of the fighters laid down their arms and returned home. Nevertheless, intense guerrilla fighting lasted until December.\\n\\nFighters who remained under arms fractured into two groups. Most of them went on to join the Yugoslav Partisans, consisting of communists and those inclined towards active resistance; these included Arso Jovanović, Sava Kovačević, Svetozar Vukmanović-Tempo, Milovan Đilas, Peko Dapčević, Vlado Dapčević, Veljko Vlahović, and Blažo Jovanović. Those loyal to the Karađorđević dynasty and opposing communism went on to become Chetniks, and turned to collaboration with Italians against the Partisans.\\n\\nWar broke out between Partisans and Chetniks during the first half of 1942. Pressured by Italians and Chetniks, the core of the Montenegrin Partisans went to Serbia and Bosnia, where they joined with other Yugoslav Partisans. Fighting between Partisans and Chetniks continued through the war. Chetniks with Italian backing controlled most of the country from mid-1942 to April 1943. Montenegrin Chetniks received the status of \"anti-communist militia\" and received weapons, ammunition, food rations, and money from Italy. Most of them were moved to Mostar, where they fought in the Battle of Neretva against the Partisans, but were dealt a heavy defeat.\\n\\nDuring the German operation Schwartz against the Partisans in May and June 1943, Germans disarmed a large number of Chetniks without fighting, as they feared they would turn against them in case of an Allied invasion of the Balkans. After the capitulation of Italy in September 1943, Partisans managed to take hold of most of Montenegro for a brief time, but Montenegro was soon occupied by German forces, and fierce fighting continued during late 1943 and entire 1944. Montenegro was liberated by the Partisans in December 1944.\\n\\nMontenegro became one of the six constituent republics of the communist Socialist Federal Republic of Yugoslavia (SFRY). Its capital became Podgorica, renamed Titograd in honour of President Josip Broz Tito. After the war, the infrastructure of Yugoslavia was rebuilt, industrialization began, and the University of Montenegro was established. Greater autonomy was established until the Socialist Republic of Montenegro ratified a new constitution in 1974.\\n\\nMontenegro within FR Yugoslavia \\n\\nAfter the dissolution of the SFRY in 1992, Montenegro remained part of a smaller Federal Republic of Yugoslavia along with Serbia.\\nIn the referendum on remaining in Yugoslavia in 1992, the turnout was 66%, with 96% of the votes cast in favour of the federation with Serbia. The referendum was boycotted by the Muslim, Albanian, and Catholic minorities, as well as the pro-independence Montenegrins. The opponents claimed that the poll was organised under anti-democratic conditions with widespread propaganda from the state-controlled media in favour of a pro-federation vote. No impartial report on the fairness of the referendum was made, as it was unmonitored, unlike in a later 2006 referendum when European Union observers were present.\\n\\nDuring the 1991–1995 Bosnian War and Croatian War, Montenegrin police and military forces joined Serbian troops in the attacks on Dubrovnik, Croatia. These operations, aimed at acquiring more territory, were characterised by a consistent pattern of large-scale violations of human rights.\\n\\nMontenegrin General Pavle Strugar was convicted for his part in the bombing of Dubrovnik.\\nBosnian refugees were arrested by Montenegrin police and transported to Serb camps in Foča, where they were subjected to systematic torture and executed.\\n\\nIn 1996, Milo Đukanović\\'s government severed ties between Montenegro and its partner Serbia, which was led by Slobodan Milošević. Montenegro formed its own economic policy and adopted the German Deutsche Mark as its currency and subsequently adopted the euro, although not part of the Eurozone. Subsequent governments pursued pro-independence policies, and political tensions with Serbia simmered despite the political changes in Belgrade.\\n\\nTargets in Montenegro were bombed by NATO forces during Operation Allied Force in 1999, although the extent of these attacks was limited in both time and area affected.\\n\\nIn 2002, Serbia and Montenegro came to a new agreement for continued cooperation and entered into negotiations regarding the future status of the Federal Republic of Yugoslavia. This resulted in the Belgrade Agreement, which saw the country\\'s transformation into a more decentralised state union named Serbia and Montenegro in 2003. The Belgrade Agreement also contained a provision delaying any future referendum on the independence of Montenegro for at least three years.\\n\\nIndependence \\n\\nThe status of the union between Montenegro and Serbia was decided by a referendum on Montenegrin independence on 21 May 2006. A total of 419,240 votes were cast, representing 86.5% of the total electorate; 230,661 votes (55.5%) were for independence and 185,002 votes (44.5%) were against. This narrowly surpassed the 55% threshold needed to validate the referendum under the rules set by the European Union. According to the electoral commission, the 55% threshold was passed by only 2,300 votes. Serbia, the member-states of the European Union, and the permanent members of the United Nations Security Council all recognised Montenegro\\'s independence.\\n\\nThe 2006 referendum was monitored by five international observer missions, headed by an OSCE/ODIHR team, and around 3,000 observers in total (including domestic observers from CDT (OSCE PA), the Parliamentary Assembly of the Council of Europe (PACE), the Congress of Local and Regional Authorities of the Council of Europe (CLRAE), and the European Parliament (EP) to form an International Referendum Observation Mission (IROM). The IROM—in its preliminary report—\"assessed compliance of the referendum process with OSCE commitments, Council of Europe commitments, other international standards for democratic electoral processes, and domestic legislation.\" Furthermore, the report stated that the competitive pre-referendum environment was marked by an active and generally peaceful campaign and that \"there were no reports of restrictions on fundamental civil and political rights.\"\\n\\nOn 3 June 2006, the Montenegrin Parliament declared the independence of Montenegro, formally confirming the result of the referendum.\\n\\nOn 28 June 2006, Montenegro joined the United Nations as 192nd member state.\\n\\nThe Law on the Status of the Descendants of the Petrović Njegoš Dynasty was passed by the Parliament of Montenegro on 12 July 2011. It rehabilitated the Royal House of Montenegro and recognised limited symbolic roles within the constitutional framework of the republic.\\n\\nIn 2015, the investigative journalists\\' network OCCRP named Montenegro\\'s long-time President and Prime Minister Milo Đukanović \"Person of the Year in Organized Crime\". The extent of Đukanović\\'s corruption led to street demonstrations and calls for his removal.\\n\\nIn October 2016, for the day of the parliamentary election, a coup d\\'état was prepared by a group of persons that included leaders of the Montenegrin opposition, Serbian nationals and Russian agents; the coup was prevented. In 2017, fourteen people, including two Russian nationals and two Montenegrin opposition leaders, Andrija Mandić and Milan Knežević, were indicted for their alleged roles in the coup attempt on charges such as \"preparing a conspiracy against the constitutional order and the security of Montenegro\" and an \"attempted terrorist act.\"\\n\\nRecent history \\n\\nMontenegro formally became a member of NATO in June 2017, though \"Montenegro remains deeply divided over joining NATO\", an event that triggered a promise of retaliatory actions on the part of Russia\\'s government.\\n\\nMontenegro has been in negotiations with the EU since 2012. In 2018, the earlier goal of acceding by 2022 was revised to 2025.\\n\\nThe Montenegrin anti-corruption protests began in February 2019 against the incumbent President Milo Đukanović and the Prime Minister Duško Marković-led government of the ruling Democratic Party of Socialists (DPS), which has been in power since 1991.\\n\\nAs of late December 2019, the newly adopted Law on Religion, which de jure transfers the ownership of church buildings and estates built before 1918 from the Serbian Orthodox Church to the Montenegrin state, sparked a series of large protests followed with road blockages. Seventeen opposition Democratic Front MPs were arrested prior to the voting for disrupting the vote. Demonstrations continued into March 2020 as peaceful protest walks, mostly organised by the Metropolitanate of Montenegro and the Littoral and the Eparchy of Budimlja and Nikšić in the majority of Montenegrin municipalities.\\n\\nIn its political rights and civil liberties worldwide report in May 2020, Freedom House marked Montenegro as a hybrid regime rather than a democracy because of declining standards in governance, justice, elections, and media freedom. For the first time in three decades, in the 2020 parliamentary election, the opposition won more votes than Đukanović\\'s ruling party.\\n\\nGeography \\n\\nMontenegro ranges from high peaks along its borders with Serbia, Kosovo, and Albania, a segment of the Karst of the western Balkan Peninsula, to a narrow coastal plain that is only  wide. The plain stops abruptly in the north, where Mount Lovćen and Mount Orjen plunge into the inlet of the Bay of Kotor.\\n\\nMontenegro\\'s large karst region lies generally at elevations of  above sea level; some parts, however, rise to , such as Mount Orjen (), the highest massif among the coastal limestone ranges. The Zeta River valley, at an elevation of , is the lowest segment.\\n\\nThe mountains of Montenegro include some of the most rugged terrains in Europe, averaging more than  in elevation. One of the country\\'s notable peaks is Bobotov Kuk in the Durmitor mountains, which reaches a height of . Owing to the hyperhumid climate on their western sides, the Montenegrin mountain ranges were among the most ice-eroded parts of the Balkan Peninsula during the last glacial period.\\n\\nInternationally, Montenegro borders Serbia, Bosnia and Herzegovina, Kosovo, Albania and Croatia . It lies between latitudes 41° and 44°N, and longitudes 18° and 21°E.\\n\\n Longest beach: Velika Plaža, Ulcinj\\xa0– \\n Highest peak: Zla Kolata, Prokletije at \\n Largest lake: Skadar Lake\\xa0–  of surface area\\n Deepest canyon: Tara River Canyon\\xa0– \\n Biggest bay: Bay of Kotor\\xa0– \\n Deepest cave: Iron Deep , exploring started in 2012, now more than  long\\n\\nMontenegro is a member of the International Commission for the Protection of the Danube River, as more than  of the country\\'s territory lie within the Danube catchment area.\\n\\nBiodiversity \\n\\nThe diversity of the geological base, landscape, climate, and soil, and the position of Montenegro on the Balkan Peninsula and Adriatic Sea, created the conditions for high biological diversity, putting Montenegro among the \"hot-spots\" of European and world biodiversity. The number of species per area unit index in Montenegro is 0.837, which is the highest index recorded in any European country.\\n\\nBiological estimates suggest that over 1,200 species of freshwater algae, 300 species of marine algae, 589 species of moss, 7,000-8,000 species of vascular plants, 2,000 species of fungi, 16,000-20,000 species of insects, 407 species of marine fish, 56 species of reptile, 333 species of regularly visiting birds and a high species diversity of mammals are found in Montenegro.\\n\\nMontenegro can be divided into two main biogeographic regions, which include the Mediterranean Biogeographic Region and the Alpine Biogeographic Region. It is also home to three terrestrial ecoregions: Balkan mixed forests, Dinaric Mountains mixed forests, and Illyrian deciduous forests. It had a 2019 Forest Landscape Integrity Index mean score of 6.41/10, ranking it 73rd globally out of 172 countries.\\n\\nThe total share of protected areas in Montenegro is 9.05% of the country\\'s area, which mainly comes from the five national parks of Montenegro.\\n\\nGovernment and politics \\n\\nThe Constitution of Montenegro describes the state as a \"civic, democratic, ecological state of social justice, based on the reign of Law.\" Montenegro is an independent and sovereign republic that proclaimed its new constitution on 22 October 2007.\\n\\nThe President of Montenegro is the head of state, elected for a period of five years through direct elections. The President represents the country abroad, promulgates laws by ordinance, calls elections for the Parliament, and proposes candidates for Prime Minister, president and justices of the Constitutional Court to the Parliament. The President also proposes the calling of a referendum to Parliament, grants amnesty for criminal offences prescribed by the national law, confers decoration and awards and performs other constitutional duties and is a member of the Supreme Defence Council. The official residence of the President is in Cetinje.\\n\\nThe Government of Montenegro is the executive branch of government authority of Montenegro. The government is headed by the Prime Minister and consists of the deputy prime ministers as well as ministers.\\n\\nThe Parliament of Montenegro is a unicameral legislative body. It passes laws, ratifies treaties, appoints the Prime Minister, ministers, and justices of all courts, adopts the budget and performs other duties as established by the Constitution. Parliament can pass a vote of no-confidence in the Government by a simple majority. One representative is elected per 6,000 voters.\\n\\nIn 2019, the Freedom House reported that years of increasing state capture, abuse of power, and strongman tactics employed by the President Đukanović have tipped his country over the edge – for the first time since 2003, Montenegro is no longer categorised as democracy and became a hybrid regime. The DPS narrowly lost the 2020 Montenegrin parliamentary election, ending its 30-year rule.\\n\\nForeign relations \\n\\nAfter the promulgation of the Declaration of Independence in the Parliament of the Republic of Montenegro on 3 June 2006, following the independence referendum held on 21 May, the Government of the Republic of Montenegro assumed the competencies of defining and conducting the foreign policy of Montenegro as a subject of international law and a sovereign state. The implementation of this constitutional responsibility was vested in the Ministry of Foreign Affairs, which was given the task of defining the foreign policy priorities and activities needed for their implementation.\\n\\nThese activities are pursued in close cooperation with other state administration authorities, the President, the Speaker of the Parliament, and other relevant stakeholders.\\n\\nIntegration into the European Union is Montenegro\\'s strategic goal. This process will remain in the focus of Montenegrin foreign policy in the short term.\\nThe second strategic and equally important goal, but one attainable in a shorter time span, was joining NATO, which would guarantee stability and security for pursuing other strategic goals. Montenegro believes NATO integration would speed up EU integration. In May 2017 NATO accepted Montenegro as a NATO member starting 5 June 2017.\\n\\nSymbols \\n\\nAn official flag of Montenegro, based on the royal standard of King Nicholas I, was adopted on 12 July 2004 by the Montenegrin legislature. This royal flag was red with a silver border, a silver coat of arms, and the initials НІ, in Cyrillic script (corresponding to NI in Latin script), representing King Nicholas I. On the current flag, the border and arms are in gold and the royal cipher in the centre of the arms has been replaced with a golden lion.\\n\\nThe national day of 13 July marks the date in 1878 when the Congress of Berlin recognised Montenegro as the 27th independent state in the world and the start of one of the first popular uprisings in Europe against the Axis Powers on 13 July 1941 in Montenegro.\\n\\nIn 2004, the Montenegrin legislature selected a popular Montenegrin traditional song, \"Oh, Bright Dawn of May\", as the national anthem. Montenegro\\'s official anthem during the reign of King Nicholas I was Ubavoj nam Crnoj Gori (\"To Our Beautiful Montenegro\").\\n\\nMilitary \\n\\nThe military of Montenegro is a fully professional standing army under the Ministry of Defence and is composed of the Montenegrin Ground Army, the Montenegrin Navy, and the Montenegrin Air Force, along with special forces. Conscription was abolished in 2006. The military currently maintains a force of 1,920 active duty members. The bulk of its equipment and forces were inherited from the armed forces of the State Union of Serbia and Montenegro; as Montenegro contained the entire coastline of the former union, it retained practically the entire naval force.\\n\\nMontenegro was a member of NATO\\'s Partnership for Peace program and then became an official candidate for full membership in the alliance. Montenegro applied for a Membership Action Plan on 5 November 2008, which was granted in December 2009. Montenegro is also a member of Adriatic Charter. Montenegro was invited to join NATO on 2 December 2015 and on 19 May 2016, NATO and Montenegro conducted a signing ceremony at NATO headquarters in Brussels for Montenegro\\'s membership invitation. Montenegro became NATO\\'s 29th member on 5 June 2017, despite Russia\\'s objections. The government plans to have the army participate in peacekeeping missions through the UN and NATO such as the International Security Assistance Force.\\n\\nAdministrative divisions \\n\\nMontenegro is divided into twenty-four municipalities (opština). This includes 21 District-level Municipalities and 2 Urban Municipalities, with two subdivisions of Podgorica municipality, listed below.  Each municipality can contain multiple cities and towns.  Historically, the territory of the country was divided into \"nahije\".\\n\\nEconomy \\n\\nThe economy of Montenegro is mostly service-based and is in late transition to a market economy. According to the International Monetary Fund, the nominal GDP of Montenegro was $5.424\\xa0billion in 2019. The GDP PPP for 2019 was $12.516\\xa0billion, or $20,083 per capita. According to Eurostat data, the Montenegrin GDP per capita stood at 48% of the EU average in 2018. The Central Bank of Montenegro is not part of the euro system but the country is \"euroised\", using the euro unilaterally as its currency.\\n\\nGDP grew at 10.7% in 2007 and 7.5% in 2008. The country entered a recession in 2008 as a part of the global recession, with GDP contracting by 4%. However, Montenegro remained a target for foreign investment, the only country in the Balkans to increase its amount of direct foreign investment. The country exited the recession in mid-2010, with GDP growth at around 0.5%. However, the significant dependence of the Montenegrin economy on foreign direct investment leaves it susceptible to external shocks and a high export/import trade deficit.\\n\\nIn 2007, the service sector made up 72.4% of GDP, with industry and agriculture making up the rest at 17.6% and 10%, respectively. There are 50,000 farming households in Montenegro that rely on agriculture to fill the family budget.\\n\\nInfrastructure \\n\\nThe Montenegrin road infrastructure is not yet at Western European standards. Despite an extensive road network, no roads are built to full motorway standards. Construction of new motorways is considered a national priority, as they are important for uniform regional economic development and the development of Montenegro as an attractive tourist destination.\\n\\nCurrent European routes that pass through Montenegro are E65 and E80.\\n\\nThe backbone of the Montenegrin rail network is the Belgrade–Bar railway, which provides international connection towards Serbia. There is a domestic branch line, the Nikšić-Podgorica railway, which was operated as a freight-only line for decades, and is now also open for passenger traffic after the reconstruction and electrification works in 2012. The other branch line from Podgorica towards the Albanian border, the Podgorica–Shkodër railway, is not in use.\\n\\nMontenegro has two international airports, Podgorica Airport and Tivat Airport. The two airports served 1.1\\xa0million passengers in 2008.\\n\\nThe Port of Bar is Montenegro\\'s main seaport. Initially built in 1906, the port was almost completely destroyed during World War II, with reconstruction beginning in 1950. Today, it is equipped to handle over 5 million tons of cargo annually, though the breakup of the former Yugoslavia and the size of the Montenegrin industrial sector has resulted in the port operating at a loss and well below capacity for several years. The reconstruction of the Belgrade-Bar railway and the proposed Belgrade-Bar motorway are expected to bring the port back up to capacity.\\n\\nTourism \\n\\nWith a total of 1.6\\xa0million visitors, Montenegro is the 36th most visited country (out of 47 countries) in Europe. The majority of foreign visitors to Montenegro come from the neighbouring countries of Serbia, Bosnia and Herzegovina and Kosovo, as well as Russia. The Montenegrin Adriatic coast is  long, with  of beaches and many well-preserved ancient old towns. Some of the most popular beaches on the Montenegrin coast include Jaz Beach, Mogren Beach, Bečići Beach, Sveti Stefan Beach and Velika Plaža. Meanwhile, some of the most popular ancient Montenegrin towns include Herceg Novi, Perast, Kotor, Budva and Ulcinj.\\n\\nNational Geographic Traveler (edited once a decade) ranks Montenegro among the \"50 Places of a Lifetime\", and the Montenegrin seaside Sveti Stefan was used as the cover for the magazine. The coast region of Montenegro is considered one of the great new \"discoveries\" among world tourists. In January 2010, The New York Times ranked the Ulcinj South Coast region of Montenegro, including Velika Plaža, Ada Bojana, and the Hotel Mediteran of Ulcinj, among the \"Top 31 Places to Go in 2010\" as part of a worldwide ranking of tourism destinations.\\n\\nMontenegro was also listed by Yahoo Travel among the \"10 Top Hot Spots of 2009\" to visit, describing it as being \"[c]urrently ranked as the second fastest growing tourism market in the world (falling just behind China)\". It is listed every year by prestigious tourism guides like Lonely Planet as a top tourist destination along with Greece, Spain and other popular locations.\\n\\nDemographics\\n\\nEthnic structure \\n\\nAccording to the 2003 census, Montenegro has 620,145 citizens. If the methodology used up to 1991 had been adopted in the 2003 census, Montenegro would officially have recorded 673,094 citizens. The results of the 2011 census show that Montenegro had 620,029 citizens.\\n\\nMontenegro is a multiethnic state in which no ethnic group forms a majority. Major ethnic groups include Montenegrins (Црногорци/Crnogorci) and Serbs (Срби/Srbi); others are Bosniaks (Bošnjaci), Albanians (Albanci\\xa0– Shqiptarët) and Croats (Hrvati). The number of \"Montenegrins\" and \"Serbs\" fluctuates widely from census to census due to changes in how people perceive, experience, or choose to express, their identity and ethnic affiliation.\\n\\nEthnic composition according to the 2011 official data:\\n\\nLanguages \\n\\nThe official language in Montenegro is Montenegrin. Also, Serbian, Bosnian, Albanian, and Croatian are recognised in usage. Montenegrin, Serbian, Bosnian, and Croatian are mutually intelligible, all being standard varieties of the Serbo-Croatian language. Montenegrin is the plurality mother-tongue of the population under 18 years of age. Previous constitutions endorsed Serbo-Croatian as the official language in SR Montenegro and Serbian of the Ijekavian standard during the 1992–2006 period.\\n\\nAccording to the 2011 Census the following languages are spoken in the country:\\n\\nReligion \\n\\nMontenegro has been historically at the crossroads of multiculturalism and over centuries this has shaped its unique form of co-existence between Muslim and Christian populations. Montenegrins have been, historically, members of the Serbian Orthodox Church (governed by the Metropolitanate of Montenegro and the Littoral), and Serbian Orthodox Christianity is the most popular religion today in Montenegro.  The Montenegrin Orthodox Church was recently founded and is followed by a small minority of Montenegrins although it is not in communion with any other Christian Orthodox Church as it has not been officially recognised.\\n\\nDespite tensions between religious groups during the Bosnian War, Montenegro remained fairly stable, mainly due to its population having a historic perspective on religious tolerance and faith diversity. Religious institutions from Montenegro all have guaranteed rights and are separate from the state. The second largest religion is Islam, which amounts to 19% of the total population of the country. Montenegro has the sixth-highest proportion of Muslims in Europe, after Kosovo (96%), Turkey (90%), Albania (60%), Bosnia and Herzegovina (51%), and North Macedonia (34%), and Montenegro has the third highest proportion among Slavic countries, behind only Bosnia and Herzegovina and North Macedonia. A little more than one-fourth of the country\\'s Albanians are Catholics (8,126 in the 2004 census) while the rest (22,267) are mainly Sunni Muslims; in 2012 a protocol passed that recognises Islam as an official religion in Montenegro, ensures that halal foods will be served at military facilities, hospitals, dormitories and all social facilities; and that Muslim women will be permitted to wear headscarves in schools and at public institutions, as well as ensuring that Muslims have the right to take Fridays off work for the Jumu\\'ah (Friday)-prayer. Since the time of Vojislavljević dynasty Catholicism is autochthonous in the Montenegrin area. There is also a small Roman Catholic population, mostly Albanians with some Croats, divided between the Archdiocese of Antivari headed by the Primate of Serbia and the Diocese of Kotor that is a part of the Catholic Church in Croatia.\\n\\nReligious determination according to the 2011 census:\\n\\nCulture \\n\\n \\nThe culture of Montenegro has been shaped by a variety of influences throughout history. The influence of Orthodox, Ottoman (Turk), Slavic, Central European, and seafaring Adriatic cultures (notably parts of Italy, like the Republic of Venice) have been the most important in recent centuries.\\n\\nMontenegro has many significant cultural and historical sites, including heritage sites from the pre-Romanesque, Gothic and Baroque periods. The Montenegrin coastal region is especially well known for its religious monuments, including the Cathedral of Saint Tryphon in Kotor (Cattaro under the Venetians), the basilica of St. Luke (over 800 years), Our Lady of the Rocks (Škrpjela), the Savina Monastery and others. Medieval monasteries contain a number of artistically important frescoes.\\n\\nA dimension of Montenegrin culture is the ethical ideal of Čojstvo i Junaštvo, \"Humaneness and Gallantry\". The traditional folk dance of the Montenegrins is the Oro, the \"eagle dance\" that involves dancing in circles with couples alternating in the centre, and is finished by forming a human pyramid by dancers standing on each other\\'s shoulders.\\n\\nMedia \\n\\nThe media of Montenegro refers to mass media outlets based in Montenegro. Television, magazines, and newspapers are all operated by both state-owned and for-profit corporations which depend on advertising, subscription, and other sales-related revenues. The Constitution of Montenegro guarantees freedom of speech.\\nAs a country in transition, Montenegro\\'s media system is under transformation.\\n\\nCuisine \\n\\nMontenegrin cuisine is a result of Montenegro\\'s long history. It is a variation of Mediterranean and Asian influences. The most influence is from Italy, Turkey, Byzantine Empire/Greece, and Hungary. Montenegrin cuisine also varies geographically; the cuisine in the coastal area differs from the one in the northern highland region. The coastal area is traditionally a representative of Mediterranean cuisine, with seafood being a common dish, while the northern represents more Asian influence.\\n\\nSport \\n\\nSport in Montenegro revolves mostly around team sports, such as water polo, football, basketball, handball, and volleyball. Other sports involved are boxing, tennis, swimming, judo, karate, athletics, table tennis, and chess.\\n\\nWater polo is the most popular sport in Montenegro, and is considered the national sport. Montenegro men\\'s national water polo team is one of the top ranked teams in the world, winning the gold medal at the 2008 Men\\'s European Water Polo Championship in Málaga, Spain, and winning the gold medal at the 2009 FINA Men\\'s Water Polo World League, which was held in the Montenegrin capital, Podgorica. The Montenegrin team PVK Primorac from Kotor became a champion of Europe at the LEN Euroleague 2009 in Rijeka, Croatia. Football is the second most popular sport in Montenegro. Notable football players from Montenegro are Dejan Savićević, Predrag Mijatović, Mirko Vučinić, Stefan Savić, Stevan Jovetić, and Stefan Mugoša. Montenegrin national football team, founded in 2006, played in playoffs for UEFA Euro 2012, which is the biggest success in the history of the national team. The Montenegro national basketball team is also known for good performances and had won a lot of medals in the past as part of the Yugoslavia national basketball team. In 2006, the Basketball Federation of Montenegro along with this team joined the International Basketball Federation (FIBA) on its own, following the Independence of Montenegro. Montenegro participated on two Eurobaskets until now.\\n\\nAmong women sports, the national handball team is the most successful, having won the 2012 European Championship and finishing as runners-up at the 2012 Summer Olympics. ŽRK Budućnost Podgorica won two times EHF Champions League.\\n\\nChess is another popular sport and some famous global chess players, like Slavko Dedić, were born in Montenegro.\\n\\nAt the 2012 Olympic Games in London, Montenegro women\\'s national handball team won the country\\'s first Olympic medal by winning silver. They lost in the final to defending World, Olympic and European Champions, Norway 26–23. Following this defeat the team won against Norway in the final of the 2012 European Championship, becoming champions for the first time.\\n\\nIn popular culture\\nThe setting for Franz Lehár\\'s 1905 operetta The Merry Widow is the Paris embassy of the Grand Duchy of Pontevedro. Pontevedro is a fictionalized version of Montenegro and several of the characters were loosely based on actual Montenegrin nobility.\\n\\nIn Charlotte Perkins Gilman\\'s 1915 novel Herland, a character discusses little-known countries: \"Then there\\'s Montenegro—splendid little state—you could lose a dozen Montenegroes up and down these great ranges.\"\\n\\nIn F. Scott Fitzgerald\\'s 1925 novel The Great Gatsby, Gatsby impresses Nick that he has been awarded a World War I medal \"for Valour Extraordinary\" from Montenegro. Telling Nick, \"Every Allied country gave me a decoration — even Montenegro, little Montenegro down on the Adriatic Sea!\"\\n\\nThe American author Rex Stout wrote a long series of detective novels featuring his fictional creation Nero Wolfe, who was born in Montenegro. One Nero Wolfe novel, The Black Mountain (1954), takes place in Tito-era Montenegro.\\n\\nThe Dark Side of the Sun, a 1988 American-Yugoslavian drama film starring Brad Pitt about a young man in search of a cure for a dreaded skin disease, was filmed in Montenegro and directed by Montenegrin director Božidar Nikolić.\\n\\nThe first modern official international representation of Montenegro as an independent state was in Miss World 2006, held on 30 September 2006 in Warsaw, Poland. Ivana Knežević from the city of Bar was the first Miss Montenegro at any international beauty pageant. Both Montenegro and Serbia competed separately in this pageant for the first time after the state union came to an end.\\n\\nThe 2006 James Bond film Casino Royale is set in Montenegro, although all of the filming was done in Karlovy Vary, Czech Republic.\\n\\nThe Big Picture (2010), based on a 1997 Douglas Kennedy novel, is a French film about a Parisian man who reinvents himself by becoming a photographer in Montenegro. The French name of the film is L\\'Homme qui voulait vivre sa vie (The Man Who Wanted to Live His Life).\\n\\nThe first scenes of The November Man (2014) with Pierce Brosnan are filmed in Montenegro.\\n\\nPublic holidays \\n\\n*2021 dates – exact dates vary each year according to the Orthodox calendar\\n\\nSee also \\n Montenegro real estate taxes\\n Outline of Montenegro\\n\\nReferences\\n\\nNotes\\n\\nCitations\\n\\nSources\\n\\nFurther reading \\n\\n Banac, Ivo.  The National Question in Yugoslavia: Origins, History, Politics Cornell University Press, (1984) \\n Fleming, Thomas. Montenegro: The Divided Land (2002) \\n Longley, Norm. The Rough Guide to Montenegro (2009) \\n Morrison, Kenneth. Montenegro: A Modern History (2009) \\n Roberts, Elizabeth. Realm of the Black Mountain: A History of Montenegro (Cornell University Press, 2007) 521pp \\n Stevenson, Francis Seymour. A History of Montenegro 2002) \\n Özcan, Uğur II. Abdulhamid Dönemi Osmanlı-Karadağ Siyasi İlişkileri [Political relations between the Ottoman Empire and Montenegro in the Abdul Hamid II era] (2013) Türk Tarih Kurumu Turkish Historical Society\\n\\nExternal links \\n\\n Official website of the Government of Montenegro (English)\\n Montenegro. The World Factbook. Central Intelligence Agency.\\n Montenegro from UCB Libraries GovPubs\\n \\n Montenegro profile from the BBC News\\n Culture Corner – leading Montenegrin web portal for culture\\n Official Website National Parks Montenegro\\n \\n \\n\\n \\n\\nBalkan countries\\nCountries in Europe\\nMember states of NATO\\nMember states of the Council of Europe\\nMember states of the Union for the Mediterranean\\nCurrent member states of the United Nations\\nSerbian-speaking countries and territories\\nSoutheastern European countries\\nSouthern European countries\\nStates and territories established in 2006', \"The 1977–78 season was the 98th season of competitive football in England.\\n\\nDiary of the season\\n\\n11 July 1977: Don Revie resigns as manager of the England national football team after three years in charge.\\n\\n12 July 1977: Barely 24 hours after quitting as England manager, Don Revie accepts a four-year contract worth £340,000 to take charge of the United Arab Emirates national team, making him the highest-paid football manager in the world.\\n\\n14 July 1977: Dave Sexton steps down at Queens Park Rangers to take over as manager of Manchester United, where Tommy Docherty was sacked ten days ago. Frank Sibley succeeds Sexton at QPR, becoming the youngest  manager in the history of the top-flight.\\n\\n17 July 1977: Fulham are banned from the transfer market due to a reported £700,000 debt.\\n\\n25 July 1977: Manchester City pay £300,000 for Southampton striker Mick Channon, who signs a six-year contract at Maine Road.\\n\\n3 August 1977: Derby County sign a sponsorship deal with Swedish carmaker Saab, who supply all of the club's players with a Saab car.\\n\\n5 August 1977: The Football League backs The Football Association's ban on sponsors advertising themselves on player's strips. However, non-league clubs are permitted to show sponsor's names on their players' shirts.\\n\\n10 August 1977: Kenny Dalglish becomes the most expensive player to be signed by a British club when he joins Liverpool in a £440,000 move from Celtic. He takes over from Kevin Keegan, who recently joined Hamburg to become the most expensive player in Europe, as Liverpool's main striker.\\n\\n11 August 1977: Pat Jennings ends 13 years at Tottenham Hotspur and signs for Arsenal in a £45,000 deal.\\n\\n15 August 1977: Ron Greenwood, general manager of West Ham United and team manager until 1974, accepts an offer to become temporary manager of the England national team, initially for three matches only.\\n\\n19 August 1977: Walsall hooligan Edward Beech, 19, receives a three-year prison sentence for kicking a policeman in the face at a game at Fellows Park last season.\\n\\n20 August 1977: Champions Liverpool open the First Division season with 1–1 draw away to Middlesbrough. Promoted Nottingham Forest win 3–1 at Everton.\\n\\n27 August 1977: Brian Clough sinks his old charges as his Nottingham Forest side beat rivals Derby County 3–0.\\n\\n31 August 1977: Nottingham Forest top the First Division table at the end of the first month of the season after winning their first three matches. Birmingham City and West Ham United have both lost their first three games.\\n\\n8 September 1977: Sir Alf Ramsey makes a shock return to management, taking over at the First Division's basement side Birmingham City following the resignation of Willie Bell. However, he also announces that this role will only be temporary, and that he will step down by, at the latest, the end of the season.\\n\\n13–14 September 1977: In the Anglo-Scottish Cup quarter-final first legs, Fulham versus St Mirren and finishes 1–1, as does Notts County's visit to Motherwell. Bristol City and Blackburn Rovers are beaten, by Partick Thistle and Hibs respectively.\\n\\n19 September 1977: Tommy Docherty makes a swift return to management at Derby County, who demote Colin Murphy back to his previous role as reserve team manager.\\n\\n27–29 September 1977: English clubs make up two of the four Anglo-Scottish Cup semi-final contingent, as Notts County and Bristol City progress. Blackburn and Fulham are eliminated, the latter after two late goals saw St Mirren win the match 5–3 on the night and 6–4 on aggregate.\\n\\n30 September 1977: Manchester City, Nottingham Forest and Liverpool are level on points at the top of the League at the end of September. Newcastle United and winless Derby County fill the bottom two places.\\n\\n15 October 1977: Bottom-of-the-table Newcastle United lose their tenth consecutive League match, a club record.\\n\\n22 October 1977: Tottenham Hotspur's challenge for an immediate return to the First Division is boosted by a 9-0 home win over Bristol Rovers, in which debutant striker Colin Lee scores four goals and his partner Ian Moores scores a hat-trick.\\n\\n31 October 1977: Nottingham Forest continue to set the pace at the end of October. They are now four points ahead of Liverpool. Newcastle United remain bottom, and are joined by Leicester City and Bristol City in the relegation zone.\\n\\n9 November 1977: Newcastle United sack manager Richard Dinnis, as a result of the club's appalling form combined with Dinnis publicly criticising chairman Lord Westwood's running of the club.\\n\\n16 November 1977: England beat Italy 2–0 at Wembley Stadium in their final World Cup qualifying game, but will still fail to qualify for next summer's final tournament, if Italy win against Luxembourg.\\n\\n18 November 1977: Bill McGarry is appointed as Newcastle United's new manager, and shakes the club up by immediately announcing that several of the players who threatened strike action to secure the appointment of previous manager Richard Dinnis earlier in the year, in particular Alan Gowling, Tommy Craig and team captain Geoff Nulty, are transfer-listed with immediate effect and will not play for the club again.\\n\\n19 November 1977: Leeds United beat Nottingham Forest 1–0.\\n\\n30 November 1977: After picking up just four points from four matches this month, Nottingham Forest have had their lead at the top of the table cut to just one point by Everton, with West Bromwich Albion and Coventry City a further two points behind. At the bottom, Newcastle United are already seven points from safety; Leicester City and West Ham United complete the bottom three.\\n\\n3 December 1977: Italy's win against Luxembourg eliminates England from the World Cup Qualifying.\\n\\n6 December 1977: Liverpool win the European Super Cup by completing a 7–1 aggregate win over Hamburg; they win the second leg 6–0 after drawing 1–1 in the first leg.\\n\\n12 December 1977: Ron Greenwood is appointed England manager on a four-and-a-half year contract despite their failure to qualify for the 1978 World Cup.\\n\\n17 December 1977: Nottingham Forest shock everyone by beating Manchester United 4-0 at Old Trafford, shaking off the 'caretaker leaders' tag applied to them by members of the media, who firmly believed Liverpool would lead the way at this stage.\\n\\n22 December 1977: West Bromwich Albion manager Ronnie Allen resigns, despite the club being fourth in the First Division.\\n\\n26 December 1977: Manchester United thrash high-flying Everton 6–2.\\n\\n27 December 1977: The highest scoring game of the day is at Highfield Road, as Coventry beat Norwich 5–4. Everton lose for the second time in two days, this time by Leeds United at a sold-out Elland Road. Arsenal go level on point with the Toffees by registering their fifth consecutive away win, with victory at West Bromwich Albion.\\n\\n31 December 1977: Nottingham Forest end a remarkable year with a clear five-point lead over Everton at the top of the First Division. Newcastle United have overtaken Leicester City at the bottom, and Queens Park Rangers have slipped into the relegation zone just two seasons after finishing second in the League.\\n\\n7 January 1978: FA Cup third round day sees Leeds fans invade the Elland Road pitch, reportedly to get their match with Manchester City called off after the Yorkshire club go 2-0 down; City custodian Joe Corrigan is hauled to the ground. Elsewhere, reigning Cup winners Manchester United draw with Third Division club Carlisle United, Blyth Spartans win the battle of the non-leaguers by beating Enfield, Bristol City and Wrexham share eight in the Anglo-Welsh derby, Tilbury's FA Cup run– their best–is ended by Stoke City, and Chelsea beat Liverpool 4–2.\\n\\n10 January 1978: Liverpool pay a British record £352,000 for Middlesbrough midfielder Graeme Souness.\\n\\n12 January 1978: Cambridge United manager Ron Atkinson is appointed as manager of West Bromwich Albion. Cambridge, who are second in the Third Division, announce that Atkinson's assistant, John Docherty will succeed him as manager.\\n\\n28 January 1978: First Division strugglers Leicester City are knocked out of the FA Cup by Third Division Walsall in one of the shocks of this season's competition. Holders Manchester United are held to a 1–1 draw at home by West Bromwich Albion.\\n\\n31 January 1978: Nottingham Forest's title bid shows no signs of faltering, and they are six points ahead of Manchester City, Everton and Liverpool at the end of January.\\n\\n1 February 1978: West Bromwich Albion beat Manchester United 3–2 in an FA Cup fourth round replay. John Toshack, 29 next month, becomes the youngest manager in the Football League when he ends eight years on Liverpool's playing staff to become player-manager of Swansea City.\\n\\n6 February 1978: Blyth Spartans, of the Northern Premier League, defeat Stoke City of the Football League Second Division 3–2 at the Victoria Ground to become the first non-league club to reach the fifth round of the FA Cup in 29 years. In another surprise result, Newcastle United are beaten 4–1 in a replay by Wrexham.\\n\\n9 February 1978: Manchester United pay a national record fee of £495,000 for Leeds United defender Gordon McQueen.\\n\\n18 February 1978: Blyth Spartans concede a last-minute equaliser to Wrexham in a 1–1 draw at the Racecourse Ground that denies them a place in the FA Cup quarter-finals.\\n\\n22 February 1978: Ron Greenwood's first match as permanent England manager ends in a 2–1 defeat to West Germany in Munich.\\n\\n27 February 1978: Wrexham finally end the FA Cup run of Blyth Spartans by beating them 2–1 in a replay at St James' Park.\\n\\n6 March 1978: Birmingham City appoint Blackburn Rovers manager Jim Smith as their new manager, as Sir Alf Ramsay announces his final retirement from football management.\\n\\n8 March 1978: Liverpool suffer their fourth defeat in five League games, 4–2 at Derby County, and now trail Nottingham Forest by nine points having played a game more.\\n\\n11 March 1978: West Bromwich Albion beat Nottingham Forest 2–0 at The Hawthorns in the FA Cup sixth round. Arsenal beat Wrexham 3–2, and Ipswich Town win 6–1 at Millwall in a game interrupted by rioting spectators.\\n\\n14 March 1978: Second Division Orient take the last FA Cup semi-final spot with a 2–1 replay victory over Middlesbrough.\\n\\n18 March 1978: The League Cup final ends in a goalless draw between Liverpool and Nottingham Forest.\\n\\n22 March 1978: Nottingham Forest end their 19-year wait for a major trophy by defeating Liverpool 1–0 in the Football League Cup final replay at Old Trafford, thanks to a penalty by John Robertson.\\n\\n23 March 1978: Hartlepool United defender Dave Wiggett, 20, is killed in a car crash.\\n\\n31 March 1978: Nottingham Forest remain in a commanding position at the top of the First Division, four points ahead of Everton with two games in hand. At the bottom, Leicester City and Newcastle United have been cut adrift, and Queens Park Rangers are one point behind West Ham United in the battle to avoid the remaining relegation spot.\\n\\n5 April 1978: Leicester City sack manager Frank McLintock, following a defeat to Liverpool which has all but confirmed their relegation barring a highly improbable set of results.\\n\\n8 April 1978: Arsenal and Ipswich Town reach the FA Cup final after semi-final victories over Orient and West Bromwich Albion respectively.\\n\\n15 April 1978: Leicester City's relegation is confirmed with a 4–1 defeat at home to Birmingham City. The Foxes go down with just four wins and 22 goals from their 39 matches so far this season.\\n\\n17 April 1978: Newcastle United lose at Aston Villa and are relegated to the Second Division.\\n\\n19 April 1978: A goal from Kevin Keegan gives England a 1–1 draw against Brazil at Wembley.\\n\\n22 April 1978: Nottingham Forest seal the Football League First Division title, and become only the third club in history to do so a year after winning promotion. They get the point they need to guarantee the championship with four matches left from a goalless draw with Coventry City.\\n\\n25 April 1978: Harry Griffiths, who recently stepped down as manager of Swansea City but was retained as assistant manager by his successor John Toshack, dies of heart attack aged 47 just before Swansea's 3-1 win over Scunthorpe United which moves them closer to promotion to the Third Division.\\n\\n29 April 1978: West Ham United lose 2–0 at home to Liverpool, and can now only stay up on goal difference if Wolverhampton Wanderers lose their remaining two matches. Alex Stepney, the 35-year-old Manchester United goalkeeper, retires from playing. He spent the final 12 years of his playing career at Old Trafford, and at the time of his retirement he was the club's longest serving player and the last player remaining from their European Cup triumph of 1968. He also contributed to the League title triumph of 1967, relegation in 1974, promotion in 1975 and FA Cup glory in 1977.\\n\\n2 May 1978: Wolverhampton Wanderers beat Aston Villa 3–1 to stay in the First Division at West Ham United's expense.\\n\\n4 May 1978: Champions Nottingham Forest draw 0–0 with second-place Liverpool at Anfield to finish seven points clear at the top of the table. They are unbeaten in their last 26 League matches, a run stretching back to November, and have lost just three League games all season.\\n\\n6 May 1978: Ipswich Town win the FA Cup for the first time in their history when a Roger Osborne goal gives them a 1–0 win over Arsenal at Wembley Stadium.\\n\\n10 May 1978: Liverpool retain the European Cup thanks to a Kenny Dalglish goal against Club Brugge of Belgium at Wembley Stadium.\\n\\n20 May 1978: Steve Coppell scores the only goal in England's 1–0 win over Scotland at Hampden Park. England win the Home Championship with a 100% record.\\n\\n2 June 1978: Wigan Athletic, runners-up of the Northern Premier League, are elected to the Football League Fourth Division at the expense of Southport. Boston United, champions of the Northern Premier League, had been unable to apply for election to the Football League.\\n\\n15 June 1978: Less than three months after Hartlepool United defender Dave Wiggett was killed in a car crash, another Football League club is plunged into mourning with the death of a player when Blackpool midfielder Alan Groves died of a heart attack aged 29.\\n\\nNational teams\\n\\nUEFA Competitions\\n\\nLiverpool thrashed Hamburg 6–0 to win the European Super Cup 7–1 on aggregate. In the Hamburg side was former Liverpool striker Kevin Keegan. They went on to beat Club Brugge 1–0 thanks to a Kenny Dalglish goal to retain the European Cup.\\n\\nManchester United were thrown out of the European Cup Winners' Cup on owing to the behaviour of their fans in the away leg of their tie against St. Étienne. They were reinstated a week later, but had to play the second leg at least 300\\xa0km from Manchester, at Plymouth Argyle's Home Park ground.\\n\\nFA Cup\\n\\nBobby Robson led Ipswich Town to victory in the FA Cup, winning the final 1–0 against Arsenal.\\n\\nNorthern League side Blyth Spartans beat Second Division Stoke City 3–2 away to become the first non-League team to reach the fifth round of the FA Cup since 1949. They were seconds away from reaching the quarter-finals, but Wrexham equalised from a retaken corner kick before winning a replay.\\n\\nLeague Cup\\n\\nNottingham Forest won the League Cup after victory over Liverpool in the replay.\\n\\nFootball League\\n\\nFirst Division\\nNottingham Forest won the First Division title with just three league defeats all season, one season after promotion. In doing so, their manager Brian Clough became only the second manager in English football to win the First Division title with different clubs. Clough's men also won the Football League Cup. It was the first time that Forest had won either trophy.\\n\\nLiverpool finished runners-up in the league and retained the European Cup. Everton, Manchester City and Arsenal completed the top five. West Bromwich Albion finished sixth and sealed a UEFA Cup place, having continued to impress in the First Division following the mid-season resignation of Ronnie Allen as manager and the appointment of Ron Atkinson as his successor.\\n\\nManchester United broke the British transfer fee record on 9 February by paying Leeds United £495,000 for Scottish defender Gordon McQueen but finished a disappointing 10th, having sacked Tommy Docherty in the close season following the revelation of his affair with the wife of the club's physiotherapist. His replacement was former QPR boss Dave Sexton.\\n\\nLeicester City and Newcastle United were bracketed together on 22 points after a terrible First Division campaign, Newcastle's relegation coming just one season after they had finished fifth in the league and qualified for the UEFA Cup. They were joined in the drop zone by West Ham United, the 1975 FA Cup winners, who kept faith in manager John Lyall and managed to hold on to key players Billy Bonds and Trevor Brooking.\\n\\nSecond Division\\nAfter narrowly missing out on promotion for the last two seasons, Bolton Wanderers finally ended their lengthy absence from the First Division by clinching the Second Division title. Southampton finished a point behind them in second place, ending their four-year absence from the First Division, during which they had won the FA Cup in 1976. Tottenham Hotspur clinched the final promotion place on goal difference, their advantage over fourth-placed Brighton being assisted by a 9-0 scoreline over Bristol Rovers in October 1977, during which striker Colin Lee had scored four goals on his club debut.\\n\\nFor much of the season it had been a four-horse race at the top of the Second Division, with fifth placed Blackburn Rovers finishing 11 points behind the leading pack.\\n\\nHull City were relegated to the third tier for the first time since 1966, after a campaign in which four different managers took charge of the team. Mansfield Town were relegated straight back to Division Three after a year, never looking like they would survive in their first-ever season at this level, though a late fightback after the appointment of veteran manager Billy Bingham at least saw them avoid last place. Blackpool were the final relegated side; they had been safely in mid-table for much of the campaign, but a disastrous end to the season combined with a host of other results going against them sent them down to the third tier for the first time ever. Despite the manner of their relegation, it wouldn't be until 2007 before they returned to this level.\\n\\nThird Division\\nWrexham won the Third Division title to clinch a place in the Second Division. They were joined by Cambridge United and Preston North End. Peterborough United, who had yet to progress beyond this level of the league, missed out on promotion on goal difference. Chester, another club with a similar track record in the league, finished two points short of the promotion places.\\n\\nPortsmouth, the 1939 FA Cup winners and with two league titles to their name from the early postwar years, finished bottom of the Third Division to fall into the Fourth Division for the first time, and their very existence was also threatened by large debts. Hereford United, Bradford City and Port Vale also went down.\\n\\nFourth Division\\nGraham Taylor guided Watford to the Fourth Division title by an 11-point margin to repeat the promotion success he had achieved at Lincoln City two seasons earlier. Southend United finished second, while John Toshack kicked off his managerial career by taking Swansea City to promotion just weeks after being appointed. Brentford clinched the final promotion place, with Aldershot missing out on promotion by two points.\\n\\nWimbledon played their first season in the Football League, replacing Workington.\\n\\nSouthport, having finished second-from-bottom for the third season in succession, were voted out of the Football League and replaced by Wigan Athletic. This would ultimately prove the final occasion where a football club failed to earn re-election to the League, and the same 92 clubs would continue to make up its membership until 1987, by which point automatic promotion and relegation between the League and the Football Conference had been introduced.\\n\\nTop goalscorers\\n\\nFirst Division\\nBob Latchford (Everton) – 30 goals\\n\\nSecond Division\\nBob Hatton (Blackpool) – 22 goals\\n\\nThird Division\\nAlex Bruce (Preston North End) – 27 goals\\n\\nFourth Division\\nAlan Curtis (Swansea City), Steve Phillips (Brentford) – 32 goals\\n\\nNon-league football\\n\\nAwards\\nFootball Writers' Association\\n FWA Footballer of the Year – Kenny Burns, Nottingham Forest\\n\\nProfessional Footballers' Association\\n PFA Players' Player of the Year – Peter Shilton, Nottingham Forest\\n PFA Young Player of the Year – Tony Woodcock, Nottingham Forest\\n PFA Merit Award – Bill Shankly\\n\\nFamous debutants\\n\\n3 September 1977: Cyrille Regis, 19-year-old French Guiana born striker, makes his debut for West Bromwich Albion against Middlesbrough at The Hawthorns in the First Division, scoring in a 2–1 win.\\n\\n3 September 1977: Russell Osman, 18-year-old defender, makes his debut for Ipswich Town in the 1–0 First Division win over Chelsea at Portman Road.\\n\\n14 January 1978: Alan Brazil, 18-year-old Scottish striker, makes his debut for Ipswich Town as a substitute in the 2-1 First Division defeat by Manchester United at Portman Road.\\n\\n28 January 1978: Craig Johnston, 17-year-old Australian midfielder, makes his debut for Middlesbrough in the 3-2 F.A Cup 4th Round win over Everton at Ayresome Park.\\n\\n18 March 1978: Alvin Martin, 19-year-old defender, makes his debut as a substitute for West Ham United in the 4-1 First Division defeat by Aston Villa at Villa Park.\\n\\n11 April 1978: Paul Goddard, 18-year-old striker, makes his debut as a substitute for Queen's Park Rangers in the 2-1 First Division win over Arsenal at Loftus Road.\\n\\n15 April 1978: Terry Butcher, 19-year-old defender, makes his debut for Ipswich Town in the 1–0 First Division defeat by Everton at Goodison Park.\\n\\nDeaths\\n 30 August 1977 - Alf Young, 71, played 283 league games in defence for Huddersfield Town between 1929 and 1939 and was capped nine times for England before his career was cut short by the war. After the war, he managed three Danish club sides and took charge of the Danish national side in 1956.\\n 23 October 1977 - Dick Crawshaw, 79, played 66 league at inside-forward for Manchester City, Halifax Town and Nelson between 1919 and 1924.\\n 29 November 1977 - Wilfred Milne, 78, spent his whole career as a full-back with Swansea between 1920 and 1937, making a club record 586 league appearances for the Swans. \\n 27 December 1977 - James Marshall, 69, began his career with Rangers in his native Scotland in 1925 and scored 138 league goals before his transfer south of the border to Arsenal in 1934. However, he played just four league games for the Gunners before he moved to West Ham United the following year, scoring 14 goals in 59 league games before retiring in 1937. He was capped three times by Scotland.\\n 22 February 1978 - Jack Taylor, 64, played 201 league games as a full-back for Wolverhampton Wanderers, Norwich City and Hull City between 1931 and 1950, his career being disrupted by the war. He then managed non-league Weymouth before being appointed to QPR in 1952, serving at Loftus Road for seven years despite failing to win them promotion from the third tier of the English league. He was then recruited to Leeds United but they were relegated and he was dismissed in March 1961 to be succeeded by Don Revie.\\n 23 March 1978 – Dave Wiggett, 20, Hartlepool United defender who was killed in a car crash.\\n 4 April 1978 – Tony Leighton, 38, former Doncaster Rovers, Barnsley, Huddersfield Town and Bradford City striker, who died from motor neurone disease.\\n 25 April 1978 - Harry Griffiths, 47, who served Swansea for most of the last three decades of his life, was the club's assistant manager when he died of a heart attack during the game at Vetch Field in which they clinched promotion to the Third Division. He made 422 appearances in the league as a full-back between 1949 and 1964, scoring an impressive (for a defender) 72 goals. He returned to the club as coach in 1967 and was promoted to the manager's seat in 1975, becoming assistant manager weeks before his death on the appointment of John Toshack as player-manager.\\n 15 June 1978 – Alan Groves, 29, Blackpool midfielder who died as a result of a heart attack. He had previously played for five other clubs, most notably Oldham Athletic.\\n\\nReferences\\n\\n Rothmans Football Yearbook 1978–79\", 'Oliver Bierhoff (; born 1 May 1968) is a German football official and former player who played as a striker. He currently serves as the national team director of the German Football Association. \\n\\nA tall, strong and prolific goalscorer, Bierhoff was mostly renowned for his excellent abilities in the air, and as a target man, being able to deliver pin-point headers towards goal.\\n\\nBierhoff scored the first golden goal in the history of major international football, for Germany in the Euro 96 final, a career-defining performance that vaulted him into the international limelight.\\n\\nClub career\\nThe son of a German utility magnate, Bierhoff played for nine different clubs, in four different countries. He scored a total of 102 goals in Serie A, one of the highest totals for a non-Italian in the league\\'s history. In the 1997–98 season, he was the Serie A top scorer with 27 goals for Udinese.\\n\\nBierhoff, however, was never a success in the Bundesliga. After failing to shine in Germany, he got his chance in the Austrian Bundesliga. That gave him the chance at Ascoli in Italy. But it was at Udinese, under Alberto Zaccheroni, that Bierhoff found success and won his place in fame and in the German national team. He then transferred to Milan in 1998, winning the Serie A title in his first season with the club, scoring 19 goals in the league and 21 in all competitions, including the match-winning goal in the final, title-deciding match of the season, a 2–1 away win over Perugia. During the 1998–99 season, he set a Serie A record for most headed goals in a single season, with 15. After three seasons there, he moved to Ligue 1 side Monaco in 2001 for one year, before moving back to Serie A to play for ChievoVerona, where he retired at the end of the 2002–03 season. In his last game, he scored a hat-trick for Chievo in a 3–4 defeat to Juventus.\\n\\nInternational career\\n\\nBierhoff debuted for the Germany national team in a friendly against Portugal on 21 February 1996. In his second appearance on 27 March 1996, he scored his first two international goals in his country\\'s 2–0 win over Denmark. Altogether Bierhoff scored 37 goals in 70 caps, including both goals in the 2–1 win over the Czech Republic in the Euro 1996 final after having come on as a substitute.\\n\\nIn an important qualification match on 20 August 1997, Germany trailed Northern Ireland, 0–1, with 20 minutes left when the manager of the national team, Berti Vogts, sent in Thomas Häßler and Oliver Bierhoff. Within seven minutes the former provided Bierhoff with three assists, meaning Bierhoff had scored the fastest hat-trick in the history of the German national team.\\nIn 1998, he was appointed captain of the national team after the retirement of Jürgen Klinsmann.\\n\\nBierhoff also played in Euro 2000, and both the 1998 and 2002 FIFA World Cups. In Germany\\'s opening match of the 2002 tournament at the Sapporo Dome on 1 June, he scored in an 8–0 win over Saudi Arabia. He made his last appearance for his country on 30 June, when he was brought on during the second half of the 2002 FIFA World Cup Final against Brazil, but was unable to help the Germans score in the 0–2 loss.\\n\\nStyle of play\\nA large and prolific striker, Bierhoff was a strong, physical, aggressive, and powerful player, who played mainly as a target man in the centre-forward role. Although he was not particularly skilful with his feet from a technical standpoint, or a particularly good ball-player, he was known in particular for his aerial ability; in addition to his height, strength, and elevation, he was able to execute headers with power and precision, having scored several critical goals with his head throughout his career, for both club and country, which led him to be regarded as one of the best players in the world with his head and as a specialist in the air. In addition to scoring goals, Bierhoff was also capable of providing assists to his teammates with his head through knock-downs. Although he was less adept at scoring with his feet, he also possessed a powerful shot.\\n\\nCareer statistics\\n\\nClub\\n\\nInternational\\n\\nInternational goals\\n\\nManagerial career\\nBierhoff was a manager of the German national football team from 2004 until December 2017, a new position created as part of Jürgen Klinsmann\\'s acceptance of the coaching job. Essentially the duties revolve around the public relations aspect of the team as opposed to coaching responsibilities. On 1 January 2018, a structural reform in the German Football Association took place and Bierhoff was named the technical director of the German national team (officially Direktor Nationalmannschaften und Akademie, \"director national teams and football development\").\\n\\nPersonal life\\nBierhoff married Klara Szalantzy on 22 June 2001, Szalantzy was a model from Munich and former girlfriend of basketball player Dražen Petrović. She was behind the wheel in the fatal car crash that claimed Petrović\\'s life. Bierhoff and his wife had a daughter on 27 January 2007. He is a Roman Catholic.\\n\\nBierhoff features in EA Sports\\' FIFA video game series; he features in the FIFA 14 Ultimate-Team Legends. \\n\\nHe is a member of the A.C. Milan Hall of Fame.\\n\\nBierhoff was one of several celebrities in 2015 who endorsed the tabloid newspaper Bilds petition against anti-Islamisation group PEGIDA.\\n\\nEducation\\nBierhoff took a correspondence course and graduated in 2002 with a degree in business economics from the University of Hagen.\\n\\nHonours\\n\\nClub\\nMilan\\nSerie A: 1998–99\\n\\nInternational\\nGermany\\nUEFA European Football Championship: 1996\\nFIFA World Cup runner-up: 2002\\n\\nIndividual\\nSerie A top scorer: 1997–98\\nSerie B top scorer: 1992–93\\nGoal of the Year (Germany): 1996\\nFootballer of the Year (Germany): 1998\\nFIFA XI (reserve): 1998\\nA.C. Milan Hall of Fame\\n\\nReferences\\n\\nExternal links\\n\\nOliver Bierhoff at history-of-soccer.org Retrieved 30 June 2013\\n For 89–90 season with Monchengladbach\\n\\n1968 births\\nLiving people\\nGerman Roman Catholics\\nSportspeople from Karlsruhe\\nFootballers from Baden-Württemberg\\nGerman footballers\\nAssociation football forwards\\nKFC Uerdingen 05 players\\nHamburger SV players\\nBorussia Mönchengladbach players\\nFC Red Bull Salzburg players\\nAscoli Calcio 1898 F.C. players\\nUdinese Calcio players\\nA.C. Milan players\\nAS Monaco FC players\\nA.C. ChievoVerona players\\nBundesliga players\\nAustrian Football Bundesliga players\\nSerie A players\\nSerie B players\\nLigue 1 players\\nGermany under-21 international footballers\\nGermany international footballers\\nUEFA Euro 1996 players\\n1998 FIFA World Cup players\\nUEFA Euro 2000 players\\n2002 FIFA World Cup players\\nUEFA European Championship-winning players\\nGerman expatriate footballers\\nGerman expatriate sportspeople in Austria\\nGerman expatriate sportspeople in Italy\\nGerman expatriate sportspeople in Monaco\\nExpatriate footballers in Austria\\nExpatriate footballers in Italy\\nExpatriate footballers in Monaco\\nUniversity of Hagen alumni', \"Note — many sporting events did not take place because of World War II\\n\\n1942 in sports describes the year's events in world sport.\\n\\nAmerican football\\n NFL Championship: the Washington Redskins won 14–6\\tover the Chicago Bears at Griffith Stadium\\n 1 January – The Rose Bowl not being available for war-related reasons, the Oregon State Beavers play the Duke Blue Devils for that championship at the latter's venue of Durham, North Carolina, beating the Blue Devils, 20–16.\\n Ohio State Buckeyes – college football national championship (coached by Paul Brown)\\n\\nAssociation football\\n FIFA World Cup – not held due to World War II.\\n La Liga is won by Valencia CF.\\n German football championship won by Schalke 04\\n Serie A won by A.S. Roma\\n Primeira Liga won by S.L. Benfica\\n Japan defeat Republic Of China, Manchukuo, Mongolia, by 6–1, 3–0, 12–0 during 8–20 August 1942 to win Manchuria 10th Anniversary Tournament.\\n There is no major football competition in England, Scotland or France due to World War II. In England, several regional leagues are played but statistics from these are not counted in players’ figures.\\n\\nAustralian rules football\\n Victorian Football League – Essendon wins the 46th VFL Premiership, beating Richmond 19.18 (132) to 11.13 (79) in the 1942 VFL Grand Final.\\n\\nBaseball\\n January 4 – Hall of Fame election: Rogers Hornsby is elected to the Baseball Hall of Fame, getting 78 percent of the vote. Further selections of 19th-century players are delayed.\\n January 15 – President Franklin D. Roosevelt gives baseball the go-ahead to play despite World War II. FDR encourages more night baseball so that war workers may attend. The Cubs, who had signed contracts to install lights at Wrigley Field, drop their plans because of the military need for the material. There will be no lights at Wrigley for 46 more years.\\n World Series – St. Louis Cardinals (NL) defeat New York Yankees (AL), 4 games to 1.\\n Negro League World Series – Kansas City Monarchs (NAL) defeat Homestead Grays (NNL), 4 games to none.\\n The Winnipeg Maroons win the Northern League championship. It would also be their last.\\n Leones Caracas, as most successful professional baseball club in Venezuela, officially founded on May 7.\\n\\nBasketball\\nNBL Championship\\nOshkosh All-Stars win two games to one over the Fort Wayne Zollner Pistons\\n\\nEvents\\n The tenth South American Basketball Championship in Santiago is won by Argentina.\\n\\nCricket\\nEvents\\n There is no first-class cricket in England or Australia due to World War II. A few first-class matches are played in the West Indies, South Africa and New Zealand but are not part of any official competition.\\n Former England international Andy Ducat dies of a heart attack on 23 July during a game at Lord's Cricket Ground whilst playing for his unit of the Home Guard from Surrey against another from Sussex. \\nIndia\\n Ranji Trophy – Bombay beat Mysore by an innings and 281 runs.\\n Bombay Pentangular – not contested\\nWest Indies\\n Trinidad are dismissed for just 16 against Barbados during a game at the Bridgetown Oval – still the lowest team innings total in West Indian first-class cricket history.\\n\\nCycling\\nTour de France\\n not contested due to World War II\\nGiro d'Italia\\n not contested due to World War II\\n\\nFigure skating\\nWorld Figure Skating Championships\\n not contested due to World War II\\n\\nGolf\\nMen's professional\\n Masters Tournament – Byron Nelson\\n U.S. Open – not played due to World War II\\n British Open – not played due to World War II\\n PGA Championship – Sam Snead\\nMen's amateur\\n British Amateur – not played due to World War II\\n U.S. Amateur – not played due to World War II\\nWomen's professional\\n Women's Western Open – Betty Jameson\\n Titleholders Championship – Dorothy Kirby\\n\\nHorse racing\\nSteeplechases\\n Cheltenham Gold Cup – Medoc II\\n Grand National – not held due to World War II\\nHurdle races\\n Champion Hurdle – Forestation\\nFlat races\\n Australia – Melbourne Cup won by Colonus\\n Canada – Queen's Plate won by Ten To Ace\\n France – Prix de l'Arc de Triomphe won by Djebel\\n Ireland – Irish Derby Stakes won by Windsor Slipper\\n English Triple Crown Races:\\n 2,000 Guineas Stakes – Big Game\\n The Derby – Watling Street\\n St. Leger Stakes – Sun Chariot\\n United States Triple Crown Races:\\n Kentucky Derby – Shut Out\\n Preakness Stakes – Alsab\\n Belmont Stakes – Shut Out\\n\\nIce hockey\\n National Hockey League\\n Stanley Cup – Toronto Maple Leafs won 4 games to 3 over the Detroit Red Wings\\n The Leafs won the series after losing the first three games, a feat that has only happened twice since then in North American professional sports.\\n NHL scoring leader – Bryan Hextall, New York Rangers\\n Hart Memorial Trophy for the NHL's Most Valuable Player – Tom Anderson, Brooklyn Americans\\n\\nMotor racing\\nEvents\\n No major races are held anywhere worldwide due to World War II\\n\\nRowing\\nThe Boat Race\\n Oxford and Cambridge Boat Race is not contested due to World War II\\n\\nRugby league\\n1942 New Zealand rugby league season\\n1942 NSWRFL season\\n1941–42 Northern Rugby Football League Wartime Emergency League season / 1942–43 Northern Rugby Football League Wartime Emergency League season\\n\\nRugby union\\n Five Nations Championship series is not contested due to World War II\\n\\nSpeed skating\\nSpeed Skating World Championships\\n not contested due to World War II\\n\\nTennis\\nAustralia\\n Australian Men's Singles Championship – not contested\\n Australian Women's Singles Championship – not contested\\nEngland\\n Wimbledon Men's Singles Championship – not contested\\n Wimbledon Women's Singles Championship – not contested\\nFrance\\n French Men's Singles Championship – Bernard Destremau (France) defeats Marcel Bernard (France) — score to be ascertained\\n French Women's Singles Championship – Alice Weiwers (Luxembourg) † details to be ascertained\\nUSA\\n American Men's Singles Championship – Ted Schroeder (USA) defeats Frank Parker (USA) 8–6, 7–5, 3–6, 4–6, 6–2\\n American Women's Singles Championship – Pauline Betz Addie (USA) defeats Louise Brough Clapp (USA) 4–6, 6–1, 6–4\\nDavis Cup\\n 1942 International Lawn Tennis Challenge – not contested\\n\\nAwards\\n Associated Press Male Athlete of the Year: Frank Sinkwich, College football\\n Associated Press Female Athlete of the Year: Gloria Callen, Swimming\\n\\nNotes\\n Owing to government bans on weekday sport, the Melbourne Cup was run on a Saturday from 1942 to 1944.\\n\\nReferences\\n\\n \\nSports by year\", \"Greensboro College is a private college in Greensboro, North Carolina.  It is affiliated with the United Methodist Church and was founded in 1838 by Rev. Peter Doub. The college enrolls about 1,000 students from 32 states, the District of Columbia, and 29 countries.\\n\\nHistory\\n\\nThe first college to open its doors within the town of Greensboro was the woman's college, Greensboro Female College. The school occupied a  campus near the heart of the city within what would become the College Hill Historic District. The institution had its origin in 1833, when the Greensboro Female College was organized as an institution for local children. It was the intent of the Rev. Peter Doub that the institution grow to serve women.\\n\\nThrough the Methodist Church, a charter was secured in 1838, an event which makes the college one of the oldest institutions of higher education for women in the United States. The college became coeducational in the late 1950s.\\n\\nThe cornerstone of the first building was laid in 1843, and in 1846 the institution opened its doors to students. Young women came from many southern states to become the first classes of the new president, the Rev. Solomon Lea, and his faculty.\\n\\nCampus\\n\\nLocated in the College Hill Historic District of Greensboro, North Carolina, the college's properties include several buildings of interest. Most are red-brick buildings built in a neoclassical revival or colonial styles. However, the most historic buildings are located around the campus quadrangle.\\n\\nThe oldest building and the administrative center of Greensboro College is the Main Building, housing the offices of the president, senior administrative officers, and important departments. The building also hosts the Brock Historical Museum, which displays artifacts relating to the history of the college as well as its relationship with the United Methodist Church.\\n\\nThe Finch Memorial Chapel was built in 1954 and is the worshiping heart of the college community. It is named after Hannah Brown Finch, an 1885 graduate and wife of Thomas J. Finch, the latter of whom was involved with Thomasville Furniture Industries and politics. Chapel services are held every Thursday.\\n\\nThe J.A. Jones Library is the bibliographic heart of the college community. Named after James Addison Jones, it houses the college's library collections. The building is also home to the Levy-Loewenstein Holocaust Collection, the First Citizens Bank Global Communications Center, and the Sternberger Cultural Center, the latter of which includes a 100-seat lecture hall.\\n\\nThe Cowan Humanities Building houses the offices of the Art and English/Communications, as well as a large lecture hall and several art galleries, including the Anne Rudd Gaylon Gallery, the Irene Cullis Gallery, and the LIFT Gallery. The building is also home to Middle College.\\n\\nThe Odell Memorial Building houses the offices of the performing arts departments, such as Theater and Music, and the 787-seat Huggins Performance Center. The building was built in 1922, but renovated in 1997 after a substantial donation from business leader Kenneth Lenon Huggins. The performance center is named after Huggins' wife, Gail.\\n\\nProctor Hall houses the offices of most academic departments while also containing classrooms and seminar rooms of various sizes. It consists of two buildings, an east and a west building. The Proctor Hall – East houses science laboratories and the offices of the Biology, Chemistry, Business, and Accounting Departments. Proctor Hall – West is where offices of other departments, such as the humanities and social sciences, are located. The Hall, first built in 1950, was named after Fred and Myrtle Proctor. The Proctors donated the funds necessary to renovate and update the halls in 1998.\\n\\nAcademics\\n\\nAcademic programs are organized across five different schools, the School of Arts, the School of Business, the School of Humanities, the School of Science and Mathematics, and the School of Social Sciences and Education. Greensboro College offers four undergraduate degrees – Bachelor of Arts, Bachelor of Business Administration, Bachelor of Music, and Bachelor of Science – across 35 undergraduate majors and 26 minors. The academic calendar consists of two semesters and a summer-school session. Full-time undergraduates must carry a minimum academic load of 12 credit hours per semester.\\n\\nAdditionally, the college offers five graduate degrees (masters-level):\\n Master's of Education in Birth-Kindergarten Education; Elementary Education; or Special Education/General Curriculum\\n Master's of Arts in Teaching English to Speakers of Other Languages (TESOL).\\n Master's of Arts in Theology, Ethics, and Culture.\\n\\nHonors program and academic honor societies\\nThe George Center for Honors Studies welcomes accepted students whose high school GPA is at least 3.65 and whose SAT score is at least 1240 or ACT Composite score is at least 26. They are interviewed prior to being determined for suitability for the program. Honors students are privy to certain courses that are team-taught by two professors and must complete a thesis to graduate. The student committee of the program also organizes extracurricular activities and outings for Honors students. The Honors Program is housed in the Honors House, just north of the Cowan Humanities Building.\\n\\nGreensboro College also has local chapters of the following national honor societies:\\n Alpha Chi, a national honor society recognizing superior academic achievement\\n Alpha Kappa Delta, national sociology honor society\\n Beta Beta Beta, national biology honor society\\n Delta Mu Delta, international business honor society\\n Kappa Delta Pi, international education honor society\\n Phi Alpha Theta, national history honor society\\n Pi Delta Phi, international French honor society\\n Pi Sigma Alpha, national political science honor society\\n Psi Chi, national psychology honor society\\n Sigma Delta Pi, national Spanish honor society\\n Sigma Tau Delta, international English honor society\\n Theta Alpha Kappa, national religion honor society\\n\\nAthletics\\n\\nThe Pride's athletic program competes in the NCAA's Division III and the USA South Athletic Conference. It offers 17 intercollegiate sports.  Men's sports include baseball, basketball, football, golf, lacrosse, soccer, swimming, wrestling and tennis. Women's sports include basketball, golf, lacrosse, soccer, softball, swimming, tennis and volleyball.\\n\\nThe men's golf team has twice won the Division III national championship, in 2000 and 2011.\\n\\nThe men's soccer team was NCAA Division III runner-up in 1989 when they lost 2–0 to Elizabethtown College. Women's soccer saw one of their own players, Mercedes Bauzá, chosen to play for the Puerto Rico women's national football team in 2018.\\n\\nAs of the beginning of the 2011–2012 school year, 77 Pride student-athletes had been named All-Americans and 26 had been named Academic All-Americans.\\n\\nMiddle College\\n\\nGreensboro College Middle College (GMC) is a high school program on the campus of Greensboro College located in Greensboro, North Carolina. It schools the 11th and 12th grades, and allows students to finish their high school career while earning college credit. GMC's main focus is to provide a more flexible learning environment for students previously unsuccessful or dissatisfied with traditional high school. As of the 2011–2012 school year, there are about 120 students enrolled.\\n\\nNotable alumni\\n Sallie Southall Cotten 1863, writer and clubwoman\\n Eileen Fulton '55, soap opera and Broadway actress\\n Carolyn Maloney '68, current U.S. Representative (D-NY) and chairwoman of the United States House Committee on Oversight and Reform\\n Ryan Nelsen, professional soccer player and coach (attended)\\n Sarah Dessen, novelist (attended)\\n R. Carter Pate '76, chairman of the board of Red Lion Hotels Corporation and former CEO of MV Transportation\\n Frederick A. Davie, '78, executive vice president at Union Theological Seminary and chairman of the New York City Civilian Complaint Review Board\\n Stephanie Paulsell '85, Susan Shallcross Swartz Professor of the Practice of Christian Studies at Harvard Divinity School and interim Pusey Minister of the Memorial Church of Harvard University\\n Dr. Jeremy Kinney '94, curator, Smithsonian National Air and Space Museum\\n Heather Macy '00, basketball coach\\n Jon Hardister '06, North Carolina House of Representatives Majority Whip\\n Mercedes Bauzá '19, soccer player for Puerto Rico Sol FC and the Puerto Rico women's national football team\\n\\nGallery\\n\\nNotes\\n\\nExternal links\\n\\n Official website\\n Official athletics website\\n Greensboro College student yearbooks on DigitalNC.org\\n\\n \\nFormer women's universities and colleges in the United States\\nPrivate universities and colleges in North Carolina\\nUniversities and colleges in Greensboro, North Carolina\\nEducational institutions established in 1838\\nUniversities and colleges accredited by the Southern Association of Colleges and Schools\\n1838 establishments in North Carolina\"]\n"
     ]
    }
   ],
   "source": [
    "#display validation set\n",
    "train_corpus,validation_corpus=split_validation_set(train_corpus)\n",
    "print(\"Validation Corpus Sample:\")\n",
    "print(validation_corpus[:5])"
   ]
  },
  {
   "cell_type": "code",
   "execution_count": 45,
   "id": "42acee14",
   "metadata": {},
   "outputs": [],
   "source": [
    "#preprocess data\n",
    "start_time = time.time()\n",
    "train_corpus=[preprocess_text(text) for text in train_corpus]\n",
    "test_corpus=[preprocess_text(text) for text in test_corpus]\n",
    "validation_corpus =[preprocess_text(text) for text in validation_corpus]\n",
    "preprocessing_time = time.time() - start_time"
   ]
  },
  {
   "cell_type": "code",
   "execution_count": 46,
   "id": "863e1bdc",
   "metadata": {},
   "outputs": [
    {
     "name": "stdout",
     "output_type": "stream",
     "text": [
      "Preprocessing Time: 109.54 seconds\n"
     ]
    }
   ],
   "source": [
    "print(f\"Preprocessing Time: {preprocessing_time:.2f} seconds\")"
   ]
  },
  {
   "cell_type": "markdown",
   "id": "edbe9ad0",
   "metadata": {},
   "source": [
    "B:ESTIMATION USING MLE"
   ]
  },
  {
   "cell_type": "code",
   "execution_count": 48,
   "id": "6f625466",
   "metadata": {},
   "outputs": [],
   "source": [
    "#generate n-gram models\n",
    "def generate_ngrams(tokens, n):\n",
    "    return [tuple(tokens[i:i + n]) for i in range(len(tokens) - n + 1)]"
   ]
  },
  {
   "cell_type": "code",
   "execution_count": 49,
   "id": "a1bc1f37",
   "metadata": {},
   "outputs": [],
   "source": [
    "# #Count n-grams in corpus\n",
    "# def count_ngrams(corpus, n):\n",
    "#     ngram_counts = Counter()\n",
    "#     for tokens in corpus:\n",
    "#         #tokens = preprocess_text(text)  # Tokenize the text\n",
    "#         ngrams = generate_ngrams(tokens, n)\n",
    "#         ngram_counts.update(ngrams)\n",
    "#     return ngram_counts"
   ]
  },
  {
   "cell_type": "code",
   "execution_count": 50,
   "id": "f2282ad8",
   "metadata": {},
   "outputs": [],
   "source": [
    "# Count n-grams in corpus with 1% filtering\n",
    "def count_ngrams_with_filter(corpus, n, min_doc_percentage):\n",
    "    ngram_counts = Counter()\n",
    "    doc_counts = defaultdict(int)\n",
    "    num_docs = len(corpus)\n",
    "    for tokens in corpus:\n",
    "        ngrams = set(generate_ngrams(tokens, n))  # Using set to count unique n-grams per document\n",
    "        for ngram in ngrams:\n",
    "            doc_counts[ngram] += 1\n",
    "    \n",
    "    # Filter n-grams that appear in at least min_doc_percentage(1%) of documents\n",
    "    min_doc_threshold = (min_doc_percentage / 100) * num_docs\n",
    "    for ngram, doc_count in doc_counts.items():\n",
    "        if doc_count >= min_doc_threshold:\n",
    "            ngram_counts[ngram] = doc_count\n",
    "    return ngram_counts"
   ]
  },
  {
   "cell_type": "code",
   "execution_count": 51,
   "id": "308755cb",
   "metadata": {
    "scrolled": false
   },
   "outputs": [],
   "source": [
    "# Count n-grams with 1% filtering\n",
    "start_time = time.time()\n",
    "min_doc_percentage = 1           \n",
    "unigram_counts = count_ngrams_with_filter(train_corpus, 1, min_doc_percentage)\n",
    "bigram_counts = count_ngrams_with_filter(train_corpus, 2, min_doc_percentage)\n",
    "trigram_counts = count_ngrams_with_filter(train_corpus, 3, min_doc_percentage)\n",
    "ngram_counting_time = time.time() - start_time"
   ]
  },
  {
   "cell_type": "code",
   "execution_count": 52,
   "id": "51826759",
   "metadata": {},
   "outputs": [
    {
     "name": "stdout",
     "output_type": "stream",
     "text": [
      "N-gram Counting Time: 29.99 seconds\n"
     ]
    }
   ],
   "source": [
    "print(f\"N-gram Counting Time: {ngram_counting_time:.2f} seconds\")"
   ]
  },
  {
   "cell_type": "code",
   "execution_count": 53,
   "id": "0d3d8069",
   "metadata": {},
   "outputs": [
    {
     "name": "stdout",
     "output_type": "stream",
     "text": [
      "Unigram Count: 9322\n",
      "Bigram Count: 7739\n",
      "Trigram Count: 1326\n"
     ]
    }
   ],
   "source": [
    "#debugging:Checking sizes of n-gram models\n",
    "print(\"Unigram Count:\", len(unigram_counts))\n",
    "print(\"Bigram Count:\", len(bigram_counts))\n",
    "print(\"Trigram Count:\", len(trigram_counts))"
   ]
  },
  {
   "cell_type": "code",
   "execution_count": 54,
   "id": "cf0f1342",
   "metadata": {},
   "outputs": [],
   "source": [
    "#saveing n-gram models to CSV\n",
    "def save_ngram_model_to_csv(ngram_counts, file_path):\n",
    "    df =pd.DataFrame(ngram_counts.items(),columns=['ngram','count'])\n",
    "    df.to_csv(file_path,index=False)"
   ]
  },
  {
   "cell_type": "code",
   "execution_count": 55,
   "id": "296048f9",
   "metadata": {},
   "outputs": [],
   "source": [
    "save_ngram_model_to_csv(unigram_counts,'unigram_model.csv')\n",
    "save_ngram_model_to_csv(bigram_counts,'bigram_model.csv')\n",
    "save_ngram_model_to_csv(trigram_counts,'trigram_model.csv')"
   ]
  },
  {
   "cell_type": "code",
   "execution_count": 56,
   "id": "3f0a2d8f",
   "metadata": {},
   "outputs": [],
   "source": [
    "#probabilities with Laplace smoothing\n",
    "def compute_probabilities(ngram_counts,lower_order_counts,vocab_size, k=5):\n",
    "    probabilities = {}\n",
    "    for ngram, count in ngram_counts.items():\n",
    "        prefix = ngram[:-1]\n",
    "        prefix_count = lower_order_counts.get(prefix, 0) if lower_order_counts else sum(ngram_counts.values())\n",
    "        probabilities[ngram] = (count + k) / (prefix_count + k * vocab_size)\n",
    "    return probabilities"
   ]
  },
  {
   "cell_type": "code",
   "execution_count": 57,
   "id": "fa748277",
   "metadata": {},
   "outputs": [],
   "source": [
    "#vocabulary size\n",
    "vocab_size = len(set(word for tokens in train_corpus for word in tokens))"
   ]
  },
  {
   "cell_type": "code",
   "execution_count": 58,
   "id": "194dfbaf",
   "metadata": {},
   "outputs": [],
   "source": [
    "# Compute probabilities\n",
    "unigram_probs = compute_probabilities(unigram_counts, {}, vocab_size, k=1)\n",
    "bigram_probs = compute_probabilities(bigram_counts, unigram_counts, vocab_size, k=1)\n",
    "trigram_probs = compute_probabilities(trigram_counts, bigram_counts, vocab_size, k=1)"
   ]
  },
  {
   "cell_type": "markdown",
   "id": "054c9cd6",
   "metadata": {},
   "source": [
    "C:EVALUATING USING PERPLEXITY"
   ]
  },
  {
   "cell_type": "code",
   "execution_count": null,
   "id": "9c9d18e7",
   "metadata": {},
   "outputs": [],
   "source": [
    "# Calculate perplexity\n",
    "def calculate_perplexity(test_corpus, n, probabilities, vocab_size, k=1):\n",
    "    total_log_prob = 0\n",
    "    total_words = 0\n",
    "    for tokens in test_corpus:\n",
    "        #tokens = preprocess_text(text)\n",
    "        ngrams = generate_ngrams(tokens, n)\n",
    "        for ngram in ngrams:\n",
    "            prob = probabilities.get(ngram, k / vocab_size)\n",
    "            total_log_prob += math.log(prob, 2)\n",
    "        total_words += len(ngrams)\n",
    "    return 2 ** (-total_log_prob / total_words)"
   ]
  },
  {
   "cell_type": "code",
   "execution_count": 60,
   "id": "2b194ce1",
   "metadata": {},
   "outputs": [],
   "source": [
    "start_time = time.time()\n",
    "unigram_perplexity=calculate_perplexity(test_corpus, 1, unigram_probs, vocab_size, k=1)\n",
    "bigram_perplexity= calculate_perplexity(test_corpus, 2, bigram_probs, vocab_size, k=1)\n",
    "trigram_perplexity=calculate_perplexity(test_corpus, 3, trigram_probs, vocab_size, k=1)\n",
    "perplexity_calc_time = time.time() - start_time"
   ]
  },
  {
   "cell_type": "code",
   "execution_count": 61,
   "id": "d6581bca",
   "metadata": {},
   "outputs": [
    {
     "name": "stdout",
     "output_type": "stream",
     "text": [
      "Perplexity Calculation Time: 0.11 seconds\n"
     ]
    }
   ],
   "source": [
    "print(f\"Perplexity Calculation Time: {perplexity_calc_time:.2f} seconds\")"
   ]
  },
  {
   "cell_type": "code",
   "execution_count": 62,
   "id": "fb8f4ad3",
   "metadata": {},
   "outputs": [
    {
     "name": "stdout",
     "output_type": "stream",
     "text": [
      "Unigram Perplexity:6422.015347734478\n",
      "Bigram Perplexity:129065.73676239813\n",
      "Trigram Perplexity:314517.2483936922\n"
     ]
    }
   ],
   "source": [
    "print(f\"Unigram Perplexity:{unigram_perplexity}\")\n",
    "print(f\"Bigram Perplexity:{bigram_perplexity}\")\n",
    "print(f\"Trigram Perplexity:{trigram_perplexity}\")"
   ]
  },
  {
   "cell_type": "markdown",
   "id": "096639bb",
   "metadata": {},
   "source": [
    "D:INTERPOLATION MODEL"
   ]
  },
  {
   "cell_type": "code",
   "execution_count": 63,
   "id": "bf4b786a",
   "metadata": {},
   "outputs": [],
   "source": [
    "#interpolated probabilities\n",
    "def compute_interpolated_prob(unigram_probs,bigram_probs,trigram_probs, ngram,lambdas):\n",
    "    lambda1, lambda2, lambda3 = lambdas\n",
    "    unigram_prob =unigram_probs.get((ngram[-1],),0)\n",
    "    bigram_prob =bigram_probs.get(ngram[-2:],0)\n",
    "    trigram_prob =trigram_probs.get(ngram, 0)\n",
    "    return lambda1*unigram_prob+lambda2*bigram_prob+lambda3*trigram_prob"
   ]
  },
  {
   "cell_type": "code",
   "execution_count": 64,
   "id": "4caa0989",
   "metadata": {},
   "outputs": [],
   "source": [
    "#interpolation perplexity\n",
    "def calculate_interpolation_perplexity(test_corpus,unigram_probs,bigram_probs,trigram_probs,vocab_size,lambdas,k=1):\n",
    "    total_log_prob = 0\n",
    "    total_words = 0\n",
    "    lambda1, lambda2, lambda3 = lambdas\n",
    "    for tokens in test_corpus:\n",
    "        #tokens = preprocess_text(text)\n",
    "        trigrams = generate_ngrams(tokens, 3)\n",
    "        for trigram in trigrams:\n",
    "            unigram =(trigram[-1],)\n",
    "            bigram =trigram[1:]\n",
    "            trigram_prob =trigram_probs.get(trigram, k / vocab_size)\n",
    "            bigram_prob =bigram_probs.get(bigram, k / vocab_size)\n",
    "            unigram_prob =unigram_probs.get(unigram, k / vocab_size)\n",
    "\n",
    "            prob = lambda3 *trigram_prob+lambda2*bigram_prob+lambda1*unigram_prob\n",
    "            total_log_prob += math.log(prob, 2)\n",
    "        total_words += len(trigrams)\n",
    "    return 2 ** (-total_log_prob / total_words)"
   ]
  },
  {
   "cell_type": "code",
   "execution_count": 65,
   "id": "012dfb4d",
   "metadata": {},
   "outputs": [],
   "source": [
    "# # Define smoothing parameter and vocab size\n",
    "# k = 1  # Adjust smoothing parameter as needed\n",
    "\n",
    "# for tokens in validation_corpus[:5]:  # Test on a few sentences\n",
    "#     for trigram in generate_ngrams(tokens, 3):\n",
    "#         unigram = (trigram[-1],)\n",
    "#         bigram = trigram[1:]\n",
    "        \n",
    "#         trigram_prob = trigram_probs.get(trigram, k / vocab_size)\n",
    "#         bigram_prob = bigram_probs.get(bigram, k / vocab_size)\n",
    "#         unigram_prob = unigram_probs.get(unigram, k / vocab_size)\n",
    "#         print(f\"Trigram: {trigram}, P(Tri): {trigram_prob}, P(Bi): {bigram_prob}, P(Uni): {unigram_prob}\")"
   ]
  },
  {
   "cell_type": "code",
   "execution_count": 66,
   "id": "d92b1b9c",
   "metadata": {},
   "outputs": [
    {
     "name": "stdout",
     "output_type": "stream",
     "text": [
      "Optimal Lambdas:(0.8, 0.1, 0.1)\n",
      "Optimal Interpolation Perplexity:7222.871744277145\n"
     ]
    }
   ],
   "source": [
    "#grid search to find the best lambda values\n",
    "def grid_search_lambdas(test_corpus,unigram_probs ,bigram_probs ,trigram_probs ,vocab_size ,k=1):\n",
    "    best_perplexity = float('inf')\n",
    "    best_lambdas = None\n",
    "    lambda_values = [0.1 * i for i in range(1, 10)] \n",
    "\n",
    "    for lambdas in product(lambda_values, repeat=3):\n",
    "        if sum(lambdas) == 1:                  \n",
    "            perplexity =calculate_interpolation_perplexity(\n",
    "                test_corpus,unigram_probs,bigram_probs,trigram_probs,vocab_size,lambdas,k=k\n",
    "            )\n",
    "            if perplexity < best_perplexity:\n",
    "                best_perplexity =perplexity\n",
    "                best_lambdas =lambdas\n",
    "    return best_lambdas,best_perplexity\n",
    "optimal_lambdas, optimal_perplexity =grid_search_lambdas(\n",
    "    test_corpus,unigram_probs, bigram_probs,trigram_probs,vocab_size,k=1)\n",
    "print(f\"Optimal Lambdas:{optimal_lambdas}\")\n",
    "print(f\"Optimal Interpolation Perplexity:{optimal_perplexity}\")"
   ]
  }
 ],
 "metadata": {
  "kernelspec": {
   "display_name": "nlp_assignment",
   "language": "python",
   "name": "python3"
  },
  "language_info": {
   "codemirror_mode": {
    "name": "ipython",
    "version": 3
   },
   "file_extension": ".py",
   "mimetype": "text/x-python",
   "name": "python",
   "nbconvert_exporter": "python",
   "pygments_lexer": "ipython3",
   "version": "3.12.9"
  }
 },
 "nbformat": 4,
 "nbformat_minor": 5
}
