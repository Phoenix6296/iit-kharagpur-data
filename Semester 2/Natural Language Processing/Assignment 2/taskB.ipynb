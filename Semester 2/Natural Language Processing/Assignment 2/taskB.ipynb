{
 "cells": [
  {
   "cell_type": "markdown",
   "id": "76188502-583b-4811-a4d3-f50dac681fee",
   "metadata": {},
   "source": [
    "# 🧠 PART B\n",
    "\n",
    "### 🔧 **1: Setup, Config & Imports**\n",
    "📦 Loads essential packages and tools  \n",
    "⚙️ Defines the Config class for consistent settings  \n",
    "💡 Enables spaCy GPU usage  \n",
    "📁 Prepares global configuration for the whole notebook"
   ]
  },
  {
   "cell_type": "code",
   "execution_count": 9,
   "id": "2c6293f3-126a-4873-b8b6-c2d7ac8e5dc9",
   "metadata": {
    "execution": {
     "iopub.execute_input": "2025-04-13T12:12:02.373096Z",
     "iopub.status.busy": "2025-04-13T12:12:02.372672Z",
     "iopub.status.idle": "2025-04-13T12:12:05.935929Z",
     "shell.execute_reply": "2025-04-13T12:12:05.935025Z",
     "shell.execute_reply.started": "2025-04-13T12:12:02.373059Z"
    },
    "trusted": true
   },
   "outputs": [
    {
     "name": "stdout",
     "output_type": "stream",
     "text": [
      "Requirement already satisfied: rouge-score in /usr/local/lib/python3.11/dist-packages (0.1.2)\n",
      "Requirement already satisfied: absl-py in /usr/local/lib/python3.11/dist-packages (from rouge-score) (1.4.0)\n",
      "Requirement already satisfied: nltk in /usr/local/lib/python3.11/dist-packages (from rouge-score) (3.9.1)\n",
      "Requirement already satisfied: numpy in /usr/local/lib/python3.11/dist-packages (from rouge-score) (1.26.4)\n",
      "Requirement already satisfied: six>=1.14.0 in /usr/local/lib/python3.11/dist-packages (from rouge-score) (1.17.0)\n",
      "Requirement already satisfied: click in /usr/local/lib/python3.11/dist-packages (from nltk->rouge-score) (8.1.8)\n",
      "Requirement already satisfied: joblib in /usr/local/lib/python3.11/dist-packages (from nltk->rouge-score) (1.4.2)\n",
      "Requirement already satisfied: regex>=2021.8.3 in /usr/local/lib/python3.11/dist-packages (from nltk->rouge-score) (2024.11.6)\n",
      "Requirement already satisfied: tqdm in /usr/local/lib/python3.11/dist-packages (from nltk->rouge-score) (4.67.1)\n",
      "Requirement already satisfied: mkl_fft in /usr/local/lib/python3.11/dist-packages (from numpy->rouge-score) (1.3.8)\n",
      "Requirement already satisfied: mkl_random in /usr/local/lib/python3.11/dist-packages (from numpy->rouge-score) (1.2.4)\n",
      "Requirement already satisfied: mkl_umath in /usr/local/lib/python3.11/dist-packages (from numpy->rouge-score) (0.1.1)\n",
      "Requirement already satisfied: mkl in /usr/local/lib/python3.11/dist-packages (from numpy->rouge-score) (2025.1.0)\n",
      "Requirement already satisfied: tbb4py in /usr/local/lib/python3.11/dist-packages (from numpy->rouge-score) (2022.1.0)\n",
      "Requirement already satisfied: mkl-service in /usr/local/lib/python3.11/dist-packages (from numpy->rouge-score) (2.4.1)\n",
      "Requirement already satisfied: intel-openmp<2026,>=2024 in /usr/local/lib/python3.11/dist-packages (from mkl->numpy->rouge-score) (2024.2.0)\n",
      "Requirement already satisfied: tbb==2022.* in /usr/local/lib/python3.11/dist-packages (from mkl->numpy->rouge-score) (2022.1.0)\n",
      "Requirement already satisfied: tcmlib==1.* in /usr/local/lib/python3.11/dist-packages (from tbb==2022.*->mkl->numpy->rouge-score) (1.2.0)\n",
      "Requirement already satisfied: intel-cmplr-lib-rt in /usr/local/lib/python3.11/dist-packages (from mkl_umath->numpy->rouge-score) (2024.2.0)\n",
      "Requirement already satisfied: intel-cmplr-lib-ur==2024.2.0 in /usr/local/lib/python3.11/dist-packages (from intel-openmp<2026,>=2024->mkl->numpy->rouge-score) (2024.2.0)\n"
     ]
    }
   ],
   "source": [
    "# %% Cell 1: Setup, Config Class & Imports\n",
    "import os\n",
    "import re\n",
    "import string\n",
    "import time\n",
    "import random\n",
    "import io\n",
    "import zipfile\n",
    "from collections import Counter\n",
    "from typing import Tuple, List, Dict, Any\n",
    "\n",
    "import numpy as np\n",
    "import pandas as pd\n",
    "import matplotlib.pyplot as plt\n",
    "from tqdm import tqdm\n",
    "\n",
    "from sklearn.model_selection import train_test_split\n",
    "import torch\n",
    "import torch.nn as nn\n",
    "import torch.optim as optim\n",
    "from torch.utils.data import Dataset, DataLoader\n",
    "import spacy\n",
    "\n",
    "# Configure spaCy: prefer GPU if available, load the small English model\n",
    "spacy.prefer_gpu()\n",
    "nlp = spacy.load(\"en_core_web_sm\", disable=[\"ner\", \"parser\"])\n",
    "\n",
    "# Install rouge-score if not installed\n",
    "!pip install rouge-score\n",
    "from rouge_score import rouge_scorer"
   ]
  },
  {
   "cell_type": "code",
   "execution_count": 10,
   "id": "b36d8ccd-af0d-46b0-812e-ad41fabcec08",
   "metadata": {
    "execution": {
     "iopub.execute_input": "2025-04-13T12:12:05.937897Z",
     "iopub.status.busy": "2025-04-13T12:12:05.937626Z",
     "iopub.status.idle": "2025-04-13T12:12:05.945805Z",
     "shell.execute_reply": "2025-04-13T12:12:05.945059Z",
     "shell.execute_reply.started": "2025-04-13T12:12:05.937875Z"
    },
    "trusted": true
   },
   "outputs": [
    {
     "name": "stdout",
     "output_type": "stream",
     "text": [
      "Using device: cuda\n",
      "Config settings: {'seed': 42, 'device': device(type='cuda'), 'emb_dim': 300, 'hidden_dim': 300, 'batch_size': 32, 'epochs': 10, 'glove_type': '6B', 'target_dir': 'data'}\n"
     ]
    }
   ],
   "source": [
    "class Config:\n",
    "    def __init__(self):\n",
    "        # Global settings\n",
    "        self.seed = 42\n",
    "        random.seed(self.seed)\n",
    "        np.random.seed(self.seed)\n",
    "        torch.manual_seed(self.seed)\n",
    "        self.device = torch.device(\"cuda\" if torch.cuda.is_available() else \"cpu\")\n",
    "        print(f\"Using device: {self.device}\")\n",
    "\n",
    "        # Hyperparameters\n",
    "        self.emb_dim = 300\n",
    "        self.hidden_dim = 300\n",
    "        self.batch_size = 32\n",
    "        self.epochs = 10\n",
    "\n",
    "        # GloVe and data paths\n",
    "        self.glove_type = '6B'\n",
    "        self.target_dir = 'data'\n",
    "\n",
    "# Create a global config instance and print its settings.\n",
    "config = Config()\n",
    "print(\"Config settings:\", vars(config))"
   ]
  },
  {
   "cell_type": "markdown",
   "id": "a4686179-c184-487c-b619-d2e6fdf038fc",
   "metadata": {},
   "source": [
    "### 🧠 **2: Load GloVe Embeddings**\n",
    "📥 Loads pre-trained GloVe vectors  \n",
    "🧮 Converts word embeddings into a PyTorch tensor  \n",
    "🔁 Skips unknown tokens, falls back to random init"
   ]
  },
  {
   "cell_type": "code",
   "execution_count": 11,
   "id": "aba98302-0a84-4341-b1c8-21436aed8c7d",
   "metadata": {
    "execution": {
     "iopub.execute_input": "2025-04-13T12:12:05.946728Z",
     "iopub.status.busy": "2025-04-13T12:12:05.946503Z",
     "iopub.status.idle": "2025-04-13T12:12:05.964949Z",
     "shell.execute_reply": "2025-04-13T12:12:05.964242Z",
     "shell.execute_reply.started": "2025-04-13T12:12:05.946710Z"
    },
    "trusted": true
   },
   "outputs": [],
   "source": [
    "def load_glove_embeddings(glove_path: str, vocab: Dict[str, int], emb_dim: int) -> torch.Tensor:\n",
    "    weights = np.random.normal(0, 0.1, (len(vocab), emb_dim))\n",
    "    try:\n",
    "        with open(glove_path, 'r', encoding='utf-8') as f:\n",
    "            for line in f:\n",
    "                parts = line.strip().split()\n",
    "                if parts:\n",
    "                    word, vec = parts[0], np.array(parts[1:], dtype=np.float32)\n",
    "                    if word in vocab:\n",
    "                        weights[vocab[word]] = vec\n",
    "    except Exception as e:\n",
    "        print(f\"Error loading embeddings from {glove_path}: {e}\")\n",
    "    return torch.tensor(weights, dtype=torch.float)"
   ]
  },
  {
   "cell_type": "markdown",
   "id": "04304542-5633-40e0-9073-614e9388095a",
   "metadata": {},
   "source": [
    "### 🏗️ **3: EncoderRNN (Baseline)**\n",
    "🧱 Simple GRU-based encoder  \n",
    "🔁 Uses bidirectional GRU to capture context  \n",
    "🔌 Has optional GloVe embedding support"
   ]
  },
  {
   "cell_type": "code",
   "execution_count": 12,
   "id": "9528d75a-b1c1-4903-a930-81adde8cbf30",
   "metadata": {
    "execution": {
     "iopub.execute_input": "2025-04-13T12:12:05.966933Z",
     "iopub.status.busy": "2025-04-13T12:12:05.966736Z",
     "iopub.status.idle": "2025-04-13T12:12:05.980264Z",
     "shell.execute_reply": "2025-04-13T12:12:05.979497Z",
     "shell.execute_reply.started": "2025-04-13T12:12:05.966918Z"
    },
    "trusted": true
   },
   "outputs": [],
   "source": [
    "class EncoderRNN(nn.Module):\n",
    "    def __init__(self, vocab_size: int, emb_dim: int, hidden_dim: int, vocab: Dict[str, int]):\n",
    "        super().__init__()\n",
    "        self.embedding = nn.Embedding(vocab_size, emb_dim, padding_idx=vocab['<pad>'])\n",
    "        self.dropout = nn.Dropout(0.5)\n",
    "        self.gru = nn.GRU(emb_dim, hidden_dim, batch_first=True, bidirectional=True)\n",
    "        self.vocab = vocab\n",
    "\n",
    "    def forward(self, input_seq: torch.Tensor) -> Tuple[Any, torch.Tensor]:\n",
    "        try:\n",
    "            embedded = self.dropout(self.embedding(input_seq))\n",
    "            _, hidden = self.gru(embedded)\n",
    "            # Sum the forward and backward hidden states\n",
    "            hidden = hidden[0] + hidden[1]\n",
    "            return None, hidden.unsqueeze(0)\n",
    "        except Exception as e:\n",
    "            print(f\"Error in EncoderRNN forward pass: {e}\")\n",
    "            return None, None\n",
    "\n",
    "    def load_embeddings(self, glove_path: str, emb_dim: int):\n",
    "        weights = load_glove_embeddings(glove_path, self.vocab, emb_dim)\n",
    "        self.embedding.weight.data.copy_(weights)"
   ]
  },
  {
   "cell_type": "markdown",
   "id": "4b3ef4d0-cb7d-48f3-b2ae-0dc115eb6aa5",
   "metadata": {},
   "source": [
    "### 🧬 **4: Hierarchical Encoder (HierEncoderRNN)**\n",
    "📚 Encodes text at two levels: word → sentence → document  \n",
    "🔁 Word-level GRU followed by sentence-level GRU  \n",
    "🧠 Builds document embeddings from sentence states"
   ]
  },
  {
   "cell_type": "code",
   "execution_count": 13,
   "id": "cdcc5508-d0e7-489e-8294-9f00d85700bb",
   "metadata": {
    "execution": {
     "iopub.execute_input": "2025-04-13T12:12:05.981875Z",
     "iopub.status.busy": "2025-04-13T12:12:05.981218Z",
     "iopub.status.idle": "2025-04-13T12:12:06.000634Z",
     "shell.execute_reply": "2025-04-13T12:12:05.999875Z",
     "shell.execute_reply.started": "2025-04-13T12:12:05.981853Z"
    },
    "trusted": true
   },
   "outputs": [],
   "source": [
    "class HierEncoderRNN(nn.Module):\n",
    "    def __init__(self, vocab_size: int, emb_dim: int, hidden_dim: int, vocab: Dict[str, int]):\n",
    "        super().__init__()\n",
    "        self.embedding = nn.Embedding(vocab_size, emb_dim, padding_idx=vocab['<pad>'])\n",
    "        self.dropout = nn.Dropout(0.5)\n",
    "        self.word_gru = nn.GRU(emb_dim, hidden_dim, batch_first=True, bidirectional=True)\n",
    "        self.sent_gru = nn.GRU(hidden_dim, hidden_dim, batch_first=True)\n",
    "        self.hidden_dim = hidden_dim\n",
    "        self.vocab = vocab\n",
    "\n",
    "    def forward(self, input_seq: torch.Tensor, inv_vocab: Dict[int, str]) -> Tuple[Any, torch.Tensor]:\n",
    "        batch_sentence_embeddings = []\n",
    "        i = 0\n",
    "        while i < input_seq.size(0):\n",
    "            seq = input_seq[i]\n",
    "            # Get indices that are not padding\n",
    "            indices = seq[seq != self.vocab['<pad>']].tolist()\n",
    "            # Convert indices to words using inv_vocab\n",
    "            text = \" \".join([inv_vocab.get(tok, '<unk>') for tok in indices])\n",
    "            # Split text into sentences and filter out empty strings\n",
    "            sentences = [s.strip() for s in text.split('.') if s.strip()]\n",
    "            sent_vecs = []\n",
    "            j = 0\n",
    "            while j < len(sentences):\n",
    "                s = sentences[j]\n",
    "                words = s.split()\n",
    "                if words:\n",
    "                    # Build word IDs list using a while loop\n",
    "                    word_ids_list = []\n",
    "                    k = 0\n",
    "                    while k < len(words):\n",
    "                        w = words[k]\n",
    "                        word_ids_list.append(self.vocab.get(w, self.vocab['<unk>']))\n",
    "                        k += 1\n",
    "                    # Convert list to tensor and move to the proper device\n",
    "                    word_ids = torch.tensor(word_ids_list).unsqueeze(0).to(input_seq.device)\n",
    "                    emb = self.dropout(self.embedding(word_ids))\n",
    "                    _, h = self.word_gru(emb)\n",
    "                    # Sum the forward and backward GRU hidden states\n",
    "                    sent_vec = h[0] + h[1]\n",
    "                    sent_vecs.append(sent_vec.squeeze(0))\n",
    "                j += 1\n",
    "            if not sent_vecs:\n",
    "                sent_vecs.append(torch.zeros((self.hidden_dim,), device=input_seq.device))\n",
    "            sent_tensor = torch.stack(sent_vecs).unsqueeze(0)\n",
    "            _, h_sent = self.sent_gru(sent_tensor)\n",
    "            batch_sentence_embeddings.append(h_sent.squeeze(1))\n",
    "            i += 1\n",
    "        # Ensure the final hidden state has shape (num_layers, batch, hidden_dim)\n",
    "        final_hidden = torch.stack(batch_sentence_embeddings).transpose(0, 1)\n",
    "        return None, final_hidden\n",
    "\n",
    "    # Add the load_embeddings method\n",
    "    def load_embeddings(self, glove_path: str, emb_dim: int):\n",
    "        weights = load_glove_embeddings(glove_path, self.vocab, emb_dim)\n",
    "        self.embedding.weight.data.copy_(weights)"
   ]
  },
  {
   "cell_type": "markdown",
   "id": "06c44bb4-12a3-40cb-9199-64851d300876",
   "metadata": {},
   "source": [
    "### 🔓 **5: DecoderRNN**\n",
    "🗣️ Standard 1-layer GRU decoder  \n",
    "🧾 Uses teacher forcing during training  \n",
    "🔡 Predicts next token in the title sequence"
   ]
  },
  {
   "cell_type": "code",
   "execution_count": 14,
   "id": "787dd81b-966e-45ec-b4c1-71621137627a",
   "metadata": {
    "execution": {
     "iopub.execute_input": "2025-04-13T12:12:06.001969Z",
     "iopub.status.busy": "2025-04-13T12:12:06.001444Z",
     "iopub.status.idle": "2025-04-13T12:12:06.020838Z",
     "shell.execute_reply": "2025-04-13T12:12:06.019924Z",
     "shell.execute_reply.started": "2025-04-13T12:12:06.001944Z"
    },
    "trusted": true
   },
   "outputs": [],
   "source": [
    "class DecoderRNN(nn.Module):\n",
    "    def __init__(self, vocab_size: int, emb_dim: int, hidden_dim: int, vocab: Dict[str, int]):\n",
    "        super().__init__()\n",
    "        self.embedding = nn.Embedding(vocab_size, emb_dim, padding_idx=vocab['<pad>'])\n",
    "        self.dropout = nn.Dropout(0.5)\n",
    "        self.gru = nn.GRU(emb_dim, hidden_dim, batch_first=True)\n",
    "        self.fc = nn.Linear(hidden_dim, vocab_size)\n",
    "        self.vocab = vocab\n",
    "\n",
    "    def forward(self, input_token: torch.Tensor, hidden: torch.Tensor) -> Tuple[torch.Tensor, torch.Tensor]:\n",
    "        emb = self.dropout(self.embedding(input_token.unsqueeze(1)))\n",
    "        out, hidden = self.gru(emb, hidden)\n",
    "        return self.fc(out.squeeze(1)), hidden"
   ]
  },
  {
   "cell_type": "markdown",
   "id": "202a9529-ad3d-46ba-aed5-ca435a3340d3",
   "metadata": {},
   "source": [
    "### 💡 **6: Decoder2RNN**\n",
    "🧠 Two-layer GRU decoder for better abstraction  \n",
    "⛓️ Stacked GRUs process input deeper  \n",
    "🧾 Keeps same interface as baseline decoder"
   ]
  },
  {
   "cell_type": "code",
   "execution_count": 15,
   "id": "99a3f143-4b42-4d15-8a43-ed5b077bfcdd",
   "metadata": {
    "execution": {
     "iopub.execute_input": "2025-04-13T12:12:06.022069Z",
     "iopub.status.busy": "2025-04-13T12:12:06.021848Z",
     "iopub.status.idle": "2025-04-13T12:12:06.042526Z",
     "shell.execute_reply": "2025-04-13T12:12:06.041766Z",
     "shell.execute_reply.started": "2025-04-13T12:12:06.022054Z"
    },
    "trusted": true
   },
   "outputs": [],
   "source": [
    "class Decoder2RNN(nn.Module):\n",
    "    def __init__(self, vocab_size: int, emb_dim: int, hidden_dim: int, vocab: Dict[str, int]):\n",
    "        super().__init__()\n",
    "        self.embedding = nn.Embedding(vocab_size, emb_dim, padding_idx=vocab['<pad>'])\n",
    "        self.dropout = nn.Dropout(0.5)\n",
    "        self.gru1 = nn.GRU(emb_dim, hidden_dim, batch_first=True)\n",
    "        self.gru2 = nn.GRU(hidden_dim, hidden_dim, batch_first=True)\n",
    "        self.fc = nn.Linear(hidden_dim, vocab_size)\n",
    "        self.vocab = vocab\n",
    "\n",
    "    def forward(self, input_token: torch.Tensor, hidden: torch.Tensor) -> Tuple[Any, torch.Tensor]:\n",
    "        try:\n",
    "            emb = self.dropout(self.embedding(input_token.unsqueeze(1)))\n",
    "            out1, _ = self.gru1(emb, hidden)\n",
    "            out2, hidden = self.gru2(out1, hidden)\n",
    "            output = self.fc(out2.squeeze(1))\n",
    "            return output, hidden\n",
    "        except Exception as e:\n",
    "            print(f\"Error in Decoder2RNN forward pass: {e}\")\n",
    "            return None, hidden"
   ]
  },
  {
   "cell_type": "markdown",
   "id": "dca8c64e-2a57-4c46-bf64-79e3f0a1cbf3",
   "metadata": {},
   "source": [
    "### 🧩 **7: Seq2seq Wrapper**\n",
    "⚙️ Combines encoder & decoder into one model  \n",
    "🚀 Implements beam search and greedy decoding  \n",
    "🔁 Manages end-to-end generation"
   ]
  },
  {
   "cell_type": "code",
   "execution_count": 16,
   "id": "d7156b54-78ce-4fae-b318-1e39cbfd996d",
   "metadata": {
    "execution": {
     "iopub.execute_input": "2025-04-13T12:12:06.044118Z",
     "iopub.status.busy": "2025-04-13T12:12:06.043861Z",
     "iopub.status.idle": "2025-04-13T12:12:06.068297Z",
     "shell.execute_reply": "2025-04-13T12:12:06.067626Z",
     "shell.execute_reply.started": "2025-04-13T12:12:06.044096Z"
    },
    "trusted": true
   },
   "outputs": [
    {
     "name": "stdout",
     "output_type": "stream",
     "text": [
      "Model definitions have been loaded successfully.\n"
     ]
    }
   ],
   "source": [
    "class Seq2seqRNN(nn.Module):\n",
    "    def __init__(self, vocab_size: int, emb_dim: int, hidden_dim: int, device: torch.device, \n",
    "                 vocab: Dict[str, int], use_hier_encoder: bool = False, use_decoder2: bool = False, \n",
    "                 load_embeddings: bool = False, embedding_path: str = None):\n",
    "        super().__init__()\n",
    "        if use_hier_encoder:\n",
    "            self.encoder = HierEncoderRNN(vocab_size, emb_dim, hidden_dim, vocab)\n",
    "        else:\n",
    "            self.encoder = EncoderRNN(vocab_size, emb_dim, hidden_dim, vocab)\n",
    "        if load_embeddings and embedding_path:\n",
    "            self.encoder.load_embeddings(embedding_path, emb_dim)\n",
    "        if use_decoder2:\n",
    "            self.decoder = Decoder2RNN(vocab_size, emb_dim, hidden_dim, vocab)\n",
    "        else:\n",
    "            self.decoder = DecoderRNN(vocab_size, emb_dim, hidden_dim, vocab)\n",
    "        self.device = device\n",
    "        self.vocab = vocab\n",
    "\n",
    "    def forward(self, body: torch.Tensor, title: torch.Tensor = None, teacher_forcing_ratio: float = 0.5,\n",
    "            max_new_tokens: int = 30, inv_vocab: Dict[int, str] = None) -> Tuple[torch.Tensor, bool]:\n",
    "        # Run the encoder\n",
    "        if isinstance(self.encoder, HierEncoderRNN):\n",
    "            _, hidden = self.encoder(body, inv_vocab)\n",
    "        else:\n",
    "            _, hidden = self.encoder(body)\n",
    "        batch_size = body.size(0)\n",
    "        input_token = torch.full((batch_size,), self.vocab['<bos>'], device=self.device, dtype=torch.long)\n",
    "        outputs = []\n",
    "        \n",
    "        # Use teacher forcing if title is provided and the random condition is met.\n",
    "        if title is not None and random.random() < teacher_forcing_ratio:\n",
    "            use_tf = True\n",
    "        else:\n",
    "            use_tf = False\n",
    "\n",
    "        \n",
    "        # Use a while loop for generating tokens\n",
    "        t = 0\n",
    "        while t < max_new_tokens:\n",
    "            logits, hidden = self.decoder(input_token, hidden)\n",
    "            outputs.append(logits.unsqueeze(1))\n",
    "            if use_tf and title is not None and t + 1 < title.size(1):\n",
    "                input_token = title[:, t + 1]\n",
    "            else:\n",
    "                input_token = logits.argmax(dim=1)\n",
    "            t += 1\n",
    "        return torch.cat(outputs, dim=1), use_tf\n",
    "\n",
    "    def generate(self, body: torch.Tensor, max_new_tokens: int = 30, beam_search: bool = False, \n",
    "                 beam_width: int = 3, inv_vocab: Dict[int, str] = None) -> torch.Tensor:\n",
    "        self.eval()\n",
    "        with torch.no_grad():\n",
    "            if beam_search:\n",
    "                return self._beam_search(body, beam_width, max_new_tokens, inv_vocab)\n",
    "            else:\n",
    "                outputs, _ = self.forward(body, max_new_tokens=max_new_tokens, inv_vocab=inv_vocab)\n",
    "                return outputs.argmax(dim=2)\n",
    "\n",
    "    def _beam_search(self, body: torch.Tensor, beam_width: int, max_new_tokens: int, \n",
    "                 inv_vocab: Dict[int, str]) -> torch.Tensor:\n",
    "        if isinstance(self.encoder, HierEncoderRNN):\n",
    "            _, hidden = self.encoder(body, inv_vocab)\n",
    "        else:\n",
    "            _, hidden = self.encoder(body)\n",
    "        bos_token = self.vocab['<bos>']\n",
    "        eos_token = self.vocab['<eos>']\n",
    "        sequences = [[[bos_token], 0.0, hidden]]\n",
    "        \n",
    "        t = 0\n",
    "        while t < max_new_tokens:\n",
    "            all_candidates = []\n",
    "            for tokens, score, h in sequences:\n",
    "                if tokens[-1] == eos_token:\n",
    "                    all_candidates.append([tokens, score, h])\n",
    "                    continue\n",
    "                input_token = torch.tensor([tokens[-1]], device=self.device)\n",
    "                logits, h_new = self.decoder(input_token, h)\n",
    "                probs = torch.nn.functional.log_softmax(logits, dim=-1)\n",
    "                top_probs, top_ids = probs.topk(beam_width)\n",
    "                for i in range(beam_width):\n",
    "                    token = top_ids[0][i].item()\n",
    "                    new_score = score + top_probs[0][i].item()\n",
    "                    all_candidates.append([tokens + [token], new_score, h_new])\n",
    "            sequences = sorted(all_candidates, key=lambda x: x[1], reverse=True)[:beam_width]\n",
    "            t += 1\n",
    "        best_seq = sequences[0][0]\n",
    "        return torch.tensor(best_seq, device=self.device).unsqueeze(0)\n",
    "\n",
    "print(\"Model definitions have been loaded successfully.\")"
   ]
  },
  {
   "cell_type": "markdown",
   "id": "78c382ac-fc0d-4284-a016-9568f8f53200",
   "metadata": {},
   "source": [
    "### 📚 **8: Dataset Class**\n",
    "🧼 Preprocesses Wikipedia body-title pairs  \n",
    "🔤 Handles tokenization, padding, truncation  \n",
    "🔢 Converts text into numerical IDs"
   ]
  },
  {
   "cell_type": "code",
   "execution_count": 17,
   "id": "87451470-9089-4f82-b293-642f1a73290f",
   "metadata": {
    "execution": {
     "iopub.execute_input": "2025-04-13T12:12:06.069267Z",
     "iopub.status.busy": "2025-04-13T12:12:06.069056Z",
     "iopub.status.idle": "2025-04-13T12:12:06.090479Z",
     "shell.execute_reply": "2025-04-13T12:12:06.089914Z",
     "shell.execute_reply.started": "2025-04-13T12:12:06.069248Z"
    },
    "trusted": true
   },
   "outputs": [
    {
     "name": "stdout",
     "output_type": "stream",
     "text": [
      "Cell 3 executed successfully.\n"
     ]
    }
   ],
   "source": [
    "class WikiTitleDataset(Dataset):\n",
    "    def __init__(self, df: pd.DataFrame, vocab: Dict[str, int], max_body_len: int = 500, max_title_len: int = 30):\n",
    "        self.df = df\n",
    "        self.vocab = vocab\n",
    "        self.max_body_len = max_body_len\n",
    "        self.max_title_len = max_title_len\n",
    "\n",
    "    def __len__(self) -> int:\n",
    "        return len(self.df)\n",
    "\n",
    "    def __getitem__(self, idx: int) -> Tuple[torch.Tensor, torch.Tensor]:\n",
    "        row = self.df.iloc[idx]\n",
    "        body_tokens = row['processed_text'].split()[:self.max_body_len]\n",
    "        title_tokens = row['title'].split()\n",
    "        body = [self.vocab.get(tok, self.vocab['<unk>']) for tok in body_tokens]\n",
    "        title = [self.vocab['<bos>']] + [self.vocab.get(tok, self.vocab['<unk>']) for tok in title_tokens] + [self.vocab['<eos>']]\n",
    "        return torch.tensor(body), torch.tensor(title[:self.max_title_len])\n",
    "print(\"Cell 3 executed successfully.\")"
   ]
  },
  {
   "cell_type": "markdown",
   "id": "ab6d1091-cabb-4901-a791-9c18abc1a53d",
   "metadata": {},
   "source": [
    "### 🔁 **9: Model Pipeline**\n",
    "🏭 Full end-to-end model handler  \n",
    "📥 Downloads GloVe  \n",
    "🛠️ Builds vocabulary and dataloaders  \n",
    "🎓 Trains with teacher forcing  \n",
    "📊 Evaluates using ROUGE  \n",
    "🧪 Runs ablations for 5 model variants"
   ]
  },
  {
   "cell_type": "code",
   "execution_count": 18,
   "id": "a92063a0-c1c4-4f16-8e00-2f82433f001b",
   "metadata": {
    "execution": {
     "iopub.execute_input": "2025-04-13T12:12:06.092923Z",
     "iopub.status.busy": "2025-04-13T12:12:06.092405Z",
     "iopub.status.idle": "2025-04-13T12:12:06.120480Z",
     "shell.execute_reply": "2025-04-13T12:12:06.119790Z",
     "shell.execute_reply.started": "2025-04-13T12:12:06.092904Z"
    },
    "trusted": true
   },
   "outputs": [
    {
     "name": "stdout",
     "output_type": "stream",
     "text": [
      "Pipeline class definitions have been loaded successfully.\n"
     ]
    }
   ],
   "source": [
    "class ModelPipeline:\n",
    "    def __init__(self, train_path: str, test_path: str, config: Config, min_freq_ratio: float = 0.01):\n",
    "        self.train_path = train_path\n",
    "        self.test_path = test_path\n",
    "        self.config = config\n",
    "        self.min_freq_ratio = min_freq_ratio\n",
    "\n",
    "        self.GLOVE_PATH = self.download_glove_embeddings()\n",
    "        self.train_df, self.test_df = self.load_data()\n",
    "        print(\"Data loading completed.\")\n",
    "\n",
    "        t_preproc = time.time()\n",
    "        self.preprocess_data()\n",
    "        print(f\"Data preprocessing took {time.time() - t_preproc:.2f} seconds.\")\n",
    "\n",
    "        t_vocab = time.time()\n",
    "        self.build_vocabulary()\n",
    "        print(f\"Building vocabulary took {time.time() - t_vocab:.2f} seconds.\")\n",
    "\n",
    "        t_dataset = time.time()\n",
    "        self.create_datasets()\n",
    "        print(f\"Dataset creation took {time.time() - t_dataset:.2f} seconds.\")\n",
    "\n",
    "    def download_glove_embeddings(self) -> str:\n",
    "        os.makedirs(self.config.target_dir, exist_ok=True)\n",
    "        glove_path = os.path.join(self.config.target_dir, f'glove.{self.config.glove_type}.{self.config.emb_dim}d.txt')\n",
    "        if os.path.exists(glove_path):\n",
    "            return glove_path\n",
    "        try:\n",
    "            import requests\n",
    "            url = f\"https://nlp.stanford.edu/data/glove.{self.config.glove_type}.zip\"\n",
    "            response = requests.get(url, stream=True)\n",
    "            with zipfile.ZipFile(io.BytesIO(response.content)) as zip_file:\n",
    "                target_file = f\"glove.{self.config.glove_type}.{self.config.emb_dim}d.txt\"\n",
    "                zip_file.extract(target_file, path=self.config.target_dir)\n",
    "            return glove_path\n",
    "        except Exception as e:\n",
    "            print(f\"Error downloading GloVe: {e}\")\n",
    "            return \"\"\n",
    "\n",
    "    def load_data(self) -> Tuple[pd.DataFrame, pd.DataFrame]:\n",
    "        train_df = pd.read_csv(self.train_path)\n",
    "        test_df = pd.read_csv(self.test_path)\n",
    "        return train_df, test_df\n",
    "\n",
    "    @staticmethod\n",
    "    def preprocess_text(text: str) -> str:\n",
    "        text = text.lower().encode('ascii', errors='ignore').decode('utf-8')\n",
    "        text = text.translate(str.maketrans('', '', string.punctuation))\n",
    "        doc = nlp(text)\n",
    "        tokens = [token.lemma_ for token in doc if token.is_alpha and not token.is_stop]\n",
    "        return \" \".join(tokens)\n",
    "\n",
    "    def preprocess_data(self) -> None:\n",
    "        tqdm.pandas(desc=\"Preprocessing\")\n",
    "        self.train_df['processed_text'] = self.train_df['text'].progress_apply(self.preprocess_text)\n",
    "        self.test_df['processed_text'] = self.test_df['text'].progress_apply(self.preprocess_text)\n",
    "        self.validation_df = self.train_df.iloc[:500].copy()\n",
    "        self.train_df = self.train_df.iloc[500:].reset_index(drop=True)\n",
    "\n",
    "    def build_vocabulary(self) -> None:\n",
    "        all_texts = pd.concat([self.train_df['processed_text'], self.train_df['title']])\n",
    "        counter = Counter()\n",
    "        for text in all_texts:\n",
    "            counter.update(text.strip().split())\n",
    "        min_freq = max(1, int(len(all_texts) * self.min_freq_ratio))\n",
    "        self.vocab = {'<pad>': 0, '<bos>': 1, '<eos>': 2, '<unk>': 3}\n",
    "        for token, freq in counter.items():\n",
    "            if freq >= min_freq and token not in self.vocab:\n",
    "                self.vocab[token] = len(self.vocab)\n",
    "        self.inv_vocab = {i: w for w, i in self.vocab.items()}\n",
    "\n",
    "    def create_datasets(self) -> None:\n",
    "        self.train_dataset = WikiTitleDataset(self.train_df, self.vocab)\n",
    "        self.val_dataset = WikiTitleDataset(self.validation_df, self.vocab)\n",
    "        self.test_dataset = WikiTitleDataset(self.test_df, self.vocab)\n",
    "        self.train_loader = DataLoader(self.train_dataset, batch_size=self.config.batch_size, shuffle=True,\n",
    "                                       collate_fn=self.collate_fn)\n",
    "        self.val_loader = DataLoader(self.val_dataset, batch_size=self.config.batch_size, shuffle=False,\n",
    "                                     collate_fn=self.collate_fn)\n",
    "\n",
    "    def collate_fn(self, batch: List[Tuple[torch.Tensor, torch.Tensor]]) -> Tuple[torch.Tensor, torch.Tensor]:\n",
    "        bodies, titles = zip(*batch)\n",
    "        bodies = nn.utils.rnn.pad_sequence(bodies, batch_first=True, padding_value=self.vocab['<pad>'])\n",
    "        titles = nn.utils.rnn.pad_sequence(titles, batch_first=True, padding_value=self.vocab['<pad>'])\n",
    "        return bodies, titles\n",
    "\n",
    "    def train_epoch(self, model: nn.Module, dataloader: DataLoader, optimizer: optim.Optimizer, \n",
    "                    criterion: nn.Module, tf_ratio: float) -> float:\n",
    "        model.train()\n",
    "        total_loss = 0.0\n",
    "        for bodies, titles in tqdm(dataloader, desc=\"Training\", leave=False):\n",
    "            bodies, titles = bodies.to(self.config.device), titles.to(self.config.device)\n",
    "            optimizer.zero_grad()\n",
    "            outputs, _ = model(bodies, titles, teacher_forcing_ratio=tf_ratio, \n",
    "                                 max_new_tokens=titles.size(1) - 1, inv_vocab=self.inv_vocab)\n",
    "            targets = titles[:, 1:1 + outputs.size(1)]\n",
    "            loss = criterion(outputs.view(-1, outputs.size(-1)), targets.contiguous().view(-1))\n",
    "            loss.backward()\n",
    "            optimizer.step()\n",
    "            total_loss += loss.item()\n",
    "        return total_loss / len(dataloader)\n",
    "    \n",
    "    def evaluate_model(self, model: nn.Module, dataloader: DataLoader, criterion: nn.Module) -> float:\n",
    "        model.eval()\n",
    "        total_loss = 0.0\n",
    "        with torch.no_grad():\n",
    "            for bodies, titles in tqdm(dataloader, desc=\"Evaluating\", leave=False):\n",
    "                bodies, titles = bodies.to(self.config.device), titles.to(self.config.device)\n",
    "                outputs, _ = model(bodies, titles, teacher_forcing_ratio=0.0,\n",
    "                                     max_new_tokens=titles.size(1) - 1, inv_vocab=self.inv_vocab)\n",
    "                targets = titles[:, 1:1 + outputs.size(1)]\n",
    "                loss = criterion(outputs.view(-1, outputs.size(-1)), targets.contiguous().view(-1))\n",
    "                total_loss += loss.item()\n",
    "        return total_loss / len(dataloader)\n",
    "\n",
    "    def compute_rouge(self, model: nn.Module, dataset: Dataset, beam: bool = False, \n",
    "                      print_samples: int = 5) -> Dict[str, float]:\n",
    "        scorer = rouge_scorer.RougeScorer(['rouge1', 'rouge2', 'rougeL'], use_stemmer=True)\n",
    "        scores = {'rouge1': [], 'rouge2': [], 'rougeL': []}\n",
    "        examples = []\n",
    "        for i, (body, title) in enumerate(dataset):\n",
    "            body = body.unsqueeze(0).to(self.config.device)\n",
    "            pred = model.generate(body, beam_search=beam, inv_vocab=self.inv_vocab).squeeze()\n",
    "            pred_tokens = [self.inv_vocab.get(t, '<unk>') for t in pred.cpu().tolist() if t not in [0, 1, 2]]\n",
    "            pred_text = ' '.join(pred_tokens)\n",
    "            true_tokens = [self.inv_vocab.get(t, '<unk>') for t in title.tolist()[1:-1]]\n",
    "            true_text = ' '.join(true_tokens)\n",
    "            result = scorer.score(true_text, pred_text)\n",
    "            for k in scores:\n",
    "                scores[k].append(result[k].fmeasure)\n",
    "            if len(examples) < print_samples:\n",
    "                examples.append((true_text, pred_text))\n",
    "        print(\"\\n=== Examples ===\")\n",
    "        for ref, gen in examples:\n",
    "            print(f\"Reference: {ref}\\nGenerated: {gen}\\n\")\n",
    "        return {k: np.mean(v) for k, v in scores.items()}\n",
    "\n",
    "    def run_model(self, name: str, use_glove: bool = False, use_hier_encoder: bool = False, \n",
    "                  use_decoder2: bool = False) -> Dict[str, Any]:\n",
    "        print(f\"\\n===== Running: {name} =====\")\n",
    "        model = Seq2seqRNN(\n",
    "            vocab_size=len(self.vocab),\n",
    "            emb_dim=self.config.emb_dim,\n",
    "            hidden_dim=self.config.hidden_dim,\n",
    "            device=self.config.device,\n",
    "            vocab=self.vocab,\n",
    "            use_hier_encoder=use_hier_encoder,\n",
    "            use_decoder2=use_decoder2,\n",
    "            load_embeddings=use_glove,\n",
    "            embedding_path=self.GLOVE_PATH\n",
    "        ).to(self.config.device)\n",
    "        \n",
    "        optimizer = optim.Adam(model.parameters(), lr=0.001)\n",
    "        criterion = nn.CrossEntropyLoss(ignore_index=self.vocab['<pad>'])\n",
    "        best_val_loss = float('inf')\n",
    "        best_model_state = None\n",
    "        start_time = time.time()\n",
    "\n",
    "        for epoch in range(self.config.epochs):\n",
    "            t_epoch_start = time.time()\n",
    "            train_loss = self.train_epoch(model, self.train_loader, optimizer, criterion, tf_ratio=0.5)\n",
    "            val_loss = self.evaluate_model(model, self.val_loader, criterion)\n",
    "            t_epoch_end = time.time()\n",
    "            print(f\"Epoch {epoch + 1}: Train Loss={train_loss:.4f}, Val Loss={val_loss:.4f}, \"\n",
    "                  f\"Epoch Time={t_epoch_end - t_epoch_start:.2f} s\")\n",
    "            if val_loss < best_val_loss:\n",
    "                best_val_loss = val_loss\n",
    "                best_model_state = model.state_dict()\n",
    "        model.load_state_dict(best_model_state)\n",
    "        rouge_greedy = self.compute_rouge(model, self.test_dataset)\n",
    "        rouge_beam = self.compute_rouge(model, self.test_dataset, beam=True)\n",
    "        print(f\"{name} - ROUGE Greedy: {rouge_greedy}\")\n",
    "        print(f\"{name} - ROUGE Beam: {rouge_beam}\")\n",
    "        elapsed_time = time.time() - start_time\n",
    "        print(f\"{name} - Total Training & Evaluation Time: {elapsed_time:.2f} seconds\\n\")\n",
    "        return {'name': name, 'rouge': rouge_greedy, 'time': elapsed_time}\n",
    "\n",
    "print(\"Pipeline class definitions have been loaded successfully.\")"
   ]
  },
  {
   "cell_type": "markdown",
   "id": "87386ad6-e153-4fb2-8811-bb96831ed424",
   "metadata": {},
   "source": [
    "### 🚀 **10: Main Function**\n",
    "🎬 Runs full training & evaluation for:\n",
    "1. 🧱 Baseline  \n",
    "2. 🧠 +GloVe  \n",
    "3. 🧬 +Hierarchical Encoder  \n",
    "4. 🔓 +2-layer Decoder  \n",
    "5. 🧩 Full model  \n",
    "📈 Visualizes ROUGE & training time"
   ]
  },
  {
   "cell_type": "code",
   "execution_count": 19,
   "id": "6de7a92e",
   "metadata": {
    "execution": {
     "iopub.execute_input": "2025-04-13T12:12:06.121569Z",
     "iopub.status.busy": "2025-04-13T12:12:06.121315Z",
     "iopub.status.idle": "2025-04-13T15:02:35.799259Z",
     "shell.execute_reply": "2025-04-13T15:02:35.798533Z",
     "shell.execute_reply.started": "2025-04-13T12:12:06.121553Z"
    },
    "trusted": true
   },
   "outputs": [
    {
     "name": "stdout",
     "output_type": "stream",
     "text": [
      "Data loading completed.\n"
     ]
    },
    {
     "name": "stderr",
     "output_type": "stream",
     "text": [
      "Preprocessing: 100%|██████████| 13879/13879 [15:41<00:00, 14.74it/s]\n",
      "Preprocessing: 100%|██████████| 100/100 [00:06<00:00, 14.67it/s]\n"
     ]
    },
    {
     "name": "stdout",
     "output_type": "stream",
     "text": [
      "Data preprocessing took 948.34 seconds.\n",
      "Building vocabulary took 3.10 seconds.\n",
      "Dataset creation took 0.00 seconds.\n",
      "\n",
      "===== Running: Baseline =====\n"
     ]
    },
    {
     "name": "stderr",
     "output_type": "stream",
     "text": [
      "                                                           \r"
     ]
    },
    {
     "name": "stdout",
     "output_type": "stream",
     "text": [
      "Epoch 1: Train Loss=0.7062, Val Loss=0.4107, Epoch Time=34.69 s\n"
     ]
    },
    {
     "name": "stderr",
     "output_type": "stream",
     "text": [
      "                                                           \r"
     ]
    },
    {
     "name": "stdout",
     "output_type": "stream",
     "text": [
      "Epoch 2: Train Loss=0.4317, Val Loss=0.3528, Epoch Time=34.57 s\n"
     ]
    },
    {
     "name": "stderr",
     "output_type": "stream",
     "text": [
      "                                                           \r"
     ]
    },
    {
     "name": "stdout",
     "output_type": "stream",
     "text": [
      "Epoch 3: Train Loss=0.3893, Val Loss=0.3543, Epoch Time=34.61 s\n"
     ]
    },
    {
     "name": "stderr",
     "output_type": "stream",
     "text": [
      "                                                           \r"
     ]
    },
    {
     "name": "stdout",
     "output_type": "stream",
     "text": [
      "Epoch 4: Train Loss=0.3538, Val Loss=0.3231, Epoch Time=34.53 s\n"
     ]
    },
    {
     "name": "stderr",
     "output_type": "stream",
     "text": [
      "                                                           \r"
     ]
    },
    {
     "name": "stdout",
     "output_type": "stream",
     "text": [
      "Epoch 5: Train Loss=0.3193, Val Loss=0.3104, Epoch Time=34.58 s\n"
     ]
    },
    {
     "name": "stderr",
     "output_type": "stream",
     "text": [
      "                                                           \r"
     ]
    },
    {
     "name": "stdout",
     "output_type": "stream",
     "text": [
      "Epoch 6: Train Loss=0.2917, Val Loss=0.3019, Epoch Time=34.57 s\n"
     ]
    },
    {
     "name": "stderr",
     "output_type": "stream",
     "text": [
      "                                                           \r"
     ]
    },
    {
     "name": "stdout",
     "output_type": "stream",
     "text": [
      "Epoch 7: Train Loss=0.2710, Val Loss=0.3115, Epoch Time=34.66 s\n"
     ]
    },
    {
     "name": "stderr",
     "output_type": "stream",
     "text": [
      "                                                           \r"
     ]
    },
    {
     "name": "stdout",
     "output_type": "stream",
     "text": [
      "Epoch 8: Train Loss=0.2508, Val Loss=0.3017, Epoch Time=34.59 s\n"
     ]
    },
    {
     "name": "stderr",
     "output_type": "stream",
     "text": [
      "                                                           \r"
     ]
    },
    {
     "name": "stdout",
     "output_type": "stream",
     "text": [
      "Epoch 9: Train Loss=0.2365, Val Loss=0.3120, Epoch Time=34.58 s\n"
     ]
    },
    {
     "name": "stderr",
     "output_type": "stream",
     "text": [
      "                                                           \r"
     ]
    },
    {
     "name": "stdout",
     "output_type": "stream",
     "text": [
      "Epoch 10: Train Loss=0.2193, Val Loss=0.3033, Epoch Time=34.60 s\n",
      "\n",
      "=== Examples ===\n",
      "Reference: <unk>\n",
      "Generated: <unk>\n",
      "\n",
      "Reference: <unk> <unk> <unk> <unk>\n",
      "Generated: <unk> <unk> <unk> <unk>\n",
      "\n",
      "Reference: <unk> <unk> <unk>\n",
      "Generated: <unk> <unk>\n",
      "\n",
      "Reference: <unk> of people <unk> <unk>\n",
      "Generated: <unk> of people <unk> <unk> <unk>\n",
      "\n",
      "Reference: <unk>\n",
      "Generated: <unk>\n",
      "\n",
      "\n",
      "=== Examples ===\n",
      "Reference: <unk>\n",
      "Generated: <unk>\n",
      "\n",
      "Reference: <unk> <unk> <unk> <unk>\n",
      "Generated: <unk> <unk> <unk> <unk>\n",
      "\n",
      "Reference: <unk> <unk> <unk>\n",
      "Generated: <unk> <unk>\n",
      "\n",
      "Reference: <unk> of people <unk> <unk>\n",
      "Generated: <unk> of people <unk> <unk>\n",
      "\n",
      "Reference: <unk>\n",
      "Generated: <unk>\n",
      "\n",
      "Baseline - ROUGE Greedy: {'rouge1': 0.9218766233766235, 'rouge2': 0.7187460317460318, 'rougeL': 0.9198766233766235}\n",
      "Baseline - ROUGE Beam: {'rouge1': 0.923642857142857, 'rouge2': 0.7205238095238095, 'rougeL': 0.9216428571428571}\n",
      "Baseline - Total Training & Evaluation Time: 349.27 seconds\n",
      "\n",
      "\n",
      "===== Running: With_GloVe =====\n"
     ]
    },
    {
     "name": "stderr",
     "output_type": "stream",
     "text": [
      "                                                           \r"
     ]
    },
    {
     "name": "stdout",
     "output_type": "stream",
     "text": [
      "Epoch 1: Train Loss=0.6946, Val Loss=0.3966, Epoch Time=35.82 s\n"
     ]
    },
    {
     "name": "stderr",
     "output_type": "stream",
     "text": [
      "                                                           \r"
     ]
    },
    {
     "name": "stdout",
     "output_type": "stream",
     "text": [
      "Epoch 2: Train Loss=0.4325, Val Loss=0.3543, Epoch Time=35.73 s\n"
     ]
    },
    {
     "name": "stderr",
     "output_type": "stream",
     "text": [
      "                                                           \r"
     ]
    },
    {
     "name": "stdout",
     "output_type": "stream",
     "text": [
      "Epoch 3: Train Loss=0.3702, Val Loss=0.3345, Epoch Time=35.82 s\n"
     ]
    },
    {
     "name": "stderr",
     "output_type": "stream",
     "text": [
      "                                                           \r"
     ]
    },
    {
     "name": "stdout",
     "output_type": "stream",
     "text": [
      "Epoch 4: Train Loss=0.3307, Val Loss=0.3155, Epoch Time=35.74 s\n"
     ]
    },
    {
     "name": "stderr",
     "output_type": "stream",
     "text": [
      "                                                           \r"
     ]
    },
    {
     "name": "stdout",
     "output_type": "stream",
     "text": [
      "Epoch 5: Train Loss=0.3076, Val Loss=0.3107, Epoch Time=35.78 s\n"
     ]
    },
    {
     "name": "stderr",
     "output_type": "stream",
     "text": [
      "                                                           \r"
     ]
    },
    {
     "name": "stdout",
     "output_type": "stream",
     "text": [
      "Epoch 6: Train Loss=0.2833, Val Loss=0.3126, Epoch Time=35.73 s\n"
     ]
    },
    {
     "name": "stderr",
     "output_type": "stream",
     "text": [
      "                                                           \r"
     ]
    },
    {
     "name": "stdout",
     "output_type": "stream",
     "text": [
      "Epoch 7: Train Loss=0.2608, Val Loss=0.3150, Epoch Time=35.75 s\n"
     ]
    },
    {
     "name": "stderr",
     "output_type": "stream",
     "text": [
      "                                                           \r"
     ]
    },
    {
     "name": "stdout",
     "output_type": "stream",
     "text": [
      "Epoch 8: Train Loss=0.2423, Val Loss=0.3273, Epoch Time=35.74 s\n"
     ]
    },
    {
     "name": "stderr",
     "output_type": "stream",
     "text": [
      "                                                           \r"
     ]
    },
    {
     "name": "stdout",
     "output_type": "stream",
     "text": [
      "Epoch 9: Train Loss=0.2264, Val Loss=0.3353, Epoch Time=35.72 s\n"
     ]
    },
    {
     "name": "stderr",
     "output_type": "stream",
     "text": [
      "                                                           \r"
     ]
    },
    {
     "name": "stdout",
     "output_type": "stream",
     "text": [
      "Epoch 10: Train Loss=0.2072, Val Loss=0.3246, Epoch Time=35.73 s\n",
      "\n",
      "=== Examples ===\n",
      "Reference: <unk>\n",
      "Generated: <unk> <unk>\n",
      "\n",
      "Reference: <unk> <unk> <unk> <unk>\n",
      "Generated: <unk> <unk> <unk> <unk> <unk> <unk> <unk> <unk> <unk> <unk> <unk> <unk> <unk> <unk> <unk> <unk> <unk> <unk> <unk> <unk> <unk> <unk> <unk> <unk> <unk> <unk> <unk> <unk> <unk> <unk>\n",
      "\n",
      "Reference: <unk> <unk> <unk>\n",
      "Generated: <unk> <unk> <unk>\n",
      "\n",
      "Reference: <unk> of people <unk> <unk>\n",
      "Generated: <unk> of people <unk> <unk>\n",
      "\n",
      "Reference: <unk>\n",
      "Generated: <unk>\n",
      "\n",
      "\n",
      "=== Examples ===\n",
      "Reference: <unk>\n",
      "Generated: <unk> <unk>\n",
      "\n",
      "Reference: <unk> <unk> <unk> <unk>\n",
      "Generated: <unk> <unk> <unk> <unk>\n",
      "\n",
      "Reference: <unk> <unk> <unk>\n",
      "Generated: <unk> <unk> <unk>\n",
      "\n",
      "Reference: <unk> of people <unk> <unk>\n",
      "Generated: <unk> of people <unk> <unk>\n",
      "\n",
      "Reference: <unk>\n",
      "Generated: <unk>\n",
      "\n",
      "With_GloVe - ROUGE Greedy: {'rouge1': 0.8937756184991479, 'rouge2': 0.6863729923458185, 'rougeL': 0.891775618499148}\n",
      "With_GloVe - ROUGE Beam: {'rouge1': 0.9166587301587303, 'rouge2': 0.7060238095238095, 'rougeL': 0.9146587301587301}\n",
      "With_GloVe - Total Training & Evaluation Time: 360.87 seconds\n",
      "\n",
      "\n",
      "===== Running: Hier_Encoder =====\n"
     ]
    },
    {
     "name": "stderr",
     "output_type": "stream",
     "text": [
      "                                                           \r"
     ]
    },
    {
     "name": "stdout",
     "output_type": "stream",
     "text": [
      "Epoch 1: Train Loss=0.7432, Val Loss=0.4748, Epoch Time=404.67 s\n"
     ]
    },
    {
     "name": "stderr",
     "output_type": "stream",
     "text": [
      "                                                           \r"
     ]
    },
    {
     "name": "stdout",
     "output_type": "stream",
     "text": [
      "Epoch 2: Train Loss=0.5452, Val Loss=0.4368, Epoch Time=406.97 s\n"
     ]
    },
    {
     "name": "stderr",
     "output_type": "stream",
     "text": [
      "                                                           \r"
     ]
    },
    {
     "name": "stdout",
     "output_type": "stream",
     "text": [
      "Epoch 3: Train Loss=0.4703, Val Loss=0.3866, Epoch Time=407.40 s\n"
     ]
    },
    {
     "name": "stderr",
     "output_type": "stream",
     "text": [
      "                                                           \r"
     ]
    },
    {
     "name": "stdout",
     "output_type": "stream",
     "text": [
      "Epoch 4: Train Loss=0.4004, Val Loss=0.3460, Epoch Time=407.94 s\n"
     ]
    },
    {
     "name": "stderr",
     "output_type": "stream",
     "text": [
      "                                                           \r"
     ]
    },
    {
     "name": "stdout",
     "output_type": "stream",
     "text": [
      "Epoch 5: Train Loss=0.3495, Val Loss=0.3350, Epoch Time=407.92 s\n"
     ]
    },
    {
     "name": "stderr",
     "output_type": "stream",
     "text": [
      "                                                           \r"
     ]
    },
    {
     "name": "stdout",
     "output_type": "stream",
     "text": [
      "Epoch 6: Train Loss=0.3202, Val Loss=0.3115, Epoch Time=405.60 s\n"
     ]
    },
    {
     "name": "stderr",
     "output_type": "stream",
     "text": [
      "                                                           \r"
     ]
    },
    {
     "name": "stdout",
     "output_type": "stream",
     "text": [
      "Epoch 7: Train Loss=0.2946, Val Loss=0.3155, Epoch Time=407.10 s\n"
     ]
    },
    {
     "name": "stderr",
     "output_type": "stream",
     "text": [
      "                                                           \r"
     ]
    },
    {
     "name": "stdout",
     "output_type": "stream",
     "text": [
      "Epoch 8: Train Loss=0.2759, Val Loss=0.3247, Epoch Time=407.26 s\n"
     ]
    },
    {
     "name": "stderr",
     "output_type": "stream",
     "text": [
      "                                                           \r"
     ]
    },
    {
     "name": "stdout",
     "output_type": "stream",
     "text": [
      "Epoch 9: Train Loss=0.2626, Val Loss=0.3208, Epoch Time=405.48 s\n"
     ]
    },
    {
     "name": "stderr",
     "output_type": "stream",
     "text": [
      "                                                           \r"
     ]
    },
    {
     "name": "stdout",
     "output_type": "stream",
     "text": [
      "Epoch 10: Train Loss=0.2391, Val Loss=0.3148, Epoch Time=405.28 s\n",
      "\n",
      "=== Examples ===\n",
      "Reference: <unk>\n",
      "Generated: <unk>\n",
      "\n",
      "Reference: <unk> <unk> <unk> <unk>\n",
      "Generated: <unk> <unk> <unk> <unk>\n",
      "\n",
      "Reference: <unk> <unk> <unk>\n",
      "Generated: <unk> <unk> <unk>\n",
      "\n",
      "Reference: <unk> of people <unk> <unk>\n",
      "Generated: <unk> of people <unk> <unk>\n",
      "\n",
      "Reference: <unk>\n",
      "Generated: <unk>\n",
      "\n",
      "\n",
      "=== Examples ===\n",
      "Reference: <unk>\n",
      "Generated: <unk>\n",
      "\n",
      "Reference: <unk> <unk> <unk> <unk>\n",
      "Generated: <unk> <unk> <unk> <unk>\n",
      "\n",
      "Reference: <unk> <unk> <unk>\n",
      "Generated: <unk> <unk> <unk>\n",
      "\n",
      "Reference: <unk> of people <unk> <unk>\n",
      "Generated: <unk> of people <unk> <unk>\n",
      "\n",
      "Reference: <unk>\n",
      "Generated: <unk>\n",
      "\n",
      "Hier_Encoder - ROUGE Greedy: {'rouge1': 0.9197185592185592, 'rouge2': 0.7087077922077921, 'rougeL': 0.9197185592185592}\n",
      "Hier_Encoder - ROUGE Beam: {'rouge1': 0.9258571428571429, 'rouge2': 0.7108333333333333, 'rougeL': 0.9238571428571428}\n",
      "Hier_Encoder - Total Training & Evaluation Time: 4068.99 seconds\n",
      "\n",
      "\n",
      "===== Running: Decoder2 =====\n"
     ]
    },
    {
     "name": "stderr",
     "output_type": "stream",
     "text": [
      "                                                           \r"
     ]
    },
    {
     "name": "stdout",
     "output_type": "stream",
     "text": [
      "Epoch 1: Train Loss=0.7548, Val Loss=0.4398, Epoch Time=34.95 s\n"
     ]
    },
    {
     "name": "stderr",
     "output_type": "stream",
     "text": [
      "                                                           \r"
     ]
    },
    {
     "name": "stdout",
     "output_type": "stream",
     "text": [
      "Epoch 2: Train Loss=0.4824, Val Loss=0.3925, Epoch Time=35.01 s\n"
     ]
    },
    {
     "name": "stderr",
     "output_type": "stream",
     "text": [
      "                                                           \r"
     ]
    },
    {
     "name": "stdout",
     "output_type": "stream",
     "text": [
      "Epoch 3: Train Loss=0.4113, Val Loss=0.3558, Epoch Time=35.06 s\n"
     ]
    },
    {
     "name": "stderr",
     "output_type": "stream",
     "text": [
      "                                                           \r"
     ]
    },
    {
     "name": "stdout",
     "output_type": "stream",
     "text": [
      "Epoch 4: Train Loss=0.3777, Val Loss=0.3455, Epoch Time=34.98 s\n"
     ]
    },
    {
     "name": "stderr",
     "output_type": "stream",
     "text": [
      "                                                           \r"
     ]
    },
    {
     "name": "stdout",
     "output_type": "stream",
     "text": [
      "Epoch 5: Train Loss=0.3506, Val Loss=0.3153, Epoch Time=34.98 s\n"
     ]
    },
    {
     "name": "stderr",
     "output_type": "stream",
     "text": [
      "                                                           \r"
     ]
    },
    {
     "name": "stdout",
     "output_type": "stream",
     "text": [
      "Epoch 6: Train Loss=0.3276, Val Loss=0.3085, Epoch Time=34.95 s\n"
     ]
    },
    {
     "name": "stderr",
     "output_type": "stream",
     "text": [
      "                                                           \r"
     ]
    },
    {
     "name": "stdout",
     "output_type": "stream",
     "text": [
      "Epoch 7: Train Loss=0.3030, Val Loss=0.3011, Epoch Time=34.93 s\n"
     ]
    },
    {
     "name": "stderr",
     "output_type": "stream",
     "text": [
      "                                                           \r"
     ]
    },
    {
     "name": "stdout",
     "output_type": "stream",
     "text": [
      "Epoch 8: Train Loss=0.2847, Val Loss=0.2950, Epoch Time=34.98 s\n"
     ]
    },
    {
     "name": "stderr",
     "output_type": "stream",
     "text": [
      "                                                           \r"
     ]
    },
    {
     "name": "stdout",
     "output_type": "stream",
     "text": [
      "Epoch 9: Train Loss=0.2686, Val Loss=0.2876, Epoch Time=35.00 s\n"
     ]
    },
    {
     "name": "stderr",
     "output_type": "stream",
     "text": [
      "                                                           \r"
     ]
    },
    {
     "name": "stdout",
     "output_type": "stream",
     "text": [
      "Epoch 10: Train Loss=0.2519, Val Loss=0.2960, Epoch Time=35.10 s\n",
      "\n",
      "=== Examples ===\n",
      "Reference: <unk>\n",
      "Generated: <unk> <unk>\n",
      "\n",
      "Reference: <unk> <unk> <unk> <unk>\n",
      "Generated: <unk> <unk> <unk> <unk> <unk> <unk> <unk> <unk> <unk> <unk> <unk> <unk> <unk> <unk> <unk> <unk> <unk> <unk> <unk> <unk> <unk> <unk> <unk> <unk> <unk> <unk> <unk> <unk> <unk> <unk>\n",
      "\n",
      "Reference: <unk> <unk> <unk>\n",
      "Generated: <unk> <unk>\n",
      "\n",
      "Reference: <unk> of people <unk> <unk>\n",
      "Generated: <unk> of people <unk> <unk>\n",
      "\n",
      "Reference: <unk>\n",
      "Generated: <unk>\n",
      "\n",
      "\n",
      "=== Examples ===\n",
      "Reference: <unk>\n",
      "Generated: <unk> <unk>\n",
      "\n",
      "Reference: <unk> <unk> <unk> <unk>\n",
      "Generated: <unk> <unk> <unk> <unk> <unk>\n",
      "\n",
      "Reference: <unk> <unk> <unk>\n",
      "Generated: <unk> <unk>\n",
      "\n",
      "Reference: <unk> of people <unk> <unk>\n",
      "Generated: <unk> of people <unk> <unk>\n",
      "\n",
      "Reference: <unk>\n",
      "Generated: <unk>\n",
      "\n",
      "Decoder2 - ROUGE Greedy: {'rouge1': 0.8948291316526611, 'rouge2': 0.6838598484848485, 'rougeL': 0.8928291316526611}\n",
      "Decoder2 - ROUGE Beam: {'rouge1': 0.9138650793650794, 'rouge2': 0.695404761904762, 'rougeL': 0.9118650793650793}\n",
      "Decoder2 - Total Training & Evaluation Time: 353.80 seconds\n",
      "\n",
      "\n",
      "===== Running: Full_Model =====\n"
     ]
    },
    {
     "name": "stderr",
     "output_type": "stream",
     "text": [
      "                                                           \r"
     ]
    },
    {
     "name": "stdout",
     "output_type": "stream",
     "text": [
      "Epoch 1: Train Loss=0.7963, Val Loss=0.5666, Epoch Time=408.49 s\n"
     ]
    },
    {
     "name": "stderr",
     "output_type": "stream",
     "text": [
      "                                                           \r"
     ]
    },
    {
     "name": "stdout",
     "output_type": "stream",
     "text": [
      "Epoch 2: Train Loss=0.6360, Val Loss=0.5664, Epoch Time=408.70 s\n"
     ]
    },
    {
     "name": "stderr",
     "output_type": "stream",
     "text": [
      "                                                           \r"
     ]
    },
    {
     "name": "stdout",
     "output_type": "stream",
     "text": [
      "Epoch 3: Train Loss=0.6114, Val Loss=0.4949, Epoch Time=409.10 s\n"
     ]
    },
    {
     "name": "stderr",
     "output_type": "stream",
     "text": [
      "                                                           \r"
     ]
    },
    {
     "name": "stdout",
     "output_type": "stream",
     "text": [
      "Epoch 4: Train Loss=0.5259, Val Loss=0.4182, Epoch Time=409.54 s\n"
     ]
    },
    {
     "name": "stderr",
     "output_type": "stream",
     "text": [
      "                                                           \r"
     ]
    },
    {
     "name": "stdout",
     "output_type": "stream",
     "text": [
      "Epoch 5: Train Loss=0.4151, Val Loss=0.3592, Epoch Time=409.34 s\n"
     ]
    },
    {
     "name": "stderr",
     "output_type": "stream",
     "text": [
      "                                                           \r"
     ]
    },
    {
     "name": "stdout",
     "output_type": "stream",
     "text": [
      "Epoch 6: Train Loss=0.3435, Val Loss=0.3083, Epoch Time=409.29 s\n"
     ]
    },
    {
     "name": "stderr",
     "output_type": "stream",
     "text": [
      "                                                           \r"
     ]
    },
    {
     "name": "stdout",
     "output_type": "stream",
     "text": [
      "Epoch 7: Train Loss=0.3006, Val Loss=0.3168, Epoch Time=409.47 s\n"
     ]
    },
    {
     "name": "stderr",
     "output_type": "stream",
     "text": [
      "                                                           \r"
     ]
    },
    {
     "name": "stdout",
     "output_type": "stream",
     "text": [
      "Epoch 8: Train Loss=0.2675, Val Loss=0.3026, Epoch Time=410.14 s\n"
     ]
    },
    {
     "name": "stderr",
     "output_type": "stream",
     "text": [
      "                                                           \r"
     ]
    },
    {
     "name": "stdout",
     "output_type": "stream",
     "text": [
      "Epoch 9: Train Loss=0.2414, Val Loss=0.3074, Epoch Time=409.66 s\n"
     ]
    },
    {
     "name": "stderr",
     "output_type": "stream",
     "text": [
      "                                                           \r"
     ]
    },
    {
     "name": "stdout",
     "output_type": "stream",
     "text": [
      "Epoch 10: Train Loss=0.2158, Val Loss=0.3188, Epoch Time=409.69 s\n",
      "\n",
      "=== Examples ===\n",
      "Reference: <unk>\n",
      "Generated: <unk> <unk>\n",
      "\n",
      "Reference: <unk> <unk> <unk> <unk>\n",
      "Generated: <unk> <unk> <unk> <unk> <unk> <unk> <unk> <unk> <unk> <unk> <unk> <unk> <unk> <unk> <unk> <unk> <unk> <unk> <unk> <unk> <unk> <unk> <unk> <unk> <unk> <unk> <unk> <unk> <unk> <unk>\n",
      "\n",
      "Reference: <unk> <unk> <unk>\n",
      "Generated: <unk> <unk> <unk> <unk>\n",
      "\n",
      "Reference: <unk> of people <unk> <unk>\n",
      "Generated: <unk> of people <unk> <unk>\n",
      "\n",
      "Reference: <unk>\n",
      "Generated: <unk>\n",
      "\n",
      "\n",
      "=== Examples ===\n",
      "Reference: <unk>\n",
      "Generated: <unk> <unk>\n",
      "\n",
      "Reference: <unk> <unk> <unk> <unk>\n",
      "Generated: <unk> <unk> <unk> <unk>\n",
      "\n",
      "Reference: <unk> <unk> <unk>\n",
      "Generated: <unk> <unk> <unk>\n",
      "\n",
      "Reference: <unk> of people <unk> <unk>\n",
      "Generated: <unk> of people <unk> <unk>\n",
      "\n",
      "Reference: <unk>\n",
      "Generated: <unk>\n",
      "\n",
      "Full_Model - ROUGE Greedy: {'rouge1': 0.8753265249403769, 'rouge2': 0.6525216444197255, 'rougeL': 0.8742154138292658}\n",
      "Full_Model - ROUGE Beam: {'rouge1': 0.9025634920634922, 'rouge2': 0.6723571428571428, 'rougeL': 0.9005634920634921}\n",
      "Full_Model - Total Training & Evaluation Time: 4097.42 seconds\n",
      "\n"
     ]
    },
    {
     "data": {
      "image/png": "[encoded data removed]",
      "text/plain": [
       "<Figure size 1200x400 with 3 Axes>"
      ]
     },
     "metadata": {},
     "output_type": "display_data"
    },
    {
     "data": {
      "image/png": "[encoded data removed]",
      "text/plain": [
       "<Figure size 600x400 with 1 Axes>"
      ]
     },
     "metadata": {},
     "output_type": "display_data"
    }
   ],
   "source": [
    "def main():\n",
    "    # Update these paths as necessary or use your own dataset paths\n",
    "    train_path = '/kaggle/input/nlp-a2-dataset/train.csv'\n",
    "    test_path = '/kaggle/input/nlp-a2-dataset/test.csv'\n",
    "    \n",
    "    pipeline = ModelPipeline(train_path, test_path, config)\n",
    "    \n",
    "    # Run different model configurations.\n",
    "    results = [\n",
    "        pipeline.run_model(\"Baseline\"),\n",
    "        pipeline.run_model(\"With_GloVe\", use_glove=True),\n",
    "        pipeline.run_model(\"Hier_Encoder\", use_hier_encoder=True),\n",
    "        pipeline.run_model(\"Decoder2\", use_decoder2=True),\n",
    "        pipeline.run_model(\"Full_Model\", use_glove=True, use_hier_encoder=True, use_decoder2=True)\n",
    "    ]\n",
    "    \n",
    "    # Plotting results for ROUGE scores\n",
    "    model_names = [res['name'] for res in results]\n",
    "    rouge1_scores = [res['rouge']['rouge1'] for res in results]\n",
    "    rouge2_scores = [res['rouge']['rouge2'] for res in results]\n",
    "    rougeL_scores = [res['rouge']['rougeL'] for res in results]\n",
    "    times = [res['time'] for res in results]\n",
    "    \n",
    "    plt.figure(figsize=(12, 4))\n",
    "    plt.subplot(1, 3, 1)\n",
    "    plt.bar(model_names, rouge1_scores, color='skyblue')\n",
    "    plt.title('ROUGE-1 F1 Scores')\n",
    "    plt.ylabel('F1 Score')\n",
    "    plt.ylim(0, 1)\n",
    "    plt.xticks(rotation=90)\n",
    "    \n",
    "    plt.subplot(1, 3, 2)\n",
    "    plt.bar(model_names, rouge2_scores, color='salmon')\n",
    "    plt.title('ROUGE-2 F1 Scores')\n",
    "    plt.ylim(0, 1)\n",
    "    plt.xticks(rotation=90)\n",
    "    \n",
    "    plt.subplot(1, 3, 3)\n",
    "    plt.bar(model_names, rougeL_scores, color='lightgreen')\n",
    "    plt.title('ROUGE-L F1 Scores')\n",
    "    plt.ylim(0, 1)\n",
    "    plt.xticks(rotation=90)\n",
    "    \n",
    "    plt.tight_layout()\n",
    "    plt.show()\n",
    "    \n",
    "    # Plotting the training and evaluation time for each model\n",
    "    plt.figure(figsize=(6, 4))\n",
    "    plt.bar(model_names, times, color='orchid')\n",
    "    plt.title('Training & Evaluation Time (seconds)')\n",
    "    plt.ylabel('Time (s)')\n",
    "    plt.xticks(rotation=90)\n",
    "    plt.tight_layout()\n",
    "    plt.show()\n",
    "\n",
    "if __name__ == \"__main__\":\n",
    "    main()"
   ]
  }
 ],
 "metadata": {
  "kaggle": {
   "accelerator": "gpu",
   "dataSources": [
    {
     "datasetId": 7019190,
     "sourceId": 11235916,
     "sourceType": "datasetVersion"
    }
   ],
   "dockerImageVersionId": 31011,
   "isGpuEnabled": true,
   "isInternetEnabled": true,
   "language": "python",
   "sourceType": "notebook"
  },
  "kernelspec": {
   "display_name": "",
   "name": ""
  },
  "language_info": {
   "name": "python"
  }
 },
 "nbformat": 4,
 "nbformat_minor": 5
}
