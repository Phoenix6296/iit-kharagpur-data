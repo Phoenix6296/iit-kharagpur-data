{
 "cells": [
  {
   "cell_type": "markdown",
   "metadata": {},
   "source": [
    "# 🧠 PART A\n",
    "\n",
    "### 📌 **Import Libraries and Load SpaCy Model**\n",
    "\n",
    "This cell imports the necessary Python libraries for the preprocessing task:\n",
    "\n",
    "- `spacy` for natural language processing\n",
    "- `pandas` for data handling\n",
    "- `re` and `string` for text cleaning\n",
    "- `tqdm` for progress bars\n",
    "- `time` to measure execution time\n",
    "\n",
    "We're also configuring SpaCy to use GPU (if available) for faster processing and loading the `en_core_web_sm` model with the named entity recognizer and parser disabled for improved speed, since they're not needed for preprocessing."
   ]
  },
  {
   "cell_type": "code",
   "execution_count": 1,
   "metadata": {
    "_cell_guid": "b1076dfc-b9ad-4769-8c92-a6c4dae69d19",
    "_uuid": "8f2839f25d086af736a60e9eeb907d3b93b6e0e5",
    "execution": {
     "iopub.execute_input": "2025-04-13T11:12:12.329795Z",
     "iopub.status.busy": "2025-04-13T11:12:12.329327Z",
     "iopub.status.idle": "2025-04-13T11:12:21.866065Z",
     "shell.execute_reply": "2025-04-13T11:12:21.865296Z",
     "shell.execute_reply.started": "2025-04-13T11:12:12.329775Z"
    },
    "trusted": true
   },
   "outputs": [],
   "source": [
    "import spacy\n",
    "import pandas as pd\n",
    "import re\n",
    "import string\n",
    "from tqdm import tqdm\n",
    "import time\n",
    "\n",
    "spacy.prefer_gpu()\n",
    "nlp = spacy.load(\"en_core_web_sm\", disable=[\"ner\", \"parser\"])"
   ]
  },
  {
   "cell_type": "markdown",
   "metadata": {},
   "source": [
    "### 📌 **Load the Training and Test Datasets**\n",
    "\n",
    "In this step, we load the training and test datasets from the specified paths using `pandas.read_csv()`. We also print the size of each dataset and preview a couple of rows from the training set.\n",
    "\n",
    "**Make sure to update the paths to your actual dataset locations.**"
   ]
  },
  {
   "cell_type": "code",
   "execution_count": 2,
   "metadata": {
    "execution": {
     "iopub.execute_input": "2025-04-13T11:12:21.867103Z",
     "iopub.status.busy": "2025-04-13T11:12:21.866753Z",
     "iopub.status.idle": "2025-04-13T11:12:26.431111Z",
     "shell.execute_reply": "2025-04-13T11:12:26.430404Z",
     "shell.execute_reply.started": "2025-04-13T11:12:21.867084Z"
    },
    "trusted": true
   },
   "outputs": [
    {
     "name": "stdout",
     "output_type": "stream",
     "text": [
      "Training set size: 13879\n",
      "Test set size: 100\n",
      "\n",
      "Sample raw training data:\n",
      "                     title                                               text\n",
      "0  Port St. Lucie, Florida  Port St. Lucie is a city in St. Lucie County, ...\n",
      "1              Dirty Dozen  Dirty Dozen may refer to:\\n\\nBooks, film and t...\n"
     ]
    }
   ],
   "source": [
    "train_df = pd.read_csv('/kaggle/input/nlp-a2-dataset/train.csv')\n",
    "test_df = pd.read_csv('/kaggle/input/nlp-a2-dataset/test.csv')\n",
    "\n",
    "print(f\"Training set size: {len(train_df)}\")\n",
    "print(f\"Test set size: {len(test_df)}\")\n",
    "print(\"\\nSample raw training data:\")\n",
    "print(train_df.head(2))"
   ]
  },
  {
   "cell_type": "markdown",
   "metadata": {},
   "source": [
    "### 🧹 **Preprocess Text Data**\n",
    "\n",
    "This is a critical step in any NLP pipeline. Here's what we're doing:\n",
    "\n",
    "1. **Convert text to lowercase**\n",
    "2. **Remove non-ASCII characters**\n",
    "3. **Remove punctuation**\n",
    "4. **Tokenize the text using SpaCy**\n",
    "5. **Remove stopwords**\n",
    "6. **Lemmatize** the remaining words\n",
    "\n",
    "We also use `tqdm` to visualize the progress during preprocessing since NLP tasks can be time-consuming."
   ]
  },
  {
   "cell_type": "code",
   "execution_count": 3,
   "metadata": {
    "execution": {
     "iopub.execute_input": "2025-04-13T11:12:26.432730Z",
     "iopub.status.busy": "2025-04-13T11:12:26.432520Z",
     "iopub.status.idle": "2025-04-13T11:28:12.937120Z",
     "shell.execute_reply": "2025-04-13T11:28:12.936280Z",
     "shell.execute_reply.started": "2025-04-13T11:12:26.432712Z"
    },
    "trusted": true
   },
   "outputs": [
    {
     "name": "stdout",
     "output_type": "stream",
     "text": [
      "Processing training data...\n"
     ]
    },
    {
     "name": "stderr",
     "output_type": "stream",
     "text": [
      "100%|██████████| 13879/13879 [15:39<00:00, 14.77it/s]\n"
     ]
    },
    {
     "name": "stdout",
     "output_type": "stream",
     "text": [
      "\n",
      "Processing test data...\n"
     ]
    },
    {
     "name": "stderr",
     "output_type": "stream",
     "text": [
      "100%|██████████| 100/100 [00:06<00:00, 14.97it/s]"
     ]
    },
    {
     "name": "stdout",
     "output_type": "stream",
     "text": [
      "\n",
      "Total time taken in preprocessing:  946.4992537498474\n"
     ]
    },
    {
     "name": "stderr",
     "output_type": "stream",
     "text": [
      "\n"
     ]
    }
   ],
   "source": [
    "tqdm.pandas()\n",
    "\n",
    "def preprocess_text(text):\n",
    "    text = text.lower().encode('ascii', errors='ignore').decode('utf-8')\n",
    "    text = text.translate(str.maketrans('', '', string.punctuation))\n",
    "    \n",
    "    doc = nlp(text)\n",
    "    tokens = [token.lemma_ for token in doc if token.is_alpha and not token.is_stop]\n",
    "    return \" \".join(tokens)\n",
    "\n",
    "\n",
    "start = time.time()\n",
    "\n",
    "# Process training data\n",
    "print(\"Processing training data...\")\n",
    "train_df['processed_text'] = train_df['text'].progress_apply(preprocess_text)\n",
    "\n",
    "# Process test data\n",
    "print(\"\\nProcessing test data...\")\n",
    "test_df['processed_text'] = test_df['text'].progress_apply(preprocess_text)\n",
    "\n",
    "print(\"\\nTotal time taken in preprocessing: \", time.time() - start)"
   ]
  },
  {
   "cell_type": "markdown",
   "metadata": {},
   "source": [
    "### 🧪 **Create a Validation Set**\n",
    "\n",
    "Here, we're splitting off the first 500 rows from the training dataset to create a validation set. This helps in evaluating model performance during training. The training set is then reset to exclude those 500 samples."
   ]
  },
  {
   "cell_type": "code",
   "execution_count": 4,
   "metadata": {
    "execution": {
     "iopub.execute_input": "2025-04-13T11:28:12.938228Z",
     "iopub.status.busy": "2025-04-13T11:28:12.937931Z",
     "iopub.status.idle": "2025-04-13T11:28:12.946833Z",
     "shell.execute_reply": "2025-04-13T11:28:12.946332Z",
     "shell.execute_reply.started": "2025-04-13T11:28:12.938203Z"
    },
    "trusted": true
   },
   "outputs": [],
   "source": [
    "# Create validation set\n",
    "validation_df = train_df.iloc[:500].copy()\n",
    "train_df = train_df.iloc[500:].reset_index(drop=True)"
   ]
  },
  {
   "cell_type": "markdown",
   "metadata": {},
   "source": [
    "### 📊 **Cell 5: Dataset Summary After Preprocessing**\n",
    "\n",
    "This cell provides a summary of the dataset sizes after preprocessing and shows a couple of processed text samples alongside their titles."
   ]
  },
  {
   "cell_type": "code",
   "execution_count": 5,
   "metadata": {
    "execution": {
     "iopub.execute_input": "2025-04-13T11:28:12.947920Z",
     "iopub.status.busy": "2025-04-13T11:28:12.947712Z",
     "iopub.status.idle": "2025-04-13T11:28:12.970851Z",
     "shell.execute_reply": "2025-04-13T11:28:12.970193Z",
     "shell.execute_reply.started": "2025-04-13T11:28:12.947905Z"
    },
    "trusted": true
   },
   "outputs": [
    {
     "name": "stdout",
     "output_type": "stream",
     "text": [
      "\n",
      "Dataset shape after preprocessing:\n",
      "Training set size: 13379\n",
      "Validation set size: 500\n",
      "Test set size: 100\n",
      "\n",
      "Sample processed data:\n",
      "           title                                     processed_text\n",
      "0    Mike & Mike  mike mike mike mike morning american sportstal...\n",
      "1  Carson Palmer  carson hilton palmer bear december american fo...\n"
     ]
    }
   ],
   "source": [
    "# Shape after preprocessing\n",
    "print(\"\\nDataset shape after preprocessing:\")\n",
    "print(f\"Training set size: {len(train_df)}\")\n",
    "print(f\"Validation set size: {len(validation_df)}\")\n",
    "print(f\"Test set size: {len(test_df)}\")\n",
    "\n",
    "print(\"\\nSample processed data:\")\n",
    "print(train_df[['title', 'processed_text']].head(2))"
   ]
  }
 ],
 "metadata": {
  "kaggle": {
   "accelerator": "gpu",
   "dataSources": [
    {
     "datasetId": 7019190,
     "sourceId": 11235916,
     "sourceType": "datasetVersion"
    }
   ],
   "dockerImageVersionId": 31011,
   "isGpuEnabled": true,
   "isInternetEnabled": true,
   "language": "python",
   "sourceType": "notebook"
  },
  "kernelspec": {
   "display_name": "Python 3",
   "language": "python",
   "name": "python3"
  },
  "language_info": {
   "codemirror_mode": {
    "name": "ipython",
    "version": 3
   },
   "file_extension": ".py",
   "mimetype": "text/x-python",
   "name": "python",
   "nbconvert_exporter": "python",
   "pygments_lexer": "ipython3",
   "version": "3.11.11"
  }
 },
 "nbformat": 4,
 "nbformat_minor": 4
}
