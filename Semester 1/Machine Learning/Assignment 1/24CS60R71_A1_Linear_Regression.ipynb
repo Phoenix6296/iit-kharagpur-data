{
 "cells": [
  {
   "cell_type": "code",
   "execution_count": 13,
   "metadata": {},
   "outputs": [],
   "source": [
    "import numpy as np\n",
    "import pandas as pd\n",
    "import matplotlib.pyplot as plt\n",
    "import copy\n",
    "import math\n",
    "import random"
   ]
  },
  {
   "cell_type": "code",
   "execution_count": 14,
   "metadata": {},
   "outputs": [
    {
     "name": "stdout",
     "output_type": "stream",
     "text": [
      "Shape of X:  (506, 13) Shape of y:  (506,)\n"
     ]
    }
   ],
   "source": [
    "def load_data(filepath):\n",
    "    data = pd.read_csv(filepath)\n",
    "    X = data.iloc[:, :-1].values\n",
    "    y = data.iloc[:, -1].values\n",
    "\n",
    "    return X, y\n",
    "\n",
    "filepath = 'Boston_House.csv'\n",
    "X, y = load_data(filepath)\n",
    "\n",
    "print(\"Shape of X: \", X.shape, \"Shape of y: \", y.shape)"
   ]
  },
  {
   "cell_type": "code",
   "execution_count": 15,
   "metadata": {},
   "outputs": [
    {
     "name": "stdout",
     "output_type": "stream",
     "text": [
      "Shape of X:  (506, 11) Shape of y:  (506,)\n"
     ]
    }
   ],
   "source": [
    "def random_feature_selection(X):\n",
    "    random.seed(71)\n",
    "    r = random.randint(9, 13)\n",
    "    X_new = X[:, :r]\n",
    "\n",
    "    return X_new\n",
    "\n",
    "X = random_feature_selection(X)\n",
    "print(\"Shape of X: \", X.shape, \"Shape of y: \", y.shape)"
   ]
  },
  {
   "cell_type": "code",
   "execution_count": 16,
   "metadata": {},
   "outputs": [
    {
     "name": "stdout",
     "output_type": "stream",
     "text": [
      "Shape of X_train:  (379, 11) Shape of y_train:  (379,)\n",
      "Shape of X_test:  (127, 11) Shape of y_test:  (127,)\n"
     ]
    }
   ],
   "source": [
    "def train_test_split(X, y, test_size=0.25, random_state=None):\n",
    "    if random_state is not None:\n",
    "        np.random.seed(random_state)\n",
    "    indices = np.arange(X.shape[0])\n",
    "    np.random.shuffle(indices)\n",
    "\n",
    "    split_index = int(X.shape[0] * (1 - test_size))\n",
    "\n",
    "    train_indices = indices[:split_index]\n",
    "    test_indices = indices[split_index:]\n",
    "\n",
    "    X_train = X[train_indices]\n",
    "    X_test = X[test_indices]\n",
    "    y_train = y[train_indices]\n",
    "    y_test = y[test_indices]\n",
    "\n",
    "    return X_train, X_test, y_train, y_test\n",
    "\n",
    "def min_max_scaler(X, feature_range=(0, 1)):\n",
    "    X_min = np.min(X, axis=0)\n",
    "    X_max = np.max(X, axis=0)\n",
    "\n",
    "    X_scaled = (X-X_min)/(X_max-X_min)\n",
    "    return X_scaled\n",
    "\n",
    "X = min_max_scaler(X)\n",
    "X_train, X_test, y_train, y_test = train_test_split(X, y, test_size=0.25, random_state=42)\n",
    "print(\"Shape of X_train: \", X_train.shape, \"Shape of y_train: \", y_train.shape)\n",
    "print(\"Shape of X_test: \", X_test.shape, \"Shape of y_test: \", y_test.shape)"
   ]
  },
  {
   "cell_type": "code",
   "execution_count": 17,
   "metadata": {},
   "outputs": [],
   "source": [
    "def loss_function(X, y, w, b):\n",
    "    m = X.shape[0]\n",
    "    predictions = np.dot(X, w) + b\n",
    "    squared_errors = (y - predictions) ** 2\n",
    "    loss = np.sum(squared_errors)/m\n",
    "    return loss"
   ]
  },
  {
   "cell_type": "code",
   "execution_count": 18,
   "metadata": {},
   "outputs": [],
   "source": [
    "def compute_gradient(X, y, w, b):\n",
    "    m = X.shape[0]\n",
    "    predictions = np.dot(X, w) + b\n",
    "    error = predictions - y\n",
    "    dL_dw = np.dot(X.T, error) / m\n",
    "    dL_db = np.sum(error) / m\n",
    "    return dL_dw, dL_db"
   ]
  },
  {
   "cell_type": "code",
   "execution_count": 19,
   "metadata": {},
   "outputs": [],
   "source": [
    "def batch_gradient_descent(X, y, w_initial, b_initial, alpha, num_iters, printFlag = False):\n",
    "    m = X.shape[0]\n",
    "\n",
    "    loss_hist = []\n",
    "\n",
    "    w = copy.deepcopy(w_initial)\n",
    "    b = b_initial\n",
    "\n",
    "\n",
    "    for i in range(num_iters):\n",
    "        dL_dw, dL_db = compute_gradient(X, y, w, b)\n",
    "\n",
    "        w -= alpha * dL_dw\n",
    "        b -= alpha * dL_db\n",
    "        loss = loss_function(X, y, w, b)\n",
    "        \n",
    "        loss_hist.append(loss)\n",
    "\n",
    "        if printFlag and i % 100 == 0:\n",
    "            print(f\"Iteration {i}: Loss = {loss}\")\n",
    "\n",
    "    return w, b, loss_hist\n"
   ]
  },
  {
   "cell_type": "code",
   "execution_count": 20,
   "metadata": {},
   "outputs": [],
   "source": [
    "random_seed = 71\n",
    "random.seed(random_seed)\n",
    "np.random.seed(random_seed)\n",
    "\n",
    "def initialize_parameters(X):\n",
    "    alpha = random.uniform(0.0001, 0.001)\n",
    "    num_features = X.shape[1]\n",
    "    initial_w = np.random.randn(num_features)\n",
    "    initial_b = 0\n",
    "\n",
    "    return initial_w, initial_b, alpha"
   ]
  },
  {
   "cell_type": "code",
   "execution_count": 21,
   "metadata": {},
   "outputs": [
    {
     "name": "stdout",
     "output_type": "stream",
     "text": [
      "Iteration 0: Loss = 597.2067664354943\n",
      "Iteration 100: Loss = 505.33269202060666\n",
      "Iteration 200: Loss = 431.8361089040912\n",
      "Iteration 300: Loss = 372.9700397089757\n",
      "Iteration 400: Loss = 325.7529860450158\n",
      "Iteration 500: Loss = 287.812514470307\n",
      "Iteration 600: Loss = 257.2608039941867\n",
      "Iteration 700: Loss = 232.59562410605082\n",
      "Iteration 800: Loss = 212.62154686149583\n",
      "Iteration 900: Loss = 196.3872584028738\n",
      "Iteration 1000: Loss = 183.13568015961224\n",
      "Iteration 1100: Loss = 172.26428220165388\n",
      "Iteration 1200: Loss = 163.29350608438224\n",
      "Iteration 1300: Loss = 155.84164009417486\n",
      "Iteration 1400: Loss = 149.60482841341903\n",
      "Iteration 1500: Loss = 144.3411651420611\n",
      "Iteration 1600: Loss = 139.85803847810956\n",
      "Iteration 1700: Loss = 136.00206092147374\n",
      "Iteration 1800: Loss = 132.65105707487675\n",
      "Iteration 1900: Loss = 129.70768859410052\n",
      "Iteration 2000: Loss = 127.09438175403061\n",
      "Iteration 2100: Loss = 124.74929145547614\n",
      "Iteration 2200: Loss = 122.62308988788207\n",
      "Iteration 2300: Loss = 120.67641133911738\n",
      "Iteration 2400: Loss = 118.8778190765666\n",
      "Iteration 2500: Loss = 117.20218762075044\n",
      "Iteration 2600: Loss = 115.62941553140146\n",
      "Iteration 2700: Loss = 114.14340117027932\n",
      "Iteration 2800: Loss = 112.73122770522417\n",
      "Iteration 2900: Loss = 111.38251460022734\n",
      "Iteration 3000: Loss = 110.08890157287145\n",
      "Iteration 3100: Loss = 108.84363795183394\n",
      "Iteration 3200: Loss = 107.64125589805582\n",
      "Iteration 3300: Loss = 106.4773103538985\n",
      "Iteration 3400: Loss = 105.34817208609405\n",
      "Iteration 3500: Loss = 104.25086297427939\n",
      "Iteration 3600: Loss = 103.18292491360768\n",
      "Iteration 3700: Loss = 102.14231546367053\n",
      "Iteration 3800: Loss = 101.12732477930201\n",
      "Iteration 3900: Loss = 100.13650947541737\n",
      "Iteration 4000: Loss = 99.16863996645867\n",
      "Iteration 4100: Loss = 98.2226585278991\n",
      "Iteration 4200: Loss = 97.29764588969527\n",
      "Iteration 4300: Loss = 96.39279461908609\n",
      "Iteration 4400: Loss = 95.50738790620085\n",
      "Iteration 4500: Loss = 94.64078264924801\n",
      "Iteration 4600: Loss = 93.79239596147286\n",
      "Iteration 4700: Loss = 92.96169440142648\n",
      "Iteration 4800: Loss = 92.14818537079677\n",
      "Iteration 4900: Loss = 91.3514102375966\n",
      "Iteration 5000: Loss = 90.57093883285005\n",
      "Iteration 5100: Loss = 89.80636504080078\n",
      "Iteration 5200: Loss = 89.0573032598622\n",
      "Iteration 5300: Loss = 88.32338555703731\n",
      "Iteration 5400: Loss = 87.60425937474658\n",
      "Iteration 5500: Loss = 86.89958567781132\n",
      "Iteration 5600: Loss = 86.20903745126586\n",
      "Iteration 5700: Loss = 85.5322984779104\n",
      "Iteration 5800: Loss = 84.86906233903018\n",
      "Iteration 5900: Loss = 84.21903159325366\n",
      "Iteration 6000: Loss = 83.58191709771188\n",
      "Iteration 6100: Loss = 82.95743744297138\n",
      "Iteration 6200: Loss = 82.34531847903041\n",
      "Iteration 6300: Loss = 81.7452929142976\n",
      "Iteration 6400: Loss = 81.15709997315555\n",
      "Iteration 6500: Loss = 80.58048510064216\n",
      "Iteration 6600: Loss = 80.01519970511514\n",
      "Iteration 6700: Loss = 79.46100093162117\n",
      "Iteration 6800: Loss = 78.9176514601677\n",
      "Iteration 6900: Loss = 78.38491932427132\n",
      "Iteration 7000: Loss = 77.86257774609109\n",
      "Iteration 7100: Loss = 77.35040498520084\n",
      "Iteration 7200: Loss = 76.8481841986456\n",
      "Iteration 7300: Loss = 76.35570331040077\n",
      "Iteration 7400: Loss = 75.87275488872653\n",
      "Iteration 7500: Loss = 75.39913603020949\n",
      "Iteration 7600: Loss = 74.93464824952237\n",
      "Iteration 7700: Loss = 74.47909737412074\n",
      "Iteration 7800: Loss = 74.03229344324828\n",
      "Iteration 7900: Loss = 73.5940506107414\n",
      "Iteration 8000: Loss = 73.16418705122048\n",
      "Iteration 8100: Loss = 72.74252486933106\n",
      "Iteration 8200: Loss = 72.32889001176065\n",
      "Iteration 8300: Loss = 71.92311218180316\n",
      "Iteration 8400: Loss = 71.52502475628465\n",
      "Iteration 8500: Loss = 71.13446470469314\n",
      "Iteration 8600: Loss = 70.75127251038123\n",
      "Iteration 8700: Loss = 70.37529209373011\n",
      "Iteration 8800: Loss = 70.00637073717913\n",
      "Iteration 8900: Loss = 69.64435901203865\n",
      "Iteration 9000: Loss = 69.28911070701389\n",
      "Iteration 9100: Loss = 68.94048275837615\n",
      "Iteration 9200: Loss = 68.5983351817246\n",
      "Iteration 9300: Loss = 68.2625310052869\n",
      "Iteration 9400: Loss = 67.93293620471275\n",
      "Iteration 9500: Loss = 67.60941963931657\n",
      "Iteration 9600: Loss = 67.29185298973009\n",
      "Iteration 9700: Loss = 66.98011069692727\n",
      "Iteration 9800: Loss = 66.67406990258665\n",
      "Iteration 9900: Loss = 66.37361039075816\n",
      "Updated w:  [-1.48148568  3.59473313 -0.86092062  2.15419    -0.53678515 10.15839492\n",
      "  4.29377     4.12117846 -1.30475291 -2.07528014  2.82575137]\n",
      "Updated b:  12.173735926851714\n"
     ]
    }
   ],
   "source": [
    "initial_w, initial_b, alpha = initialize_parameters(X_train)\n",
    "\n",
    "num_iters = 10000\n",
    "\n",
    "w,b,loss_hist = batch_gradient_descent(X_train ,y_train, initial_w, initial_b, alpha, num_iters, True)\n",
    "\n",
    "print(\"Updated w: \",w)\n",
    "print(\"Updated b: \",b)"
   ]
  },
  {
   "cell_type": "code",
   "execution_count": 22,
   "metadata": {},
   "outputs": [
    {
     "name": "stdout",
     "output_type": "stream",
     "text": [
      "Train Error:  66.08153782432943 , Test Error:  58.54817310925999\n"
     ]
    }
   ],
   "source": [
    "train_error = loss_function(X_train,y_train,w,b)\n",
    "test_error = loss_function(X_test,y_test,w,b)\n",
    "print(\"Train Error: \",train_error, \", Test Error: \",test_error)"
   ]
  },
  {
   "cell_type": "code",
   "execution_count": 23,
   "metadata": {},
   "outputs": [
    {
     "data": {
      "image/png": "[encoded data removed]",
      "text/plain": [
       "<Figure size 640x480 with 1 Axes>"
      ]
     },
     "metadata": {},
     "output_type": "display_data"
    }
   ],
   "source": [
    "loss_plot = [loss_hist[i] for i in range(len(loss_hist))]\n",
    "plt.xlabel(\"Iterations\")\n",
    "plt.ylabel(\"Loss function\")\n",
    "plt.plot(loss_plot)\n",
    "plt.show()"
   ]
  },
  {
   "cell_type": "code",
   "execution_count": 24,
   "metadata": {},
   "outputs": [
    {
     "name": "stdout",
     "output_type": "stream",
     "text": [
      "\n",
      "Performance Comparison:\n",
      "\n",
      "Train Error (Random Hyperparameters): 66.08153782432943\n",
      "Train Error (Manual Hyperparameters): 30.056539536785674\n",
      "Train Error Difference: 54.52% (Manual performed better)\n",
      "\n",
      "Test Error (Random Hyperparameters): 58.54817310925999\n",
      "Test Error (Manual Hyperparameters): 28.380108369570134\n",
      "Test Error Difference: 51.53% (Manual performed better)\n"
     ]
    }
   ],
   "source": [
    "num_features = 11\n",
    "learning_rate = 0.1\n",
    "num_iters = 1000\n",
    "\n",
    "X_train = X_train[:, :num_features]\n",
    "X_test = X_test[:, :num_features]\n",
    "\n",
    "initial_w = np.zeros(num_features)\n",
    "initial_b = 0\n",
    "\n",
    "w, b, loss_hist = batch_gradient_descent(X_train, y_train, initial_w, initial_b, learning_rate, num_iters)\n",
    "\n",
    "train_error_manual = loss_function(X_train, y_train, w, b)\n",
    "test_error_manual = loss_function(X_test, y_test, w, b)\n",
    "\n",
    "print(\"\\nPerformance Comparison:\\n\")\n",
    "\n",
    "print(\"Train Error (Random Hyperparameters):\", train_error)\n",
    "print(\"Train Error (Manual Hyperparameters):\", train_error_manual)\n",
    "train_error_diff = (train_error - train_error_manual) / train_error * 100\n",
    "train_perf = \"Manual\" if train_error_manual < train_error else \"Random\"\n",
    "print(f\"Train Error Difference: {train_error_diff:.2f}% ({train_perf} performed better)\\n\")\n",
    "\n",
    "print(\"Test Error (Random Hyperparameters):\", test_error)\n",
    "print(\"Test Error (Manual Hyperparameters):\", test_error_manual)\n",
    "test_error_diff = (test_error - test_error_manual) / test_error * 100\n",
    "test_perf = \"Manual\" if test_error_manual < test_error else \"Random\"\n",
    "print(f\"Test Error Difference: {test_error_diff:.2f}% ({test_perf} performed better)\")"
   ]
  }
 ],
 "metadata": {
  "kernelspec": {
   "display_name": "demo",
   "language": "python",
   "name": "python3"
  },
  "language_info": {
   "codemirror_mode": {
    "name": "ipython",
    "version": 3
   },
   "file_extension": ".py",
   "mimetype": "text/x-python",
   "name": "python",
   "nbconvert_exporter": "python",
   "pygments_lexer": "ipython3",
   "version": "3.12.4"
  }
 },
 "nbformat": 4,
 "nbformat_minor": 2
}
