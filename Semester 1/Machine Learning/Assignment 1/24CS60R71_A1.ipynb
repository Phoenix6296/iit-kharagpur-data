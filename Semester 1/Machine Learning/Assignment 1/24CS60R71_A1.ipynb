{
  "cells": [
    {
      "cell_type": "markdown",
      "metadata": {
        "id": "emjAQ_34SozP",
        "tags": []
      },
      "source": [
        "# Programming Assignment 1"
      ]
    },
    {
      "cell_type": "markdown",
      "metadata": {
        "id": "tKkKCHwsSozQ"
      },
      "source": [
        "In this programming assignment, you will implement a linear regression model and a logistic regression model.\n",
        "\n",
        "In Part 1, you have to implement a linear regression model to predict the price of a house based on various input features.\n",
        "\n",
        "In Part 2, you have to implement a logistic regression model to predict the species of a grain using various morphological features.\n",
        "\n",
        "The assignment zip file (ML_Assignment_1.zip) contains 4 datasets which will be used in this assignment.\n",
        "\n",
        "You have to write your code in this jupyter notebook and submit the solved jupyter notebook with the file name \\<Roll_No\\>_A1.ipynb for evaluation. You have to enter your code only in those cells which are marked as ```## CODE REQUIRED ##```, and you have to write your code only between ```### START CODE HERE ###``` and ```### END CODE HERE ###``` comments."
      ]
    },
    {
      "cell_type": "markdown",
      "metadata": {
        "id": "jHPf8pHpSozR"
      },
      "source": [
        "## Part 1: Linear Regression\n",
        "\n",
        "### Problem Statement  \n",
        "A real estate company is building a machine learning model to determine the price of a house. The model will take various information regarding a house as input features and predict the price per unit area. They decided to use the linear regression as the machine learning model. Your task is to help the company to build the model.\n",
        "Given various features of a house, you will create a linear regression model to predict the price of the house.\n",
        "\n",
        "### Data Description\n",
        "\n",
        "**For Even Roll Number Students:**\n",
        "\n",
        "Dataset Filename: Taiwan_House.csv\n",
        "\n",
        "Attributes Information:\n",
        "1. Transaction date\n",
        "2. House age\n",
        "3. Distance to the nearest MRT station\n",
        "4. Number of convenience stores\n",
        "5. Latitude\n",
        "6. Longitude\n",
        "\n",
        "Target variable: house price of unit area\n",
        "\n",
        "**For Odd Roll Number Students:**\n",
        "\n",
        "Dataset Filename: Boston_House.csv\n",
        "\n",
        "Attributes Information:\n",
        "1. CRIM: per capita crime rate by town\n",
        "2. ZN: proportion of residential land zoned for lots over 25,000 sq.ft.\n",
        "3. INDUS: proportion of non-­retail business acres per town\n",
        "4. CHAS: Charles River dummy variable (= 1 if tract bounds river; 0 otherwise)\n",
        "5. NOX: nitric oxides concentration (parts per 10 million)\n",
        "6. RM: average number of rooms per dwelling\n",
        "7. AGE: proportion of owner­occupied units built prior to 1940\n",
        "8. DIS: weighted distances to five Boston employment centres\n",
        "9. RAD: index of accessibility to radial highways\n",
        "10. TAX: full-­value property-­tax rate per $10,000\n",
        "\n",
        "11. PTRATIO: pupil-­teacher ratio by town\n",
        "12. B: 1000(Bk ­- 0.63)^2 where Bk is the proportion of blacks by town\n",
        "13. LSTAT: % lower status of the population\n",
        "\n",
        "Target Variable: MEDV: Median value of owner-­occupied homes in $1000's\n",
        "\n",
        "\n",
        "These are the following steps or functions that you have to complete to create and train the linear regression model:\n",
        "1. Reading the data\n",
        "2. Computing the loss function\n",
        "3. Computing the gradient of the loss\n",
        "4. Training the model using Batch Gradient Descent\n"
      ]
    },
    {
      "cell_type": "code",
      "execution_count": 1,
      "metadata": {
        "id": "rJDNL8y8SozR",
        "tags": []
      },
      "outputs": [],
      "source": [
        "import numpy as np\n",
        "import pandas as pd\n",
        "import matplotlib.pyplot as plt\n",
        "import copy\n",
        "import math\n",
        "import random"
      ]
    },
    {
      "cell_type": "markdown",
      "metadata": {
        "id": "S5ExYIXiSozS"
      },
      "source": [
        "### 1.1. Reading the data"
      ]
    },
    {
      "cell_type": "markdown",
      "metadata": {
        "id": "FgnxuEDkSozS"
      },
      "source": [
        "In the following function ```load_data```, you have to read the data from the file and store the data into a pandas dataframe. Then you have to create two numpy arrays $X$ and $y$ from the dataframe:\n",
        "\n",
        "+ $X$: Input data of the shape (number of samples, number of input features)\n",
        "+ $y$: Target variable of the shape (number of samples,)\n"
      ]
    },
    {
      "cell_type": "code",
      "execution_count": 2,
      "metadata": {
        "id": "DEal5SFmSozS",
        "tags": []
      },
      "outputs": [
        {
          "name": "stdout",
          "output_type": "stream",
          "text": [
            "Shape of X:  (506, 13) Shape of y:  (506,)\n"
          ]
        }
      ],
      "source": [
        "def load_data(filepath):\n",
        "    \"\"\"\n",
        "    This function loads the data into a pandas dataframe and coverts it into X and y numpy arrays\n",
        "\n",
        "    Args:\n",
        "        filepath: File path as a string\n",
        "    Returns:\n",
        "        X: Input data of the shape (# of samples, # of input features)\n",
        "        y: Target variable of the shape (# of sample,)\n",
        "    \"\"\"\n",
        "    ### START CODE HERE ###\n",
        "\n",
        "    data = pd.read_csv(filepath)\n",
        "    X = data.iloc[:, :-1].values\n",
        "    y = data.iloc[:, -1].values\n",
        "\n",
        "    ### END CODE HERE ###\n",
        "\n",
        "    return X, y\n",
        "\n",
        "filepath = 'Boston_House.csv'\n",
        "X, y = load_data(filepath)\n",
        "\n",
        "print(\"Shape of X: \", X.shape, \"Shape of y: \", y.shape)\n"
      ]
    },
    {
      "cell_type": "markdown",
      "metadata": {
        "id": "se3Qrch5PoIO"
      },
      "source": [
        "We will not use all the features from ```X```.\n",
        "\n",
        "**For Even Roll Number Students:**\n",
        "Set the last two digits of your roll number as the random seed and pick a number ``r`` between 3 and 6 (both inclusive) randomly. Use the first ```r``` features of the numpy array ```X```.\n",
        "\n",
        "**For Odd Roll Number Students:**\n",
        "Set the last two digits of your roll number as the random seed and pick a number ``r`` between 9 and 13 (both inclusive) randomly. Use the first ```r``` features of the numpy array ```X```.\n"
      ]
    },
    {
      "cell_type": "code",
      "execution_count": 3,
      "metadata": {
        "id": "mnRd0p8LtRJ5"
      },
      "outputs": [
        {
          "name": "stdout",
          "output_type": "stream",
          "text": [
            "Shape of X:  (506, 11) Shape of y:  (506,)\n"
          ]
        }
      ],
      "source": [
        "def random_feature_selection(X):\n",
        "    \"\"\"\n",
        "    For Even Roll Number Students: Set the last two digits of your roll number as the random seed and pick a number r\n",
        "    between 3 and 6 randomly. Use the first ```r``` features of the numpy array X.\n",
        "    For Odd Roll Number Students: Set the last two digits of your roll number as the random seed and pick a number r\n",
        "    between 9 and 13 randomly. Use the first ```r``` features of the numpy array X.\n",
        "    Args:\n",
        "        X: Input data of the shape (# of samples, # of input features)\n",
        "    Returns:\n",
        "        X_new: New input data of the shape (# of samples, r) containg only the first r features from X\n",
        "    \"\"\"\n",
        "\n",
        "    ### START CODE HERE ###\n",
        "\n",
        "    random.seed(71)\n",
        "    r = random.randint(9, 13)\n",
        "    X_new = X[:, :r]\n",
        "\n",
        "    # We can take random columns as well\n",
        "    # X_new = X[:, np.random.randint(0, X.shape[1], r)]\n",
        "\n",
        "\n",
        "    ### END CODE HERE ###\n",
        "    \n",
        "    return X_new\n",
        "\n",
        "X = random_feature_selection(X)\n",
        "print(\"Shape of X: \", X.shape, \"Shape of y: \", y.shape)"
      ]
    },
    {
      "cell_type": "markdown",
      "metadata": {
        "id": "4FAc8UixtqLS"
      },
      "source": [
        "We need to pre-process the data. We are using min-max scaler to scale the input data ($X$).\n",
        "\n",
        "After that, we split the data (```X``` and ```y```) into a training dataset (```X_train``` and ```y_train```) and test dataset (```X_test``` and ```y_test```)."
      ]
    },
    {
      "cell_type": "code",
      "execution_count": 4,
      "metadata": {
        "id": "LLmD1I3-SozT",
        "tags": []
      },
      "outputs": [
        {
          "name": "stdout",
          "output_type": "stream",
          "text": [
            "Shape of X_train:  (379, 11) Shape of y_train:  (379,)\n",
            "Shape of X_test:  (127, 11) Shape of y_test:  (127,)\n"
          ]
        }
      ],
      "source": [
        "def train_test_split(X, y, test_size=0.25, random_state=None):\n",
        "    if random_state is not None:\n",
        "        np.random.seed(random_state)\n",
        "    indices = np.arange(X.shape[0])\n",
        "    np.random.shuffle(indices)\n",
        "\n",
        "    split_index = int(X.shape[0] * (1 - test_size))\n",
        "\n",
        "    train_indices = indices[:split_index]\n",
        "    test_indices = indices[split_index:]\n",
        "\n",
        "    X_train = X[train_indices]\n",
        "    X_test = X[test_indices]\n",
        "    y_train = y[train_indices]\n",
        "    y_test = y[test_indices]\n",
        "\n",
        "    return X_train, X_test, y_train, y_test\n",
        "\n",
        "def min_max_scaler(X, feature_range=(0, 1)):\n",
        "    X_min = np.min(X, axis=0)\n",
        "    X_max = np.max(X, axis=0)\n",
        "\n",
        "    X_scaled = (X-X_min)/(X_max-X_min)\n",
        "    return X_scaled\n",
        "\n",
        "X = min_max_scaler(X)\n",
        "X_train, X_test, y_train, y_test = train_test_split(X, y, test_size=0.25, random_state=42)\n",
        "print(\"Shape of X_train: \", X_train.shape, \"Shape of y_train: \", y_train.shape)\n",
        "print(\"Shape of X_test: \", X_test.shape, \"Shape of y_test: \", y_test.shape)\n"
      ]
    },
    {
      "cell_type": "markdown",
      "metadata": {
        "id": "xrFEUV2-SozU"
      },
      "source": [
        "### 1.2. Computing the Loss Function"
      ]
    },
    {
      "cell_type": "markdown",
      "metadata": {
        "id": "I1BC0TPCSozU"
      },
      "source": [
        "In linear regression, the model parameters are:\n",
        "\n",
        "+ $w$: Parameters of the linear regression model (excluding the bias) of the shape (1, number of features)\n",
        "\n",
        "+ $b$: Bias parameter (scalar) of the linear regression model\n",
        "\n",
        "Both $w$ and $b$ are numpy arrays.\n",
        "\n",
        "Given the model parameters $w$ and $b$, the prediction for an input sample $X^i$ is:\n",
        "$$h_{w,b}(X^i) = w \\cdot X^i + b$$\n",
        "where $X^i$ is the $i^{th}$ training sample with shape (number of features,1)\n",
        "\n",
        "For linear regression, you have to implement and compute Mean Squarred Error loss fucntion:\n",
        "$$ L_{w,b}(X) = \\sum_{i=1}^{m}(y^i - h_{w,b}(X^i))^2 $$\n",
        "where $y^i$ is the true target value for the $i^{th}$ sample and $h_{w,b}(X^i)$ is the predicted value for the $i^{th}$ sample using the parameters $w$ and $b$.\n",
        "\n",
        "$w$ is the list of parameters excluding the bias and $b$ is the bias term."
      ]
    },
    {
      "cell_type": "code",
      "execution_count": 5,
      "metadata": {
        "id": "t6GqZMlYSozV",
        "tags": []
      },
      "outputs": [],
      "source": [
        "def loss_function(X, y, w, b):\n",
        "    \"\"\"\n",
        "    Computes the cost function for linear regression.\n",
        "\n",
        "    Args:\n",
        "        X: Input data of the shape (# of training samples, # of input features)\n",
        "        y: Target variable of the shape (# of training sample,)\n",
        "        w: Parameters of the linear regression model (excluding the bias) of the shape (1, number of features)\n",
        "        b: Bias parameter (scalar) of the linear regression model\n",
        "\n",
        "    Returns\n",
        "        loss: The loss function value of using w and b as the parameters to fit the data points in X and y\n",
        "    \"\"\"\n",
        "    # number of training examples\n",
        "    m = X.shape[0]\n",
        "\n",
        "    ### START CODE HERE ###\n",
        "\n",
        "    predictions = np.dot(X, w) + b\n",
        "    squared_errors = (y - predictions) ** 2\n",
        "    loss = np.sum(squared_errors)/m\n",
        "\n",
        "    ### END CODE HERE ###\n",
        "\n",
        "    \n",
        "    return loss"
      ]
    },
    {
      "cell_type": "markdown",
      "metadata": {
        "id": "l0h7jhxGSozV"
      },
      "source": [
        "### 1.3. Comptuing the Gradient of the Loss\n",
        "\n",
        "In this following function ```compute_gradient```, you have to compute the gradients $\\frac{\\partial L}{\\partial w}$ and $\\frac{\\partial L}{\\partial b}$ of the loss $L$ w.r.t. $w$ and $b$. More specifically, you have to iterate over every training example and compute the gradients of the loss for that training example. Finally, aggregate the gradient values for all the training examples and take the average. The gradients can be computed as:\n",
        "$$\\frac{\\partial L}{\\partial w} = \\frac{1}{m} \\sum_{i=1}^m (h_{w,b}(X^i)-y^i)X^i$$\n",
        "\n",
        "$$\\frac{\\partial L}{\\partial b} = \\frac{1}{m} \\sum_{i=1}^{m} (h_{w,b}(X^i)-y^i)$$\n"
      ]
    },
    {
      "cell_type": "code",
      "execution_count": 6,
      "metadata": {
        "id": "do-IiCTZSozV",
        "tags": []
      },
      "outputs": [],
      "source": [
        "def compute_gradient(X, y, w, b):\n",
        "    \"\"\"\n",
        "    Computes the gradient values\n",
        "    Args:\n",
        "       X: Input data of the shape (# of training samples, # of input features)\n",
        "       y: Target variable of the shape (# of training sample,)\n",
        "       w: Parameters of the linear regression model (excluding the bias) of the shape (1, number of features)\n",
        "       b: Bias parameter of the linear regression model of the shape (1,1) or a scaler\n",
        "    Returns:\n",
        "       dL_dw : The gradient of the cost w.r.t. the parameters w with shape same as w\n",
        "       dL_db : The gradient of the cost w.r.t. the parameter b with shape same as b\n",
        "    \"\"\"\n",
        "\n",
        "    # Number of training examples\n",
        "    m = X.shape[0]\n",
        "\n",
        "    ### START CODE HERE ###\n",
        "    \n",
        "    predictions = np.dot(X, w) + b\n",
        "\n",
        "    error = predictions - y\n",
        "    dL_dw = np.dot(X.T, error) / m\n",
        "    dL_db = np.sum(error) / m\n",
        "\n",
        "    ### END CODE HERE ###\n",
        "\n",
        "    return dL_dw, dL_db\n"
      ]
    },
    {
      "cell_type": "markdown",
      "metadata": {
        "id": "uYL1jWaZSozV"
      },
      "source": [
        "### 1.4. Training the Model using Batch Gradient Descent"
      ]
    },
    {
      "cell_type": "markdown",
      "metadata": {
        "id": "2vwyRzWqSozV"
      },
      "source": [
        "Finally, you have to implement the batch gradient descent algorithm to train and learn the parameters of the linear regression model. You have to use ```loss_function``` and ```compute_gradient``` functions that you have implemented earlier in this assignment.\n",
        "\n",
        "In this ```batch_gradient_descent``` function, you have to compute the gradient for the training samples and update the parameters $w$ and $b$ in every iteration:\n",
        "\n",
        "+ $w \\leftarrow w - \\alpha \\frac{\\partial L}{\\partial w}$\n",
        "\n",
        "+ $b \\leftarrow b - \\alpha \\frac{\\partial L}{\\partial b}$\n",
        "\n",
        "Additionally, you have compute the loss function values in every iteration and store it in the list variable ```loss_hist``` and print the loss value after every 100 iterations during the training process."
      ]
    },
    {
      "cell_type": "code",
      "execution_count": 7,
      "metadata": {
        "id": "UHKldb3hSozV",
        "tags": []
      },
      "outputs": [],
      "source": [
        "def batch_gradient_descent(X, y, w_initial, b_initial, alpha, num_iters, printFlag = False):\n",
        "    \"\"\"\n",
        "    Batch gradient descent to learn the parameters (w and b) of the linear regression model and to print loss values\n",
        "    every 100 iterations.\n",
        "\n",
        "    Args:\n",
        "        X: Input data of the shape (# of training samples, # of input features)\n",
        "        y: Target variable of the shape (# of training sample,)\n",
        "        w_initial: Initial parameters of the linear regression model (excluding the bias) of the shape (number of features,)\n",
        "        b_initial: Initial bias parameter (scalar) of the linear regression model\n",
        "        alpha: Learning rate\n",
        "        num_iters: number of iterations\n",
        "\n",
        "    Returns:\n",
        "        w: Updated values of parameters of the model after training\n",
        "        b: Updated bias of the model after training\n",
        "        loss_hist: List of loss values for every iteration\n",
        "    \"\"\"\n",
        "\n",
        "    # Number of training examples\n",
        "    m = X.shape[0]\n",
        "\n",
        "    # to store loss values for every iteation as a list and print loss value after every 100 iterations\n",
        "    loss_hist = []\n",
        "\n",
        "    # Initialize parameters\n",
        "    w = copy.deepcopy(w_initial) ## deepcopy is used so that the updates do not change the initial variable values\n",
        "    b = b_initial\n",
        "\n",
        "    ### START CODE HERE ###\n",
        "\n",
        "    for i in range(num_iters):\n",
        "        dL_dw, dL_db = compute_gradient(X, y, w, b)\n",
        "\n",
        "        w -= alpha * dL_dw\n",
        "        b -= alpha * dL_db\n",
        "        loss = loss_function(X, y, w, b)\n",
        "        \n",
        "        loss_hist.append(loss)\n",
        "\n",
        "        if printFlag and i % 100 == 0:\n",
        "            print(f\"Iteration {i}: Loss = {loss}\")\n",
        "\n",
        "    ### END CODE HERE ###\n",
        "\n",
        "    return w, b, loss_hist\n"
      ]
    },
    {
      "cell_type": "markdown",
      "metadata": {
        "id": "y0h3DUMwNocp"
      },
      "source": [
        "Now you have to intialize the model parameters ($w$ and $b$) and learning rate (```alpha```). The learning rate ```alpha``` has to be randomly initialized between 0.0001 and 0.001. For the learning rate, you have to first set the last two digits of your roll number as the random seed using ```random.seed()``` function."
      ]
    },
    {
      "cell_type": "code",
      "execution_count": 8,
      "metadata": {
        "id": "Xd8QFReNDyGs"
      },
      "outputs": [],
      "source": [
        "# Set the random seed for reproducibility\n",
        "random_seed = 71\n",
        "random.seed(random_seed)\n",
        "np.random.seed(random_seed)\n",
        "\n",
        "def initialize_parameters(X):\n",
        "    \"\"\"\n",
        "    This function randomly initializes the model parameters (w and b) and the hyperparameter alpha.\n",
        "    Initial w and b are sampled from a normal distribution with mean 0.\n",
        "    Alpha is randomly initialized between 0.0001 and 0.001.\n",
        "    \n",
        "    Args:\n",
        "        X: Input data of the shape (# of training samples, # of input features)\n",
        "\n",
        "    Returns:\n",
        "        initial_w: Initial parameters of the linear regression model (excluding the bias) of the shape (number of features,)\n",
        "        initial_b: Initial bias parameter (scalar) of the linear regression model\n",
        "        alpha: Learning rate\n",
        "    \"\"\"\n",
        "    ### START CODE HERE ###\n",
        "\n",
        "    alpha = random.uniform(0.0001, 0.001)\n",
        "    num_features = X.shape[1]\n",
        "    initial_w = np.random.randn(num_features)\n",
        "    initial_b = 0\n",
        "\n",
        "    ### END CODE HERE ###\n",
        "\n",
        "    return initial_w, initial_b, alpha"
      ]
    },
    {
      "cell_type": "markdown",
      "metadata": {
        "id": "l7nt5VdORUEu"
      },
      "source": [
        "In the next cell, the model is trained using batch gradient descent algorithm for ```num_iters=10000``` iterations. You can change the number of iterations to check any improvements in the performance."
      ]
    },
    {
      "cell_type": "code",
      "execution_count": 9,
      "metadata": {
        "id": "9rAYubtASozV",
        "tags": []
      },
      "outputs": [
        {
          "name": "stdout",
          "output_type": "stream",
          "text": [
            "Iteration 0: Loss = 597.2067664354943\n",
            "Iteration 100: Loss = 505.33269202060666\n",
            "Iteration 200: Loss = 431.8361089040912\n",
            "Iteration 300: Loss = 372.9700397089757\n",
            "Iteration 400: Loss = 325.7529860450158\n",
            "Iteration 500: Loss = 287.812514470307\n",
            "Iteration 600: Loss = 257.2608039941867\n",
            "Iteration 700: Loss = 232.59562410605082\n"
          ]
        },
        {
          "name": "stdout",
          "output_type": "stream",
          "text": [
            "Iteration 800: Loss = 212.62154686149583\n",
            "Iteration 900: Loss = 196.3872584028738\n",
            "Iteration 1000: Loss = 183.13568015961224\n",
            "Iteration 1100: Loss = 172.26428220165388\n",
            "Iteration 1200: Loss = 163.29350608438224\n",
            "Iteration 1300: Loss = 155.84164009417486\n",
            "Iteration 1400: Loss = 149.60482841341903\n",
            "Iteration 1500: Loss = 144.3411651420611\n",
            "Iteration 1600: Loss = 139.85803847810956\n",
            "Iteration 1700: Loss = 136.00206092147374\n",
            "Iteration 1800: Loss = 132.65105707487675\n",
            "Iteration 1900: Loss = 129.70768859410052\n",
            "Iteration 2000: Loss = 127.09438175403061\n",
            "Iteration 2100: Loss = 124.74929145547614\n",
            "Iteration 2200: Loss = 122.62308988788207\n",
            "Iteration 2300: Loss = 120.67641133911738\n",
            "Iteration 2400: Loss = 118.8778190765666\n",
            "Iteration 2500: Loss = 117.20218762075044\n",
            "Iteration 2600: Loss = 115.62941553140146\n",
            "Iteration 2700: Loss = 114.14340117027932\n",
            "Iteration 2800: Loss = 112.73122770522417\n",
            "Iteration 2900: Loss = 111.38251460022734\n",
            "Iteration 3000: Loss = 110.08890157287145\n",
            "Iteration 3100: Loss = 108.84363795183394\n",
            "Iteration 3200: Loss = 107.64125589805582\n",
            "Iteration 3300: Loss = 106.4773103538985\n",
            "Iteration 3400: Loss = 105.34817208609405\n",
            "Iteration 3500: Loss = 104.25086297427939\n",
            "Iteration 3600: Loss = 103.18292491360768\n",
            "Iteration 3700: Loss = 102.14231546367053\n",
            "Iteration 3800: Loss = 101.12732477930201\n",
            "Iteration 3900: Loss = 100.13650947541737\n",
            "Iteration 4000: Loss = 99.16863996645867\n",
            "Iteration 4100: Loss = 98.2226585278991\n",
            "Iteration 4200: Loss = 97.29764588969527\n",
            "Iteration 4300: Loss = 96.39279461908609\n",
            "Iteration 4400: Loss = 95.50738790620085\n",
            "Iteration 4500: Loss = 94.64078264924801\n",
            "Iteration 4600: Loss = 93.79239596147286\n",
            "Iteration 4700: Loss = 92.96169440142648\n",
            "Iteration 4800: Loss = 92.14818537079677\n",
            "Iteration 4900: Loss = 91.3514102375966\n",
            "Iteration 5000: Loss = 90.57093883285005\n",
            "Iteration 5100: Loss = 89.80636504080078\n",
            "Iteration 5200: Loss = 89.0573032598622\n",
            "Iteration 5300: Loss = 88.32338555703731\n",
            "Iteration 5400: Loss = 87.60425937474658\n",
            "Iteration 5500: Loss = 86.89958567781132\n",
            "Iteration 5600: Loss = 86.20903745126586\n",
            "Iteration 5700: Loss = 85.5322984779104\n",
            "Iteration 5800: Loss = 84.86906233903018\n",
            "Iteration 5900: Loss = 84.21903159325366\n",
            "Iteration 6000: Loss = 83.58191709771188\n",
            "Iteration 6100: Loss = 82.95743744297138\n",
            "Iteration 6200: Loss = 82.34531847903041\n",
            "Iteration 6300: Loss = 81.7452929142976\n",
            "Iteration 6400: Loss = 81.15709997315555\n",
            "Iteration 6500: Loss = 80.58048510064216\n",
            "Iteration 6600: Loss = 80.01519970511514\n",
            "Iteration 6700: Loss = 79.46100093162117\n",
            "Iteration 6800: Loss = 78.9176514601677\n",
            "Iteration 6900: Loss = 78.38491932427132\n",
            "Iteration 7000: Loss = 77.86257774609109\n",
            "Iteration 7100: Loss = 77.35040498520084\n",
            "Iteration 7200: Loss = 76.8481841986456\n",
            "Iteration 7300: Loss = 76.35570331040077\n",
            "Iteration 7400: Loss = 75.87275488872653\n",
            "Iteration 7500: Loss = 75.39913603020949\n",
            "Iteration 7600: Loss = 74.93464824952237\n",
            "Iteration 7700: Loss = 74.47909737412074\n",
            "Iteration 7800: Loss = 74.03229344324828\n",
            "Iteration 7900: Loss = 73.5940506107414\n",
            "Iteration 8000: Loss = 73.16418705122048\n",
            "Iteration 8100: Loss = 72.74252486933106\n",
            "Iteration 8200: Loss = 72.32889001176065\n",
            "Iteration 8300: Loss = 71.92311218180316\n",
            "Iteration 8400: Loss = 71.52502475628465\n",
            "Iteration 8500: Loss = 71.13446470469314\n",
            "Iteration 8600: Loss = 70.75127251038123\n",
            "Iteration 8700: Loss = 70.37529209373011\n",
            "Iteration 8800: Loss = 70.00637073717913\n",
            "Iteration 8900: Loss = 69.64435901203865\n",
            "Iteration 9000: Loss = 69.28911070701389\n",
            "Iteration 9100: Loss = 68.94048275837615\n",
            "Iteration 9200: Loss = 68.5983351817246\n",
            "Iteration 9300: Loss = 68.2625310052869\n",
            "Iteration 9400: Loss = 67.93293620471275\n",
            "Iteration 9500: Loss = 67.60941963931657\n",
            "Iteration 9600: Loss = 67.29185298973009\n",
            "Iteration 9700: Loss = 66.98011069692727\n",
            "Iteration 9800: Loss = 66.67406990258665\n",
            "Iteration 9900: Loss = 66.37361039075816\n",
            "Updated w:  [-1.48148568  3.59473313 -0.86092062  2.15419    -0.53678515 10.15839492\n",
            "  4.29377     4.12117846 -1.30475291 -2.07528014  2.82575137]\n",
            "Updated b:  12.173735926851714\n"
          ]
        }
      ],
      "source": [
        "# initialize the parameters and hyperparameter\n",
        "initial_w, initial_b, alpha = initialize_parameters(X_train)\n",
        "\n",
        "# number of iterations\n",
        "num_iters = 10000\n",
        "\n",
        "w,b,loss_hist = batch_gradient_descent(X_train ,y_train, initial_w, initial_b, alpha, num_iters, True)\n",
        "\n",
        "print(\"Updated w: \",w)\n",
        "print(\"Updated b: \",b)"
      ]
    },
    {
      "cell_type": "markdown",
      "metadata": {
        "id": "sluek2LkSozW"
      },
      "source": [
        "### 1.5. Final Train Error and Test Error"
      ]
    },
    {
      "cell_type": "markdown",
      "metadata": {
        "id": "EH9oHC10fAlV"
      },
      "source": [
        "After the linear regression model is trained, we will compute the final train error and test error for the trained model."
      ]
    },
    {
      "cell_type": "code",
      "execution_count": 10,
      "metadata": {
        "id": "UIXb7sSvSozW",
        "tags": []
      },
      "outputs": [
        {
          "name": "stdout",
          "output_type": "stream",
          "text": [
            "Train Error:  66.08153782432943 , Test Error:  58.54817310925999\n"
          ]
        }
      ],
      "source": [
        "## Train and Test error computation\n",
        "\n",
        "train_error = loss_function(X_train,y_train,w,b)\n",
        "test_error = loss_function(X_test,y_test,w,b)\n",
        "print(\"Train Error: \",train_error, \", Test Error: \",test_error)"
      ]
    },
    {
      "cell_type": "markdown",
      "metadata": {
        "id": "eximd12PbAgC"
      },
      "source": [
        "### 1.6. Plotting the loss function"
      ]
    },
    {
      "cell_type": "markdown",
      "metadata": {
        "id": "meDwLCCIfOBo"
      },
      "source": [
        "We will plot the loss function values for every training iteration. If the model is trained properly, you will see that the loss function reduces as the training progesses and it converges at some point."
      ]
    },
    {
      "cell_type": "code",
      "execution_count": 11,
      "metadata": {
        "id": "DW4bue0oSozW"
      },
      "outputs": [
        {
          "data": {
            "image/png": "[encoded data removed]",
            "text/plain": [
              "<Figure size 1000x600 with 1 Axes>"
            ]
          },
          "metadata": {},
          "output_type": "display_data"
        }
      ],
      "source": [
        "# PLotting the loss values for every training iterations\n",
        "loss_plot = loss_hist #Directly assigning it because it is a list of scalar data i.e., loss.\n",
        "\n",
        "# Plotting the loss values\n",
        "plt.figure(figsize=(10, 6))\n",
        "plt.xlabel(\"Iterations\")\n",
        "plt.ylabel(\"Loss function\")\n",
        "plt.plot(loss_plot, label=\"Loss\")\n",
        "plt.title(\"Loss Function Value Over Iterations\")\n",
        "plt.legend()\n",
        "plt.show()\n"
      ]
    },
    {
      "cell_type": "markdown",
      "metadata": {
        "id": "BAVgq4HWCmDX"
      },
      "source": [
        "### 1.7 Experimenting with different values of the Hyperparemeters\n",
        "\n",
        "Previously, we randomly sampled the learning rate and the number of features to train the model. Now, you have to manually choose the number of features and the learning rate. Then, you have to train the model again on the manually choosen hyperparameters (number of features and learning rate). In the next cell, you have to manually choose the hyperparameters and write the code to train the model.\n",
        "\n",
        "After the model is trained, you have to compare the performance of the model with random chosen hyperparameters and manually chosen hyperparameters."
      ]
    },
    {
      "cell_type": "code",
      "execution_count": 12,
      "metadata": {
        "id": "K2QuEbE1Clxq"
      },
      "outputs": [
        {
          "name": "stdout",
          "output_type": "stream",
          "text": [
            "\n",
            "Comparison of Performance:\n",
            "Randomly Chosen Hyperparameters:\n",
            "Train Error:  66.08153782432943\n",
            "Test Error:  58.54817310925999\n",
            "\n",
            "Manually Chosen Hyperparameters:\n",
            "Train Error:  30.056539536785674\n",
            "Test Error:  28.380108369570134\n",
            "\n",
            "Performance Comparison:\n",
            "Train Error Difference: 54.52% (Manual performed better)\n",
            "Test Error Difference: 51.53% (Manual performed better)\n"
          ]
        }
      ],
      "source": [
        "# Manually choosing the number of features and learning rate\n",
        "num_features = 11\n",
        "learning_rate = 0.1\n",
        "\n",
        "# Adjust the number of features in X_train and X_test\n",
        "X_train = X_train[:, :num_features]\n",
        "X_test = X_test[:, :num_features]\n",
        "\n",
        "# Initialize parameters with chosen learning rate and number of features\n",
        "initial_w = np.zeros(num_features)  # Or any other initialization method\n",
        "initial_b = 0\n",
        "\n",
        "# Train the model using batch gradient descent with manually chosen hyperparameters\n",
        "num_iters = 1000\n",
        "w, b, loss_hist = batch_gradient_descent(X_train, y_train, initial_w, initial_b, learning_rate, num_iters)\n",
        "\n",
        "# Compute train and test errors with manually chosen hyperparameters\n",
        "train_error_manual = loss_function(X_train, y_train, w, b)\n",
        "test_error_manual = loss_function(X_test, y_test, w, b)\n",
        "\n",
        "print(\"\\nComparison of Performance:\")\n",
        "print(\"Randomly Chosen Hyperparameters:\")\n",
        "print(\"Train Error: \", train_error)\n",
        "print(\"Test Error: \", test_error)\n",
        "\n",
        "print(\"\\nManually Chosen Hyperparameters:\")\n",
        "print(\"Train Error: \", train_error_manual)\n",
        "print(\"Test Error: \", test_error_manual)\n",
        "\n",
        "# Calculating % performace of which model performed better\n",
        "train_error_diff = (train_error - train_error_manual) / train_error * 100\n",
        "test_error_diff = (test_error - test_error_manual) / test_error * 100\n",
        "\n",
        "train_perf = \"Manual\" if train_error_manual < train_error else \"Random\"\n",
        "test_perf = \"Manual\" if test_error_manual < test_error else \"Random\"\n",
        "\n",
        "print(f\"\\nPerformance Comparison:\")\n",
        "print(f\"Train Error Difference: {train_error_diff:.2f}% ({train_perf} performed better)\")\n",
        "print(f\"Test Error Difference: {test_error_diff:.2f}% ({test_perf} performed better)\")\n"
      ]
    },
    {
      "cell_type": "markdown",
      "metadata": {
        "id": "XZ0CviUnZui0"
      },
      "source": [
        "## Part 2: Logistic Regression\n",
        "\n",
        "### Problem Statement\n",
        "A Food grain industry requires an efficient classification system to help in sorting food grain species. You have to develop a Logistic Regression model for this purpose.\n",
        " Given various features of a rice grain such as area, perimeter, axis lengths etc. as input features, the task is to build a logistic regression model to predict the species of the food grain.\n",
        "\n",
        "### Dataset Description\n",
        "\n",
        "**For Even Roll Number Students**\n",
        "\n",
        "Dataset Filename: Rice_Classification.csv\n",
        "\n",
        "Attribute Information:\n",
        "+ Area: Returns the number of pixels within the boundaries of the rice grain.\n",
        "+ Perimeter: Calculates the circumference by calculating the distance between pixels around the boundaries of the rice grain.\n",
        "+ Major Axis Length: The longest line that can be drawn on the rice grain, i.e. the main axis distance, gives.\n",
        "+ Minor Axis Length: The shortest line that can be drawn on the rice grain, i.e. the small axis distance, gives.\n",
        "+ Eccentricity: It measures how round the ellipse, which has the same moments as the rice grain, is.\n",
        "+ Convex Area: Returns the pixel count of the smallest convex shell of the region formed by the rice grain.\n",
        "+ Extent: Returns the ratio of the region formed by the rice grain to the bounding box pixels.\n",
        "\n",
        "Target Variable: Class: Cammeo and Osmancik\n",
        "\n",
        "**For Odd Roll Number Students**\n",
        "\n",
        "Dataset Filename: Pumpkin_Seeds_Dataset.csv\n",
        "\n",
        "Attribute Information:\n",
        "\n",
        "+ Area: Represents the number of pixels within the boundaries of the pumpkin seed.\n",
        "\n",
        "+ Perimeter: Calculates the circumference by measuring the distance between pixels around the boundary of the pumpkin seed.\n",
        "\n",
        "+ Major Axis Length: The longest line that can be drawn on the pumpkin seed, representing the main axis distance.\n",
        "\n",
        "+ Minor Axis Length: The shortest line that can be drawn on the pumpkin seed, representing the minor axis distance.\n",
        "\n",
        "+ Convex Area: Returns the pixel count of the smallest convex shell that can contain the pumpkin seed.\n",
        "\n",
        "+ Equivalent Diameter: Diameter of a circle with the same area as the pumpkin seed.\n",
        "\n",
        "+ Eccentricity: This measures how round the ellipse, which has the same moments as the pumpkin seed has.\n",
        "\n",
        "+ Solidity: This is the ratio of the area of the pumpkin seed to the area of its convex hull. It measures the extent to which the shape is convex.\n",
        "\n",
        "+ Extent: Returns the ratio of the area of the pumpkin seed to the area of its bounding box.\n",
        "\n",
        "+ Roundness: Measure of how closely the shape of the pumpkin seed approaches that of a circle.\n",
        "\n",
        "+ Aspect Ratio: Ratio of the major axis length to the minor axis length.\n",
        "\n",
        "+ Compactness: Measure of the shape's compactness, which is the shape's deviation from being a perfect circle. In essence, compactness quantifies how efficiently an object's area is packed within its perimeter.\n",
        "\n",
        "Target Variable: Class: Çerçevelik and Ürgüp Sivrisi\n",
        "\n",
        "\n",
        "\n",
        "These are the following steps or functions that you have to complete to create and train the linear regression model:\n",
        "1. Reading the data\n",
        "2. Creating the sigmoid function\n",
        "2. Computing the loss function\n",
        "3. Computing the gradient of the loss\n",
        "4. Training the model using Batch Gradient Descent"
      ]
    },
    {
      "cell_type": "code",
      "execution_count": 13,
      "metadata": {
        "id": "T27XOBZrRZ4M"
      },
      "outputs": [],
      "source": [
        "import numpy as np\n",
        "import pandas as pd\n",
        "import matplotlib.pyplot as plt\n",
        "from scipy.special import logsumexp\n",
        "import copy\n",
        "import math"
      ]
    },
    {
      "cell_type": "markdown",
      "metadata": {
        "id": "G3luUk4L0WO_"
      },
      "source": [
        "### 2.1. Reading the data\n",
        "\n",
        "In the function ```load_data```, you have to read data from the file, store it in a dataframe and split the data from the dataframe into two numpy arrays X and y.\n",
        "\n",
        "**X** : data of the input features\n",
        "\n",
        "**y**  : data of the class labels\n",
        "\n",
        "The class labels in **y** should be replaced with '0' and '1', for corresponding classes."
      ]
    },
    {
      "cell_type": "code",
      "execution_count": 14,
      "metadata": {
        "id": "7-RV0JgEZi1h"
      },
      "outputs": [
        {
          "name": "stdout",
          "output_type": "stream",
          "text": [
            "Shape of X:  (2500, 12) Shape of y:  (2500,)\n"
          ]
        }
      ],
      "source": [
        "## CODE REQUIRED ##\n",
        "def load_data(filepath):\n",
        "    \"\"\"\n",
        "    This function loads the data into a pandas dataframe and converts it into X and y numpy arrays\n",
        "    y should be a binary numpy array with values 0 and 1, for 2 different classes\n",
        "    Args:\n",
        "        filepath: File path as a string\n",
        "    Returns:\n",
        "        X: Input data of the shape (# of samples, # of input features)\n",
        "        y: Target variable of the shape (# of sample,) with values 0 and 1, for 2 different classes\n",
        "    \"\"\"\n",
        "\n",
        "    ### START CODE HERE ###\n",
        "\n",
        "    df = pd.read_csv(filepath)\n",
        "    \n",
        "    X = df.drop('Class', axis=1).values\n",
        "    y = df['Class'].values\n",
        "    \n",
        "    unique_classes = np.unique(y)\n",
        "    class_map = {label: idx for idx, label in enumerate(unique_classes)}\n",
        "    y = np.array([class_map[label] for label in y])\n",
        "\n",
        "    ### END CODE HERE ###\n",
        "    \n",
        "    return X, y\n",
        "\n",
        "## set the file path\n",
        "filepath = 'Pumpkin_Seeds_Dataset.csv'\n",
        "\n",
        "X, y = load_data(filepath)\n",
        "\n",
        "print(\"Shape of X: \",X.shape, \"Shape of y: \",y.shape)\n"
      ]
    },
    {
      "cell_type": "markdown",
      "metadata": {
        "id": "sLGPG1YU-C47"
      },
      "source": [
        "We will not use all the features from X.\n",
        "\n",
        "For Even Roll Number Students: Set the last two digits of your roll number as the random seed and pick a number r between 4 and 7 (both inclusive) randomly. Use the first r features of the numpy array X.\n",
        "\n",
        "For Odd Roll Number Students: Set the last two digits of your roll number as the random seed and pick a number r between 8 and 12 (both inclusive) randomly. Use the first r features of the numpy array X."
      ]
    },
    {
      "cell_type": "code",
      "execution_count": 15,
      "metadata": {
        "id": "JNsDb2Ae94s6"
      },
      "outputs": [
        {
          "name": "stdout",
          "output_type": "stream",
          "text": [
            "Shape of X:  (2500, 11) Shape of y:  (2500,)\n"
          ]
        }
      ],
      "source": [
        "## CODE REQUIRED ##\n",
        "\n",
        "def random_feature_selection(X):\n",
        "    \"\"\"\n",
        "\n",
        "    Args:\n",
        "        X: Input data of the shape (# of samples, # of input features)\n",
        "    Returns:\n",
        "        X_new: New input data of the shape (# of samples, r) containg only the first r features from X\n",
        "    \"\"\"\n",
        "\n",
        "    ### START CODE HERE ###\n",
        "\n",
        "    np.random.seed(71)\n",
        "    r = np.random.randint(8, 13)\n",
        "    X_new = X[:, :r] # Selecting the first r features\n",
        "\n",
        "    ### END CODE HERE ###\n",
        "    \n",
        "    return X_new\n",
        "\n",
        "X = random_feature_selection(X)\n",
        "print(\"Shape of X: \", X.shape, \"Shape of y: \", y.shape)"
      ]
    },
    {
      "cell_type": "markdown",
      "metadata": {
        "id": "t4u-qBe34wC9"
      },
      "source": [
        "We need to pre-process the data. We are using min-max scaler to scale the input data ($X$).\n",
        "\n",
        "After that, we split the data (```X``` and ```y```) into a training dataset (```X_train``` and ```y_train```) and test dataset (```X_test``` and ```y_test```)"
      ]
    },
    {
      "cell_type": "code",
      "execution_count": 16,
      "metadata": {
        "id": "YTO4etePa0i1"
      },
      "outputs": [
        {
          "name": "stdout",
          "output_type": "stream",
          "text": [
            "Shape of X_train:  (1875, 11) Shape of y_train:  (1875,)\n",
            "Shape of X_test:  (625, 11) Shape of y_test:  (625,)\n"
          ]
        }
      ],
      "source": [
        "## Data scaling and train-test split\n",
        "\n",
        "def train_test_split(X, y, test_size=0.25, random_state=None):\n",
        "    if random_state is not None:\n",
        "        np.random.seed(random_state)\n",
        "    indices = np.arange(X.shape[0])\n",
        "    np.random.shuffle(indices)\n",
        "\n",
        "    split_index = int(X.shape[0] * (1 - test_size))\n",
        "\n",
        "    train_indices = indices[:split_index]\n",
        "    test_indices = indices[split_index:]\n",
        "\n",
        "    X_train = X[train_indices]\n",
        "    X_test = X[test_indices]\n",
        "    y_train = y[train_indices]\n",
        "    y_test = y[test_indices]\n",
        "\n",
        "    return X_train, X_test, y_train, y_test\n",
        "\n",
        "def min_max_scaler(X, feature_range=(0, 1)):\n",
        "    X_min = np.min(X, axis=0)\n",
        "    X_max = np.max(X, axis=0)\n",
        "\n",
        "    X_scaled = (X-X_min)/(X_max-X_min)\n",
        "\n",
        "    return X_scaled\n",
        "\n",
        "# Feature normalization\n",
        "X = min_max_scaler(X)\n",
        "X_train, X_test, y_train, y_test = train_test_split(X, y, test_size=0.25, random_state=42)\n",
        "print(\"Shape of X_train: \",X_train.shape, \"Shape of y_train: \",y_train.shape)\n",
        "print(\"Shape of X_test: \",X_test.shape, \"Shape of y_test: \",y_test.shape)"
      ]
    },
    {
      "cell_type": "markdown",
      "metadata": {
        "id": "K8SbmjD945Ra"
      },
      "source": [
        "### 2.2. Creating the Sigmoid Function\n",
        "Recall that for logistic regression, the model is represented as\n",
        "\n",
        "$$ f_{\\mathbf{w},b}(x) = g(\\mathbf{w}\\cdot \\mathbf{x} + b)$$\n",
        "where function $g$ is the sigmoid function. The sigmoid function is defined as:\n",
        "\n",
        "$$g(z) = \\frac{1}{1+e^{-z}}$$\n",
        "\n",
        "\n",
        "The function below returns the value of the sigmoid function for an input numpy array z. If the numpy array 'z' stores multiple numbers, we'd like to apply the sigmoid function to each value in the input array"
      ]
    },
    {
      "cell_type": "code",
      "execution_count": 17,
      "metadata": {
        "id": "G44B1vITbBpE"
      },
      "outputs": [],
      "source": [
        "def sigmoid(z):\n",
        "    \"\"\"\n",
        "    Compute the sigmoid of z\n",
        "\n",
        "    Args:\n",
        "        z: A scalar or numpy array of any size.\n",
        "\n",
        "    Returns:\n",
        "        g: sigmoid(z)\n",
        "    \"\"\"\n",
        "    z = z.astype(float)\n",
        "    g = 1 / (1 + np.exp(-z))\n",
        "    \n",
        "    return g\n"
      ]
    },
    {
      "cell_type": "markdown",
      "metadata": {
        "id": "kV-Ygf1R8HMl"
      },
      "source": [
        "### 2.3. Computing the loss Function\n",
        "\n",
        "Recall that for logistic regression, the cost function is of the form\n",
        "\n",
        "$$ J(\\mathbf{w},b) = \\frac{1}{m}\\sum_{i=0}^{m-1} \\left[ loss(f_{\\mathbf{w},b}(\\mathbf{x}^{(i)}), y^{(i)}) \\right] \\tag{1}$$\n",
        "\n",
        "where\n",
        "* m is the number of training examples in the dataset\n",
        "\n",
        "\n",
        "* $loss(f_{\\mathbf{w},b}(\\mathbf{x}^{(i)}), y^{(i)})$ is the cost for a single data point, which is -\n",
        "\n",
        "    $$loss(f_{\\mathbf{w},b}(\\mathbf{x}^{(i)}), y^{(i)}) = (-y^{(i)} \\log\\left(f_{\\mathbf{w},b}\\left( \\mathbf{x}^{(i)} \\right) \\right) - \\left( 1 - y^{(i)}\\right) \\log \\left( 1 - f_{\\mathbf{w},b}\\left( \\mathbf{x}^{(i)} \\right) \\right) \\tag{2}$$\n",
        "    \n",
        "    \n",
        "*  $f_{\\mathbf{w},b}(\\mathbf{x}^{(i)})$ is the model's prediction, while $y^{(i)}$, which is the actual label\n",
        "\n",
        "*  $f_{\\mathbf{w},b}(\\mathbf{x}^{(i)}) = g(\\mathbf{w} \\cdot \\mathbf{x^{(i)}} + b)$ where function $g$ is the sigmoid function.\n",
        "\n",
        "Please complete the function loss_function that takes\n",
        "\n",
        " **X**  (input features)\n",
        "\n",
        " **y**  (class labels)\n",
        "\n",
        " **w**  (Parameters of the logistic regression model, (excluding the bias), a numpy array of the shape(1, number of features))\n",
        "\n",
        " **b**  (Bias value of the logistic regression model)\n",
        "\n",
        " You can use the Sigmoid function that you implemented above."
      ]
    },
    {
      "cell_type": "code",
      "execution_count": 18,
      "metadata": {
        "id": "h9RVguhHbEVk"
      },
      "outputs": [],
      "source": [
        "def loss_function(X, y, w, b):\n",
        "    \"\"\"\n",
        "    Computes the loss function for all the training examples\n",
        "    Args:\n",
        "            X: Input data of the shape (# of training samples, # of input features)\n",
        "            y: Target variable of the shape (# of training sample,)\n",
        "            w: Parameters of the logistic regression model (excluding the bias) of the shape (1, number of features)\n",
        "            b: Bias parameter (scalar) of the logistic regression model\n",
        "\n",
        "    Returns:\n",
        "            total_cost: The loss function value of using w and b as the parameters to fit the data points in X and y\n",
        "\n",
        "    \"\"\"\n",
        "    \n",
        "    m, n = X.shape\n",
        "\n",
        "    # Compute the predictions using the sigmoid function\n",
        "    z = np.dot(X, w) + b\n",
        "    y_pred = sigmoid(z)\n",
        "    \n",
        "    # Compute the cost using the logistic loss formula\n",
        "    cost = - (y * np.log(y_pred) + (1 - y) * np.log(1 - y_pred))\n",
        "    \n",
        "    # Compute the total cost\n",
        "    total_cost = np.sum(cost) / m\n",
        "    \n",
        "    return total_cost\n"
      ]
    },
    {
      "cell_type": "markdown",
      "metadata": {
        "id": "S9YmUPnsASYE"
      },
      "source": [
        "### 2.4. Computing the Gradient of the Loss\n",
        "\n",
        "Recall that the gradient descent algorithm is:\n",
        "\n",
        "$$\\begin{align*}& \\text{repeat until convergence:} \\; \\lbrace \\newline \\; & b := b -  \\alpha \\frac{\\partial J(\\mathbf{w},b)}{\\partial b} \\newline       \\; & w_j := w_j -  \\alpha \\frac{\\partial J(\\mathbf{w},b)}{\\partial w_j} \\tag{1}  \\; & \\text{for j := 0..n-1}\\newline & \\rbrace\\end{align*}$$\n",
        "\n",
        "where, parameters $b$, $w_j$ are all updated simultaniously\n",
        "\n",
        "In this step, you are required to complete the `compute_gradient_logistic_regression` function to compute $\\frac{\\partial J(\\mathbf{w},b)}{\\partial w}$, $\\frac{\\partial J(\\mathbf{w},b)}{\\partial b}$ from equations (2) and (3) below.\n",
        "\n",
        "$$\n",
        "\\frac{\\partial J(\\mathbf{w},b)}{\\partial b}  = \\frac{1}{m} \\sum\\limits_{i = 0}^{m-1} (f_{\\mathbf{w},b}(\\mathbf{x}^{(i)}) - \\mathbf{y}^{(i)}) \\tag{2}\n",
        "$$\n",
        "$$\n",
        "\\frac{\\partial J(\\mathbf{w},b)}{\\partial w_j}  = \\frac{1}{m} \\sum\\limits_{i = 0}^{m-1} (f_{\\mathbf{w},b}(\\mathbf{x}^{(i)}) - \\mathbf{y}^{(i)})x_{j}^{(i)} \\tag{3}\n",
        "$$\n",
        "* m is the number of training examples in the dataset\n",
        "\n",
        "    \n",
        "*  $f_{\\mathbf{w},b}(x^{(i)})$ is the model's prediction, while $y^{(i)}$ is the actual label\n",
        "\n",
        "You can use the sigmoid function that you implemented above."
      ]
    },
    {
      "cell_type": "code",
      "execution_count": 19,
      "metadata": {
        "id": "PWxbewKkbIB8"
      },
      "outputs": [],
      "source": [
        "def compute_gradient_logistic_regression(X, y, w, b):\n",
        "    \"\"\"\n",
        "    Computes the gradient values of the loss function\n",
        "    Args:\n",
        "       X: Input data of the shape (# of training samples, # of input features)\n",
        "       y: Target variable of the shape (# of training sample,)\n",
        "       w: Parameters of the logistic regression model (excluding the bias) of the shape (1, number of features)\n",
        "       b: Bias parameter of the logistic regression model of the shape (1,1) or a scaler\n",
        "    Returns:\n",
        "       dL_dw : The gradient of the cost w.r.t. the parameters w with shape same as w\n",
        "       dL_db : The gradient of the cost w.r.t. the parameter b with shape same as b\n",
        "    \"\"\"\n",
        "    m, n = X.shape\n",
        "    \n",
        "    # Compute predictions using the sigmoid function\n",
        "    z = np.dot(X, w) + b\n",
        "    y_pred = sigmoid(z)\n",
        "    \n",
        "    # Compute the gradient of the cost w.r.t. the bias\n",
        "    dL_db = np.sum(y_pred - y) / m\n",
        "    \n",
        "    # Compute the gradient of the cost w.r.t. the weights\n",
        "    dL_dw = np.dot(X.T, (y_pred - y)) / m\n",
        "    \n",
        "    return dL_db, dL_dw\n"
      ]
    },
    {
      "cell_type": "markdown",
      "metadata": {
        "id": "6ZMYX655MRFX"
      },
      "source": [
        "### 2.5. Training the model using Batch Gradient Descent\n",
        "\n",
        "Please complete the batch gradient descent algorithm for logistic regression to train and learn the parameters of the logistic regression model. You have to use ```loss_function``` and ```compute_gradient_logistic regression``` functions that you have implemented earlier in this assignment.\n",
        "\n",
        "In this ```batch_gradient_descent_logistic_regression``` function, you have to compute the gradient for the training samples and update the parameters $w$ and $b$ in every iteration:\n",
        "\n",
        "+ $w \\leftarrow w - \\alpha \\frac{\\partial L}{\\partial w}$\n",
        "\n",
        "+ $b \\leftarrow b - \\alpha \\frac{\\partial L}{\\partial b}$\n",
        "\n",
        "This function takes   ```X```    (input features),  ```y```  (class labels),  ```w_in```  (intial values of parameters(excluding bias)),  ```b_in```  (initial value for bias),  ```num_iters```   (number of iterations of training) as input.\n",
        "\n",
        "Additionally, you have compute the loss function values in every iteration and store it in the list variable ```loss_hist``` and print the loss value after every 100 iterations during the training process."
      ]
    },
    {
      "cell_type": "code",
      "execution_count": 20,
      "metadata": {
        "id": "JOi07RVNbL_7"
      },
      "outputs": [],
      "source": [
        "def batch_gradient_descent_logistic_regression(X, y, w_in, b_in, alpha, num_iters, printFlag = False):\n",
        "    \"\"\"\n",
        "    Batch gradient descent to learn the parameters (w and b) of the linear regression model and to print loss values\n",
        "    every 100 iterations\n",
        "\n",
        "    Args:\n",
        "        X: Input data of the shape (# of training samples, # of input features)\n",
        "        y: Target variable of the shape (# of training sample,)\n",
        "        w_in: Initial parameters of the logistic regression model (excluding the bias) of the shape (1, number of features)\n",
        "        b_in: Initial bias parameter (scalar) of the logistic regression model\n",
        "        alpha: Learning rate\n",
        "        num_iters: number of iterations\n",
        "    Returns\n",
        "        w: Updated values of parameters of the model after training\n",
        "        b: Updated bias of the model after training\n",
        "        loss_hist: List of loss values for every iteration\n",
        "    \"\"\"\n",
        "    w = np.copy(w_in)\n",
        "    b = b_in\n",
        "\n",
        "    loss_hist = []\n",
        "\n",
        "    for i in range(num_iters):\n",
        "        # Compute the gradients\n",
        "        dL_db, dL_dw = compute_gradient_logistic_regression(X, y, w, b)\n",
        "\n",
        "        # Update the parameters\n",
        "        w -= alpha * dL_dw\n",
        "        b -= alpha * dL_db\n",
        "\n",
        "        # Compute the loss and store it\n",
        "        loss = loss_function(X, y, w, b)\n",
        "        loss_hist.append(loss)\n",
        "\n",
        "        # Print the loss every 100 iterations\n",
        "        if printFlag and i % 100 == 0:\n",
        "            print(f\"Iteration {i}: Loss = {loss}\")\n",
        "\n",
        "    return w, b, loss_hist\n"
      ]
    },
    {
      "cell_type": "markdown",
      "metadata": {
        "id": "3yeLdzT9-5Wc"
      },
      "source": [
        "Now you have to intialize the model parameters ($w$ and $b$) and learning rate (```alpha```). The learning rate ```alpha``` has to be randomly initialized between 0.01 and 0.09. To randomly initialize the learning rate, you have to first set the last two digits of your roll number as the random seed using ```random.seed()``` function."
      ]
    },
    {
      "cell_type": "code",
      "execution_count": 21,
      "metadata": {
        "id": "MIBltyJh-Tjk"
      },
      "outputs": [],
      "source": [
        "# set the last two digits of your roll number as the random seed\n",
        "random_seed = 71\n",
        "random.seed(random_seed)\n",
        "np.random.seed(random_seed)\n",
        "\n",
        "def initialize_parameters(num_features):\n",
        "    \"\"\"\n",
        "    This function randomly initializes the model parameters (w and b) and the hyperparameter alpha.\n",
        "    Initial w and b are sampled from a normal distribution with mean 0.\n",
        "    Alpha is randomly initialized between 0.01 and 0.09.\n",
        "\n",
        "    Args:\n",
        "        num_features: Number of features in the dataset.\n",
        "\n",
        "    Returns:\n",
        "        initial_w: Initial parameters of the logistic regression model (excluding the bias) of shape (num_features,).\n",
        "        initial_b: Initial bias parameter (scalar) of the logistic regression model.\n",
        "        alpha: Learning rate.\n",
        "    \"\"\"\n",
        "\n",
        "    # Randomly initialize parameters w and b\n",
        "    initial_w = np.random.normal(0, 1, num_features)\n",
        "    initial_b = np.random.normal(0, 1)\n",
        "    \n",
        "    # Randomly initialize alpha between 0.01 and 0.09\n",
        "    alpha = random.uniform(0.01, 0.09)\n",
        "\n",
        "    return initial_w, initial_b, alpha\n"
      ]
    },
    {
      "cell_type": "markdown",
      "metadata": {
        "id": "KT5CbQ8dZS_J"
      },
      "source": [
        "The following cell runs the batch gradient algorithm for\n",
        "```num_iterations=1000``` to train the logistic regression model. You can change the number of iterations to check any improvements in the performance"
      ]
    },
    {
      "cell_type": "code",
      "execution_count": 22,
      "metadata": {
        "id": "KFTZi7pkbOdp"
      },
      "outputs": [
        {
          "name": "stdout",
          "output_type": "stream",
          "text": [
            "Iteration 0: Loss = 0.7474725983480304\n",
            "Iteration 100: Loss = 0.6807320129330692\n",
            "Iteration 200: Loss = 0.6451225966787664\n",
            "Iteration 300: Loss = 0.6150371891324535\n",
            "Iteration 400: Loss = 0.5895061932581874\n",
            "Iteration 500: Loss = 0.5677155496232856\n",
            "Iteration 600: Loss = 0.5489944820970061\n",
            "Iteration 700: Loss = 0.5327986370093635\n",
            "Iteration 800: Loss = 0.5186896030859068\n",
            "Iteration 900: Loss = 0.5063151075099972\n",
            "Optimized parameter values w: [-0.13512646 -0.48585181  0.6739125  -0.44162182 -0.1682412   0.84331902\n",
            "  1.70991658 -1.25211161 -0.49966957 -2.35523088  0.97048908]\n",
            "Optimized parameter value b: 0.9514887122860507\n"
          ]
        }
      ],
      "source": [
        "num_features = X_train.shape[1]  # Number of features in the dataset\n",
        "initial_w, initial_b, alpha = initialize_parameters(num_features)\n",
        "num_iterations = 1000\n",
        "\n",
        "# Train the logistic regression model using batch gradient descent\n",
        "w, b, loss_hist = batch_gradient_descent_logistic_regression(X_train, y_train, initial_w, initial_b, alpha, num_iterations, True)\n",
        "\n",
        "# Print the optimized parameter values\n",
        "print(\"Optimized parameter values w:\", w)\n",
        "print(\"Optimized parameter value b:\", b)"
      ]
    },
    {
      "cell_type": "markdown",
      "metadata": {
        "id": "pYP0-YUyY50x"
      },
      "source": [
        "### 2.6. Final Train and Test Accuracy\n",
        "After the logistic regression model is trained, we will predict the class labels for the training set and test set and we will compute the accuracy.\n",
        "\n",
        "Please complete the `predict` function to produce `1` or `0` predictions given a dataset and a learned parameter vector $w$ and $b$.\n",
        "- First you need to compute the prediction from the model $f(x^{(i)}) = g(w \\cdot x^{(i)})$ for every example\n",
        "\n",
        "- We interpret the output of the model ($f(x^{(i)})$) as the probability that $y^{(i)}=1$ given $x^{(i)}$ and parameterized by $w$.\n",
        "- Therefore, to get a final prediction ($y^{(i)}=0$ or $y^{(i)}=1$) from the logistic regression model, you can use the following heuristic -\n",
        "\n",
        "  if $f(x^{(i)}) >= 0.5$, predict $y^{(i)}=1$\n",
        "  \n",
        "  if $f(x^{(i)}) < 0.5$, predict $y^{(i)}=0$"
      ]
    },
    {
      "cell_type": "code",
      "execution_count": 23,
      "metadata": {
        "id": "mZDUV2iwbQ_R"
      },
      "outputs": [],
      "source": [
        "def predict(X, w, b):\n",
        "    m, n = X.shape\n",
        "    p = np.zeros(m)\n",
        "\n",
        "    # Compute the model's prediction f(x) = g(w . x + b)\n",
        "    z = np.dot(X, w) + b\n",
        "    f_x = sigmoid(z)\n",
        "\n",
        "    # Convert probabilities to binary predictions\n",
        "    p = (f_x >= 0.5).astype(int)\n",
        "\n",
        "    return p\n"
      ]
    },
    {
      "cell_type": "markdown",
      "metadata": {
        "id": "zsrATkIy2KVy"
      },
      "source": [
        "Now let's use this to compute the accuracy on the training and test datasets"
      ]
    },
    {
      "cell_type": "code",
      "execution_count": 24,
      "metadata": {
        "id": "UMmh6WdFbU9Y"
      },
      "outputs": [
        {
          "name": "stdout",
          "output_type": "stream",
          "text": [
            "Train Accuracy: 84.266667\n",
            "Test Accuracy: 84.960000\n"
          ]
        }
      ],
      "source": [
        "p_train = predict(X_train, w,b)\n",
        "print('Train Accuracy: %f'%(np.mean(p_train == y_train) * 100))\n",
        "p_test = predict(X_test, w,b)\n",
        "print('Test Accuracy: %f'%(np.mean(p_test == y_test) * 100))"
      ]
    },
    {
      "cell_type": "markdown",
      "metadata": {
        "id": "B0VqjFy9ZK7D"
      },
      "source": [
        "Now, we plot the loss function values for every iteration."
      ]
    },
    {
      "cell_type": "code",
      "execution_count": 25,
      "metadata": {
        "id": "fkmP3XHMTW74"
      },
      "outputs": [
        {
          "data": {
            "image/png": "[encoded data removed]",
            "text/plain": [
              "<Figure size 640x480 with 1 Axes>"
            ]
          },
          "metadata": {},
          "output_type": "display_data"
        }
      ],
      "source": [
        "# PLotting the loss values for every training iterations\n",
        "\n",
        "loss_plot = [loss_hist[i] for i in range(len(loss_hist))]\n",
        "plt.xlabel(\"Iterations\")\n",
        "plt.ylabel(\"Loss function\")\n",
        "plt.plot(loss_plot)\n",
        "plt.show()"
      ]
    },
    {
      "cell_type": "markdown",
      "metadata": {
        "id": "JgKAU9RBEUlL"
      },
      "source": [
        "### 2.7 Experimenting with different values of the Hyperparemeters\n",
        "\n",
        "Previously, we randomly sampled the learning rate and the number of features to train the model. Now, you have to manually choose the number of features and the learning rate. Then, you have to train the model again on the manually choosen hyperparameters (number of features and learning rate). In the next cell, you have to manually choose the hyperparameters and write the code to train the model.\n",
        "\n",
        "After the model is trained, you have to compare the performance of the model with random chosen hyperparameters and the model **with** manually chosen hyperparameters."
      ]
    },
    {
      "cell_type": "code",
      "execution_count": 26,
      "metadata": {
        "id": "xMcc3cuvIbD_"
      },
      "outputs": [
        {
          "name": "stdout",
          "output_type": "stream",
          "text": [
            "\n",
            "Performance with Manual Hyperparameters:\n",
            "Train Accuracy: 84.16%\n",
            "Test Accuracy: 86.08%\n",
            "\n",
            "Performance with Random Hyperparameters:\n",
            "Train Accuracy: 84.27%\n",
            "Test Accuracy: 84.96%\n",
            "\n",
            "Train Accuracy Improvement: 0.13% (Random performed better)\n",
            "Test Accuracy Improvement: 1.32% (Manual performed better)\n"
          ]
        }
      ],
      "source": [
        "no_of_features = 10\n",
        "alpha = 0.1\n",
        "X = X[:, :no_of_features]\n",
        "X_train, X_test, y_train, y_test = train_test_split(X, y, test_size=0.25, random_state=42)\n",
        "\n",
        "# Training the model with manually chosen hyperparameters\n",
        "initial_w = np.random.normal(0, 1, no_of_features)\n",
        "initial_b = np.random.normal(0, 1)\n",
        "\n",
        "w, b, loss_hist = batch_gradient_descent_logistic_regression(X_train, y_train, initial_w, initial_b, alpha, num_iterations)\n",
        "\n",
        "# Calculate and print the accuracy with manually chosen hyperparameters\n",
        "p_train_manual = predict(X_train, w, b)\n",
        "p_test_manual = predict(X_test, w, b)\n",
        "train_accuracy_manual = np.mean(p_train_manual == y_train) * 100\n",
        "test_accuracy_manual = np.mean(p_test_manual == y_test) * 100\n",
        "\n",
        "\n",
        "print(\"\\nPerformance with Manual Hyperparameters:\")\n",
        "print(f\"Train Accuracy: {train_accuracy_manual:.2f}%\")\n",
        "print(f\"Test Accuracy: {test_accuracy_manual:.2f}%\")\n",
        "\n",
        "train_accuracy_random = np.mean(p_train == y_train) * 100\n",
        "test_accuracy_random = np.mean(p_test == y_test) * 100\n",
        "\n",
        "print(\"\\nPerformance with Random Hyperparameters:\")\n",
        "print(f\"Train Accuracy: {train_accuracy_random:.2f}%\")\n",
        "print(f\"Test Accuracy: {test_accuracy_random:.2f}%\")\n",
        "\n",
        "# Calculate percentage improvement for training accuracy\n",
        "train_accuracy_improvement = ((train_accuracy_manual - train_accuracy_random) / train_accuracy_random) * 100\n",
        "\n",
        "# Calculate percentage improvement for testing accuracy\n",
        "test_accuracy_improvement = ((test_accuracy_manual - test_accuracy_random) / test_accuracy_random) * 100\n",
        "\n",
        "# Determine which performed better for training accuracy\n",
        "train_perf = \"Manual\" if train_accuracy_improvement > 0 else \"Random\"\n",
        "print(f\"\\nTrain Accuracy Improvement: {abs(train_accuracy_improvement):.2f}% ({train_perf} performed better)\")\n",
        "\n",
        "# Determine which performed better for testing accuracy\n",
        "test_perf = \"Manual\" if test_accuracy_improvement > 0 else \"Random\"\n",
        "print(f\"Test Accuracy Improvement: {abs(test_accuracy_improvement):.2f}% ({test_perf} performed better)\")"
      ]
    }
  ],
  "metadata": {
    "colab": {
      "provenance": []
    },
    "kernelspec": {
      "display_name": "Python 3 (ipykernel)",
      "language": "python",
      "name": "python3"
    },
    "language_info": {
      "codemirror_mode": {
        "name": "ipython",
        "version": 3
      },
      "file_extension": ".py",
      "mimetype": "text/x-python",
      "name": "python",
      "nbconvert_exporter": "python",
      "pygments_lexer": "ipython3",
      "version": "3.12.4"
    }
  },
  "nbformat": 4,
  "nbformat_minor": 0
}
