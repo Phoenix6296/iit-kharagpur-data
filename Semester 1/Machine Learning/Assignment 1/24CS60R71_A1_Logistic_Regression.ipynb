{
 "cells": [
  {
   "cell_type": "code",
   "execution_count": 126,
   "metadata": {},
   "outputs": [],
   "source": [
    "import numpy as np\n",
    "import pandas as pd\n",
    "import matplotlib.pyplot as plt\n",
    "from scipy.special import logsumexp\n",
    "import copy\n",
    "import math\n",
    "import random"
   ]
  },
  {
   "cell_type": "code",
   "execution_count": 127,
   "metadata": {},
   "outputs": [
    {
     "name": "stdout",
     "output_type": "stream",
     "text": [
      "Shape of X:  (2500, 12) Shape of y:  (2500,)\n"
     ]
    }
   ],
   "source": [
    "def load_data(filepath):\n",
    "    df = pd.read_csv(filepath)\n",
    "    \n",
    "    X = df.drop('Class', axis=1).values\n",
    "    y = df['Class'].values\n",
    "    \n",
    "    unique_classes = np.unique(y)\n",
    "    class_map = {label: idx for idx, label in enumerate(unique_classes)}\n",
    "    y = np.array([class_map[label] for label in y])\n",
    "\n",
    "    return X, y\n",
    "\n",
    "filepath = 'Pumpkin_Seeds_Dataset.csv'\n",
    "\n",
    "X, y = load_data(filepath)\n",
    "\n",
    "print(\"Shape of X: \",X.shape, \"Shape of y: \",y.shape)"
   ]
  },
  {
   "cell_type": "code",
   "execution_count": 128,
   "metadata": {},
   "outputs": [
    {
     "name": "stdout",
     "output_type": "stream",
     "text": [
      "Shape of X:  (2500, 11) Shape of y:  (2500,)\n"
     ]
    }
   ],
   "source": [
    "def random_feature_selection(X):\n",
    "    np.random.seed(71)\n",
    "    r = np.random.randint(8, 13)\n",
    "    X_new = X[:, :r]\n",
    "\n",
    "    return X_new\n",
    "\n",
    "X = random_feature_selection(X)\n",
    "print(\"Shape of X: \", X.shape, \"Shape of y: \", y.shape)"
   ]
  },
  {
   "cell_type": "code",
   "execution_count": 129,
   "metadata": {},
   "outputs": [
    {
     "name": "stdout",
     "output_type": "stream",
     "text": [
      "Shape of X_train:  (1875, 11) Shape of y_train:  (1875,)\n",
      "Shape of X_test:  (625, 11) Shape of y_test:  (625,)\n"
     ]
    }
   ],
   "source": [
    "def train_test_split(X, y, test_size=0.25, random_state=None):\n",
    "    if random_state is not None:\n",
    "        np.random.seed(random_state)\n",
    "    indices = np.arange(X.shape[0])\n",
    "    np.random.shuffle(indices)\n",
    "\n",
    "    split_index = int(X.shape[0] * (1 - test_size))\n",
    "\n",
    "    train_indices = indices[:split_index]\n",
    "    test_indices = indices[split_index:]\n",
    "\n",
    "    X_train = X[train_indices]\n",
    "    X_test = X[test_indices]\n",
    "    y_train = y[train_indices]\n",
    "    y_test = y[test_indices]\n",
    "\n",
    "    return X_train, X_test, y_train, y_test\n",
    "\n",
    "def min_max_scaler(X, feature_range=(0, 1)):\n",
    "    X_min = np.min(X, axis=0)\n",
    "    X_max = np.max(X, axis=0)\n",
    "\n",
    "    X_scaled = (X-X_min)/(X_max-X_min)\n",
    "\n",
    "    return X_scaled\n",
    "\n",
    "X = min_max_scaler(X)\n",
    "X_train, X_test, y_train, y_test = train_test_split(X, y, test_size=0.25, random_state=42)\n",
    "print(\"Shape of X_train: \",X_train.shape, \"Shape of y_train: \",y_train.shape)\n",
    "print(\"Shape of X_test: \",X_test.shape, \"Shape of y_test: \",y_test.shape)"
   ]
  },
  {
   "cell_type": "code",
   "execution_count": 130,
   "metadata": {},
   "outputs": [],
   "source": [
    "def sigmoid(z):\n",
    "    z = z.astype(float)\n",
    "    g = 1 / (1 + np.exp(-z))\n",
    "    \n",
    "    return g\n"
   ]
  },
  {
   "cell_type": "code",
   "execution_count": 131,
   "metadata": {},
   "outputs": [],
   "source": [
    "def loss_function(X, y, w, b):\n",
    "    m, n = X.shape\n",
    "\n",
    "    z = np.dot(X, w) + b\n",
    "    y_pred = sigmoid(z)\n",
    "    \n",
    "    cost = - (y * np.log(y_pred) + (1 - y) * np.log(1 - y_pred))\n",
    "    \n",
    "    total_cost = np.sum(cost) / m\n",
    "    \n",
    "    return total_cost\n"
   ]
  },
  {
   "cell_type": "code",
   "execution_count": 132,
   "metadata": {},
   "outputs": [],
   "source": [
    "def compute_gradient_logistic_regression(X, y, w, b):\n",
    "    m, n = X.shape\n",
    "    z = np.dot(X, w) + b\n",
    "    y_pred = sigmoid(z)\n",
    "    dL_db = np.sum(y_pred - y) / m\n",
    "    dL_dw = np.dot(X.T, (y_pred - y)) / m\n",
    "    return dL_db, dL_dw\n"
   ]
  },
  {
   "cell_type": "code",
   "execution_count": 133,
   "metadata": {},
   "outputs": [],
   "source": [
    "def batch_gradient_descent_logistic_regression(X, y, w_in, b_in, alpha, num_iters, printFlag = False):\n",
    "    w = np.copy(w_in)\n",
    "    b = b_in\n",
    "\n",
    "    loss_hist = []\n",
    "\n",
    "    for i in range(num_iters):\n",
    "        dL_db, dL_dw = compute_gradient_logistic_regression(X, y, w, b)\n",
    "\n",
    "        w -= alpha * dL_dw\n",
    "        b -= alpha * dL_db\n",
    "\n",
    "        loss = loss_function(X, y, w, b)\n",
    "        loss_hist.append(loss)\n",
    "\n",
    "        if printFlag and i % 100 == 0:\n",
    "            print(f\"Iteration {i}: Loss = {loss}\")\n",
    "\n",
    "    return w, b, loss_hist\n"
   ]
  },
  {
   "cell_type": "code",
   "execution_count": 134,
   "metadata": {},
   "outputs": [],
   "source": [
    "random_seed = 71\n",
    "random.seed(random_seed)\n",
    "np.random.seed(random_seed)\n",
    "\n",
    "def initialize_parameters(num_features):\n",
    "    initial_w = np.random.normal(0, 1, num_features)\n",
    "    initial_b = np.random.normal(0, 1)\n",
    "    alpha = random.uniform(0.01, 0.09)\n",
    "    return initial_w, initial_b, alpha\n"
   ]
  },
  {
   "cell_type": "code",
   "execution_count": 135,
   "metadata": {},
   "outputs": [
    {
     "name": "stdout",
     "output_type": "stream",
     "text": [
      "Iteration 0: Loss = 0.7474725983480304\n",
      "Iteration 100: Loss = 0.6807320129330692\n"
     ]
    },
    {
     "name": "stdout",
     "output_type": "stream",
     "text": [
      "Iteration 200: Loss = 0.6451225966787664\n",
      "Iteration 300: Loss = 0.6150371891324535\n",
      "Iteration 400: Loss = 0.5895061932581874\n",
      "Iteration 500: Loss = 0.5677155496232856\n",
      "Iteration 600: Loss = 0.5489944820970061\n",
      "Iteration 700: Loss = 0.5327986370093635\n",
      "Iteration 800: Loss = 0.5186896030859068\n",
      "Iteration 900: Loss = 0.5063151075099972\n",
      "Optimized parameter values w: [-0.13512646 -0.48585181  0.6739125  -0.44162182 -0.1682412   0.84331902\n",
      "  1.70991658 -1.25211161 -0.49966957 -2.35523088  0.97048908]\n",
      "Optimized parameter value b: 0.9514887122860507\n"
     ]
    }
   ],
   "source": [
    "num_features = X_train.shape[1]\n",
    "initial_w, initial_b, alpha = initialize_parameters(num_features)\n",
    "num_iterations = 1000\n",
    "\n",
    "w, b, loss_hist = batch_gradient_descent_logistic_regression(X_train, y_train, initial_w, initial_b, alpha, num_iterations, True)\n",
    "\n",
    "print(\"Optimized parameter values w:\", w)\n",
    "print(\"Optimized parameter value b:\", b)"
   ]
  },
  {
   "cell_type": "code",
   "execution_count": 136,
   "metadata": {},
   "outputs": [],
   "source": [
    "def predict(X, w, b):\n",
    "    m, n = X.shape\n",
    "    p = np.zeros(m)\n",
    "    z = np.dot(X, w) + b\n",
    "    f_x = sigmoid(z)\n",
    "    p = (f_x >= 0.5).astype(int)\n",
    "\n",
    "    return p"
   ]
  },
  {
   "cell_type": "code",
   "execution_count": 137,
   "metadata": {},
   "outputs": [
    {
     "name": "stdout",
     "output_type": "stream",
     "text": [
      "Train Accuracy: 84.266667\n",
      "Test Accuracy: 84.960000\n"
     ]
    }
   ],
   "source": [
    "p_train = predict(X_train, w,b)\n",
    "print('Train Accuracy: %f'%(np.mean(p_train == y_train) * 100))\n",
    "p_test = predict(X_test, w,b)\n",
    "print('Test Accuracy: %f'%(np.mean(p_test == y_test) * 100))"
   ]
  },
  {
   "cell_type": "code",
   "execution_count": 138,
   "metadata": {},
   "outputs": [
    {
     "data": {
      "image/png": "[encoded data removed]",
      "text/plain": [
       "<Figure size 640x480 with 1 Axes>"
      ]
     },
     "metadata": {},
     "output_type": "display_data"
    }
   ],
   "source": [
    "loss_plot = [loss_hist[i] for i in range(len(loss_hist))]\n",
    "plt.xlabel(\"Iterations\")\n",
    "plt.ylabel(\"Loss function\")\n",
    "plt.plot(loss_plot)\n",
    "plt.show()"
   ]
  },
  {
   "cell_type": "code",
   "execution_count": 139,
   "metadata": {},
   "outputs": [
    {
     "name": "stdout",
     "output_type": "stream",
     "text": [
      "\n",
      "Performance with Manual Hyperparameters:\n",
      "Train Accuracy: 84.16%\n",
      "Test Accuracy: 86.08%\n",
      "\n",
      "Performance with Random Hyperparameters:\n",
      "Train Accuracy: 84.27%\n",
      "Test Accuracy: 84.96%\n",
      "\n",
      "Train Accuracy Improvement: 0.13% (Random performed better)\n",
      "Test Accuracy Improvement: 1.32% (Manual performed better)\n"
     ]
    },
    {
     "data": {
      "image/png": "[encoded data removed]",
      "text/plain": [
       "<Figure size 1000x600 with 1 Axes>"
      ]
     },
     "metadata": {},
     "output_type": "display_data"
    }
   ],
   "source": [
    "no_of_features = 10\n",
    "alpha = 0.1\n",
    "num_iterations = 1000\n",
    "\n",
    "X = X[:, :no_of_features]\n",
    "X_train, X_test, y_train, y_test = train_test_split(X, y, test_size=0.25, random_state=42)\n",
    "\n",
    "# Training the model with manually chosen hyperparameters\n",
    "initial_w = np.random.normal(0, 1, no_of_features)\n",
    "initial_b = np.random.normal(0, 1)\n",
    "\n",
    "w, b, loss_hist = batch_gradient_descent_logistic_regression(X_train, y_train, initial_w, initial_b, alpha, num_iterations)\n",
    "\n",
    "# Calculate and print the accuracy with manually chosen hyperparameters\n",
    "p_train_manual = predict(X_train, w, b)\n",
    "p_test_manual = predict(X_test, w, b)\n",
    "train_accuracy_manual = np.mean(p_train_manual == y_train) * 100\n",
    "test_accuracy_manual = np.mean(p_test_manual == y_test) * 100\n",
    "\n",
    "print(\"\\nPerformance with Manual Hyperparameters:\")\n",
    "print(f\"Train Accuracy: {train_accuracy_manual:.2f}%\")\n",
    "print(f\"Test Accuracy: {test_accuracy_manual:.2f}%\")\n",
    "\n",
    "train_accuracy_random = np.mean(p_train == y_train) * 100\n",
    "test_accuracy_random = np.mean(p_test == y_test) * 100\n",
    "\n",
    "print(\"\\nPerformance with Random Hyperparameters:\")\n",
    "print(f\"Train Accuracy: {train_accuracy_random:.2f}%\")\n",
    "print(f\"Test Accuracy: {test_accuracy_random:.2f}%\")\n",
    "\n",
    "# Calculate percentage improvement for training accuracy\n",
    "train_accuracy_improvement = ((train_accuracy_manual - train_accuracy_random) / train_accuracy_random) * 100\n",
    "\n",
    "# Calculate percentage improvement for testing accuracy\n",
    "test_accuracy_improvement = ((test_accuracy_manual - test_accuracy_random) / test_accuracy_random) * 100\n",
    "\n",
    "# Determine which performed better for training accuracy\n",
    "train_perf = \"Manual\" if train_accuracy_improvement > 0 else \"Random\"\n",
    "print(f\"\\nTrain Accuracy Improvement: {abs(train_accuracy_improvement):.2f}% ({train_perf} performed better)\")\n",
    "\n",
    "# Determine which performed better for testing accuracy\n",
    "test_perf = \"Manual\" if test_accuracy_improvement > 0 else \"Random\"\n",
    "print(f\"Test Accuracy Improvement: {abs(test_accuracy_improvement):.2f}% ({test_perf} performed better)\")\n",
    "\n",
    "# Plotting the loss history with manually chosen hyperparameters\n",
    "plt.figure(figsize=(10, 6))\n",
    "plt.plot(loss_hist, label='Loss with Manual Hyperparameters', color='orange')\n",
    "plt.xlabel(\"Iterations\")\n",
    "plt.ylabel(\"Loss Function\")\n",
    "plt.title(\"Loss Function During Training with Manual Hyperparameters\")\n",
    "plt.legend()\n",
    "plt.show()"
   ]
  }
 ],
 "metadata": {
  "kernelspec": {
   "display_name": "demo",
   "language": "python",
   "name": "python3"
  },
  "language_info": {
   "codemirror_mode": {
    "name": "ipython",
    "version": 3
   },
   "file_extension": ".py",
   "mimetype": "text/x-python",
   "name": "python",
   "nbconvert_exporter": "python",
   "pygments_lexer": "ipython3",
   "version": "3.12.4"
  }
 },
 "nbformat": 4,
 "nbformat_minor": 2
}
